{
 "cells": [
  {
   "cell_type": "markdown",
   "metadata": {},
   "source": [
    "# Project 4 / Logistic Regression and Indeed.com\n",
    "\n",
    "\n",
    "### Description\n",
    "\n",
    "You're working as a data scientist for a contracting firm that's rapidly expanding. Now that they have their most valuable employee (you!), they need to leverage data to win more contracts. Your firm offers technology and scientific solutions and wants to be competitive in the hiring market. Your principal thinks the best way to gauge salary amounts is to take a look at what industry factors influence the pay scale for these professionals.\n",
    "\n",
    "Aggregators like Indeed.com regularly pool job postings from a variety of markets and industries. Your job is to understand what factors most directly impact data science salaries and effectively, accurately find appropriate data science related jobs in your metro region.\n",
    "\n",
    "### Project Summary\n",
    "\n",
    "In this project, we are going to collect salary information on data science jobs in a variety of markets. Then using the location, title, and summary of the job, we will attempt to predict a corresponding salary for that job. While most listings DO NOT come with salary information (as you will see in this exercise), being able extrapolate or predict the expected salaries for other listings will be extremely useful for negotiations\n",
    "\n",
    "### Project Objectives\n",
    "    1. Inspect data from Indeed.com on data science salary trends for your analysis.\n",
    "    2. Select and parse data from at least 1000 postings for jobs, potentially from multiple location searches.\n",
    "    3. Find out what factors most directly impact salaries (Title, location, department, etc.). In this case, we do  not want to predict mean salary as would be done in a regression. Your boss believes that salary is better represented in categories than continuously\n",
    "    4. Test, validate, and describe your models. What factors predict salary category? How do your models perform?\n",
    "    5. Author a report to your Principal detailing your analysis."
   ]
  },
  {
   "cell_type": "markdown",
   "metadata": {},
   "source": [
    "## Step 1: Load the Packages and Data"
   ]
  },
  {
   "cell_type": "code",
   "execution_count": 1,
   "metadata": {
    "collapsed": false
   },
   "outputs": [
    {
     "name": "stderr",
     "output_type": "stream",
     "text": [
      "//anaconda/lib/python2.7/site-packages/matplotlib/__init__.py:878: UserWarning: axes.color_cycle is deprecated and replaced with axes.prop_cycle; please use the latter.\n",
      "  warnings.warn(self.msg_depr % (key, alt_key))\n",
      "//anaconda/lib/python2.7/site-packages/sklearn/cross_validation.py:44: DeprecationWarning: This module was deprecated in version 0.18 in favor of the model_selection module into which all the refactored classes and functions are moved. Also note that the interface of the new CV iterators are different from that of this module. This module will be removed in 0.20.\n",
      "  \"This module will be removed in 0.20.\", DeprecationWarning)\n"
     ]
    }
   ],
   "source": [
    "import re\n",
    "import itertools\n",
    "import numpy as np\n",
    "import pandas as pd\n",
    "import seaborn as sns\n",
    "import matplotlib.pyplot as plt\n",
    "import statsmodels.formula.api as sm\n",
    "%matplotlib inline\n",
    "\n",
    "from sklearn.svm import SVC\n",
    "from sklearn.metrics import confusion_matrix\n",
    "from sklearn.feature_selection import RFE, RFECV\n",
    "from sklearn.linear_model import LogisticRegression\n",
    "from sklearn.cross_validation import train_test_split, KFold\n",
    "from sklearn.model_selection import GridSearchCV, StratifiedKFold"
   ]
  },
  {
   "cell_type": "code",
   "execution_count": 2,
   "metadata": {
    "collapsed": false
   },
   "outputs": [
    {
     "data": {
      "text/html": [
       "<div>\n",
       "<table border=\"1\" class=\"dataframe\">\n",
       "  <thead>\n",
       "    <tr style=\"text-align: right;\">\n",
       "      <th></th>\n",
       "      <th>city</th>\n",
       "      <th>company</th>\n",
       "      <th>salary</th>\n",
       "      <th>summary</th>\n",
       "      <th>title</th>\n",
       "      <th>parsed_salary</th>\n",
       "    </tr>\n",
       "  </thead>\n",
       "  <tbody>\n",
       "    <tr>\n",
       "      <th>0</th>\n",
       "      <td>Denver</td>\n",
       "      <td>Department Of The Interior</td>\n",
       "      <td>$76,341 - $99,243 a year</td>\n",
       "      <td>Would you like to join the more than 10,000 sc...</td>\n",
       "      <td>Statistician, GS-1350-12 (DEU-PERM-DS)</td>\n",
       "      <td>87792.0</td>\n",
       "    </tr>\n",
       "    <tr>\n",
       "      <th>1</th>\n",
       "      <td>Denver</td>\n",
       "      <td>Department Of The Interior</td>\n",
       "      <td>$71,012 - $99,243 a year</td>\n",
       "      <td>Investigate potential uses of geospatial data ...</td>\n",
       "      <td>Interdisciplinary Cartographer/Geographer - GS...</td>\n",
       "      <td>85127.5</td>\n",
       "    </tr>\n",
       "    <tr>\n",
       "      <th>2</th>\n",
       "      <td>Denver</td>\n",
       "      <td>Mental Health Center of Denver</td>\n",
       "      <td>$70,000 - $80,000 a year</td>\n",
       "      <td>Advise the Data Developer with regard to creat...</td>\n",
       "      <td>Financial Data Scientist</td>\n",
       "      <td>75000.0</td>\n",
       "    </tr>\n",
       "    <tr>\n",
       "      <th>3</th>\n",
       "      <td>Denver</td>\n",
       "      <td>Denver Public Schools</td>\n",
       "      <td>$62,712 - $75,255 a year</td>\n",
       "      <td>Portal managers on student outcome data report...</td>\n",
       "      <td>SENIOR RESEARCH ANALYST</td>\n",
       "      <td>68983.5</td>\n",
       "    </tr>\n",
       "    <tr>\n",
       "      <th>4</th>\n",
       "      <td>Denver</td>\n",
       "      <td>University of Colorado</td>\n",
       "      <td>$25,000 - $29,000 a year</td>\n",
       "      <td>Experience entering and manipulating data in a...</td>\n",
       "      <td>Animal Care I</td>\n",
       "      <td>27000.0</td>\n",
       "    </tr>\n",
       "  </tbody>\n",
       "</table>\n",
       "</div>"
      ],
      "text/plain": [
       "     city                         company                    salary  \\\n",
       "0  Denver      Department Of The Interior  $76,341 - $99,243 a year   \n",
       "1  Denver      Department Of The Interior  $71,012 - $99,243 a year   \n",
       "2  Denver  Mental Health Center of Denver  $70,000 - $80,000 a year   \n",
       "3  Denver           Denver Public Schools  $62,712 - $75,255 a year   \n",
       "4  Denver          University of Colorado  $25,000 - $29,000 a year   \n",
       "\n",
       "                                             summary  \\\n",
       "0  Would you like to join the more than 10,000 sc...   \n",
       "1  Investigate potential uses of geospatial data ...   \n",
       "2  Advise the Data Developer with regard to creat...   \n",
       "3  Portal managers on student outcome data report...   \n",
       "4  Experience entering and manipulating data in a...   \n",
       "\n",
       "                                               title  parsed_salary  \n",
       "0             Statistician, GS-1350-12 (DEU-PERM-DS)        87792.0  \n",
       "1  Interdisciplinary Cartographer/Geographer - GS...        85127.5  \n",
       "2                           Financial Data Scientist        75000.0  \n",
       "3                            SENIOR RESEARCH ANALYST        68983.5  \n",
       "4                                      Animal Care I        27000.0  "
      ]
     },
     "execution_count": 2,
     "metadata": {},
     "output_type": "execute_result"
    }
   ],
   "source": [
    "file_loc = \"data/indeed-scraped-job-postings.csv\"\n",
    "\n",
    "df = pd.read_csv(file_loc)\n",
    "df.head()"
   ]
  },
  {
   "cell_type": "code",
   "execution_count": 3,
   "metadata": {
    "collapsed": false
   },
   "outputs": [
    {
     "name": "stdout",
     "output_type": "stream",
     "text": [
      "<class 'pandas.core.frame.DataFrame'>\n",
      "RangeIndex: 413 entries, 0 to 412\n",
      "Data columns (total 6 columns):\n",
      "city             413 non-null object\n",
      "company          413 non-null object\n",
      "salary           413 non-null object\n",
      "summary          413 non-null object\n",
      "title            413 non-null object\n",
      "parsed_salary    406 non-null float64\n",
      "dtypes: float64(1), object(5)\n",
      "memory usage: 19.4+ KB\n"
     ]
    }
   ],
   "source": [
    "df.info()"
   ]
  },
  {
   "cell_type": "markdown",
   "metadata": {},
   "source": [
    "**Note:** There are some missing entries in the `parsed_salary` column"
   ]
  },
  {
   "cell_type": "code",
   "execution_count": 4,
   "metadata": {
    "collapsed": false
   },
   "outputs": [
    {
     "data": {
      "text/plain": [
       "(413, 6)"
      ]
     },
     "execution_count": 4,
     "metadata": {},
     "output_type": "execute_result"
    }
   ],
   "source": [
    "df.shape"
   ]
  },
  {
   "cell_type": "markdown",
   "metadata": {},
   "source": [
    "## Step 2: Clean the data"
   ]
  },
  {
   "cell_type": "code",
   "execution_count": 5,
   "metadata": {
    "collapsed": false
   },
   "outputs": [],
   "source": [
    "# Delete 'salary' and 'summary' column\n",
    "del df['salary']\n",
    "del df['summary']\n",
    "\n",
    "# Rename 'parsed_salary' to 'average salary'\n",
    "df.rename(columns=lambda x: x.replace('parsed_salary', 'average_salary'), inplace=True)\n",
    "\n",
    "# Drop any NaNs. These values are from the hourly or contract-work jobs, which I will emit.\n",
    "df.dropna(inplace=True)"
   ]
  },
  {
   "cell_type": "code",
   "execution_count": 6,
   "metadata": {
    "collapsed": false
   },
   "outputs": [
    {
     "name": "stdout",
     "output_type": "stream",
     "text": [
      "100000.0\n"
     ]
    }
   ],
   "source": [
    "# Find median salary\n",
    "print df['average_salary'].median()\n",
    "\n",
    "# Create 'high/low' column: high, 1; low, 0 for median salary $100,000\n",
    "df['high_low'] = df['average_salary'].apply(lambda x: 1 if x > 100000 else 0)"
   ]
  },
  {
   "cell_type": "code",
   "execution_count": 7,
   "metadata": {
    "collapsed": true
   },
   "outputs": [],
   "source": [
    "# Clean 'city' column\n",
    "df['city'] = np.where(df['city'] == 'Palo+Alto', 'Palo_Alto', df['city'])\n",
    "df['city'] = np.where(df['city'] == 'San+Diego', 'San_Diego', df['city'])\n",
    "df['city'] = np.where(df['city'] == 'New+York', 'New_York', df['city'])\n",
    "df['city'] = np.where(df['city'] == 'Los+Angeles', 'Los_Angeles', df['city'])\n",
    "df['city'] = np.where(df['city'] == 'San+Francisco', 'San_Francisco', df['city'])\n",
    "\n",
    "# Create 'state' column\n",
    "df['state'] = df['city']\n",
    "df['state'] = np.where(df['state'] == 'Denver', 'Colorado', df['state'])\n",
    "df['state'] = np.where(df['state'] == 'Austin', 'Texas', df['state'])\n",
    "df['state'] = np.where(df['state'] == 'Seattle', 'Washington', df['state'])\n",
    "df['state'] = np.where(df['state'] == 'Philadelphia', 'Pennsylvania', df['state'])\n",
    "df['state'] = np.where(df['state'] == 'Palo_Alto', 'California', df['state'])\n",
    "df['state'] = np.where(df['state'] == 'Pittsburgh', 'Pennsylvania', df['state'])\n",
    "df['state'] = np.where(df['state'] == 'Miami', 'Florida', df['state'])\n",
    "df['state'] = np.where(df['state'] == 'Chicago', 'Illinois', df['state'])\n",
    "df['state'] = np.where(df['state'] == 'Dallas', 'Texas', df['state'])\n",
    "df['state'] = np.where(df['state'] == 'San_Diego', 'California', df['state'])\n",
    "df['state'] = np.where(df['state'] == 'New_York', 'New_York', df['state'])\n",
    "df['state'] = np.where(df['state'] == 'Boston', 'Massachusetts', df['state'])\n",
    "df['state'] = np.where(df['state'] == 'Los_Angeles', 'California', df['state'])\n",
    "df['state'] = np.where(df['state'] == 'Phoenix', 'Arizona', df['state'])\n",
    "df['state'] = np.where(df['state'] == 'Houston', 'Texas', df['state'])\n",
    "df['state'] = np.where(df['state'] == 'Portland', 'Oregon', df['state'])\n",
    "df['state'] = np.where(df['state'] == 'San_Francisco', 'California', df['state'])\n",
    "df['state'] = np.where(df['state'] == 'Atlanta', 'Georgia', df['state'])"
   ]
  },
  {
   "cell_type": "markdown",
   "metadata": {},
   "source": [
    "### Clean the 'title' column"
   ]
  },
  {
   "cell_type": "markdown",
   "metadata": {},
   "source": [
    "The 'title' column includes job positions like \"Animal Care I\" that are unrelated to data science. I will filter these rows out and drop them below."
   ]
  },
  {
   "cell_type": "code",
   "execution_count": 8,
   "metadata": {
    "collapsed": false
   },
   "outputs": [
    {
     "data": {
      "text/plain": [
       "0               Statistician, GS-1350-12 (DEU-PERM-DS)\n",
       "1    Interdisciplinary Cartographer/Geographer - GS...\n",
       "2                             Financial Data Scientist\n",
       "3                              SENIOR RESEARCH ANALYST\n",
       "4                                        Animal Care I\n",
       "Name: title, dtype: object"
      ]
     },
     "execution_count": 8,
     "metadata": {},
     "output_type": "execute_result"
    }
   ],
   "source": [
    "df['title'].head()"
   ]
  },
  {
   "cell_type": "code",
   "execution_count": 9,
   "metadata": {
    "collapsed": false
   },
   "outputs": [],
   "source": [
    "# Clean 'title' column by removing punctuation and numbers and then lowercase\n",
    "df['title'] = df['title'].replace('\\d', '', regex=True)\n",
    "df['title'] = df['title'].replace('[^0-9a-zA-Z ]', ' ', regex=True)\n",
    "df['title'] = df['title'].str.lower()"
   ]
  },
  {
   "cell_type": "markdown",
   "metadata": {},
   "source": [
    "#### 1. Filter out jobs unrelated to data science"
   ]
  },
  {
   "cell_type": "code",
   "execution_count": 10,
   "metadata": {
    "collapsed": false
   },
   "outputs": [],
   "source": [
    "clean_title = []\n",
    "\n",
    "for row in df['title']:  \n",
    "    \n",
    "    # keywords associated with data science, data science roles\n",
    "    if 'data' in row:\n",
    "        clean_title.append(row)\n",
    "    elif 'engineer' in row:\n",
    "        clean_title.append(row)\n",
    "    elif 'scientist' in row:\n",
    "        clean_title.append(row)\n",
    "    elif 'analyst' in row:\n",
    "        clean_title.append(row)\n",
    "    elif 'statistician' in row:\n",
    "        clean_title.append(row)\n",
    "    elif 'machine learning' in row:\n",
    "        clean_title.append(row)\n",
    "    elif 'nlp' in row:\n",
    "        clean_title.append(row)\n",
    "    elif 'director' in row:\n",
    "        clean_title.append(row)\n",
    "    elif 'statistical' in row:\n",
    "        clean_title.append(row)\n",
    "        \n",
    "    # if not data science related, print \"Not a data science job\"    \n",
    "    else:\n",
    "        clean_title.append(\"Not a data science job\")\n",
    "\n",
    "df['clean_title'] = clean_title "
   ]
  },
  {
   "cell_type": "markdown",
   "metadata": {},
   "source": [
    "#### 2. Count how many jobs are unrelated to data science"
   ]
  },
  {
   "cell_type": "code",
   "execution_count": 11,
   "metadata": {
    "collapsed": false
   },
   "outputs": [
    {
     "data": {
      "text/plain": [
       "Not a data science job     74\n",
       "data scientist             23\n",
       "senior data scientist      12\n",
       "senior research analyst     6\n",
       "lead data scientist         6\n",
       "dtype: int64"
      ]
     },
     "execution_count": 11,
     "metadata": {},
     "output_type": "execute_result"
    }
   ],
   "source": [
    "pd.value_counts(df['clean_title'].values, sort=True).head()"
   ]
  },
  {
   "cell_type": "markdown",
   "metadata": {},
   "source": [
    "#### 3. Delete the rows with \"Not a data science job\""
   ]
  },
  {
   "cell_type": "code",
   "execution_count": 12,
   "metadata": {
    "collapsed": false
   },
   "outputs": [
    {
     "data": {
      "text/plain": [
       "(332, 7)"
      ]
     },
     "execution_count": 12,
     "metadata": {},
     "output_type": "execute_result"
    }
   ],
   "source": [
    "df = df[df.clean_title != 'Not a data science job']\n",
    "df.shape"
   ]
  },
  {
   "cell_type": "markdown",
   "metadata": {
    "collapsed": true
   },
   "source": [
    "I created the new column, 'clean_title', after skimming the data and selecting the keywords that most related to data science. I feel that the keywords I chose encompassed most of the data science jobs, but in the future I will have to be more selective of the data before re-doing this project. \n",
    "\n",
    "Using `.value_counts()`, I saw that I filtered out 76 rows that included jobs that were not related to data science, so I dropped them."
   ]
  },
  {
   "cell_type": "markdown",
   "metadata": {},
   "source": [
    "#### 4. Consolidate 'title' and 'clean_title'"
   ]
  },
  {
   "cell_type": "code",
   "execution_count": 13,
   "metadata": {
    "collapsed": false
   },
   "outputs": [
    {
     "data": {
      "text/html": [
       "<div>\n",
       "<table border=\"1\" class=\"dataframe\">\n",
       "  <thead>\n",
       "    <tr style=\"text-align: right;\">\n",
       "      <th></th>\n",
       "      <th>city</th>\n",
       "      <th>company</th>\n",
       "      <th>title</th>\n",
       "      <th>average_salary</th>\n",
       "      <th>high_low</th>\n",
       "      <th>state</th>\n",
       "    </tr>\n",
       "  </thead>\n",
       "  <tbody>\n",
       "    <tr>\n",
       "      <th>0</th>\n",
       "      <td>Denver</td>\n",
       "      <td>Department Of The Interior</td>\n",
       "      <td>statistician  gs    deu perm ds</td>\n",
       "      <td>87792.0</td>\n",
       "      <td>0</td>\n",
       "      <td>Colorado</td>\n",
       "    </tr>\n",
       "    <tr>\n",
       "      <th>2</th>\n",
       "      <td>Denver</td>\n",
       "      <td>Mental Health Center of Denver</td>\n",
       "      <td>financial data scientist</td>\n",
       "      <td>75000.0</td>\n",
       "      <td>0</td>\n",
       "      <td>Colorado</td>\n",
       "    </tr>\n",
       "    <tr>\n",
       "      <th>3</th>\n",
       "      <td>Denver</td>\n",
       "      <td>Denver Public Schools</td>\n",
       "      <td>senior research analyst</td>\n",
       "      <td>68983.5</td>\n",
       "      <td>0</td>\n",
       "      <td>Colorado</td>\n",
       "    </tr>\n",
       "    <tr>\n",
       "      <th>5</th>\n",
       "      <td>Denver</td>\n",
       "      <td>Denver Health</td>\n",
       "      <td>assistant research scientist   radars</td>\n",
       "      <td>93645.0</td>\n",
       "      <td>0</td>\n",
       "      <td>Colorado</td>\n",
       "    </tr>\n",
       "    <tr>\n",
       "      <th>6</th>\n",
       "      <td>Denver</td>\n",
       "      <td>Denver Health</td>\n",
       "      <td>statistical research specialist</td>\n",
       "      <td>66654.0</td>\n",
       "      <td>0</td>\n",
       "      <td>Colorado</td>\n",
       "    </tr>\n",
       "  </tbody>\n",
       "</table>\n",
       "</div>"
      ],
      "text/plain": [
       "     city                         company  \\\n",
       "0  Denver      Department Of The Interior   \n",
       "2  Denver  Mental Health Center of Denver   \n",
       "3  Denver           Denver Public Schools   \n",
       "5  Denver                   Denver Health   \n",
       "6  Denver                   Denver Health   \n",
       "\n",
       "                                   title  average_salary  high_low     state  \n",
       "0       statistician  gs    deu perm ds          87792.0         0  Colorado  \n",
       "2               financial data scientist         75000.0         0  Colorado  \n",
       "3                senior research analyst         68983.5         0  Colorado  \n",
       "5  assistant research scientist   radars         93645.0         0  Colorado  \n",
       "6        statistical research specialist         66654.0         0  Colorado  "
      ]
     },
     "execution_count": 13,
     "metadata": {},
     "output_type": "execute_result"
    }
   ],
   "source": [
    "df['title'] = df['clean_title']\n",
    "df.drop('clean_title', axis=1, inplace=True)\n",
    "df.head()"
   ]
  },
  {
   "cell_type": "markdown",
   "metadata": {},
   "source": [
    "### Create Dummy Variables"
   ]
  },
  {
   "cell_type": "markdown",
   "metadata": {},
   "source": [
    "#### 5. Create dummy variables for 'title'"
   ]
  },
  {
   "cell_type": "markdown",
   "metadata": {},
   "source": [
    "I'm going to create dummy variables from the 'title' column to include seniority of position in the logisitic regression: \n",
    "    - senior position, 'job_sen'\n",
    "    - management, 'job_mgmt'\n",
    "    \n",
    "**Note**: I am not creating a dummy variable for entry-level jobs. Just glancing over data, I had a hard time distinguishing which jobs may be entry level or which may be a senior-level position. For example, a 'senior data analyst' would show up as an entry-level and senior-level position based on the filters I have set-up. "
   ]
  },
  {
   "cell_type": "code",
   "execution_count": 14,
   "metadata": {
    "collapsed": true
   },
   "outputs": [],
   "source": [
    "# Create dummy variable for senior positions\n",
    "df['job_senior'] = False\n",
    "df.job_senior = df['title'].str.contains('senior|sr|scientist|statistician|engineer|developer')\n",
    "\n",
    "# Fix 'NaN' which results when the title is a 'Nan'\n",
    "df.job_senior.fillna(value = False, inplace = True)\n",
    "df.job_senior = df.job_senior.astype(int)\n",
    "\n",
    "# Create dummy variable for management positions\n",
    "df['job_mgmt'] = False\n",
    "df.job_mgmt = df['title'].str.contains('chief|director|manager|president')\n",
    "\n",
    "# Fix 'NaN' which results when the title is a 'Nan'\n",
    "df.job_mgmt.fillna(value = False, inplace = True)\n",
    "df.job_mgmt = df.job_mgmt.astype(int)"
   ]
  },
  {
   "cell_type": "markdown",
   "metadata": {},
   "source": [
    "#### 6. Create dummy variables for 'city'"
   ]
  },
  {
   "cell_type": "code",
   "execution_count": 15,
   "metadata": {
    "collapsed": false
   },
   "outputs": [],
   "source": [
    "loc = ['city', 'state']\n",
    "\n",
    "# For loop that will create dummy variables out of the categorical variables\n",
    "for var in loc:\n",
    "   cat_list = 'var' + '_' + var\n",
    "   cat_list = pd.get_dummies(df[var], prefix=var)\n",
    "   df1=df.join(cat_list)\n",
    "   df=df1"
   ]
  },
  {
   "cell_type": "markdown",
   "metadata": {},
   "source": [
    "#### Final dataframe"
   ]
  },
  {
   "cell_type": "code",
   "execution_count": 16,
   "metadata": {
    "collapsed": false
   },
   "outputs": [
    {
     "data": {
      "text/html": [
       "<div>\n",
       "<table border=\"1\" class=\"dataframe\">\n",
       "  <thead>\n",
       "    <tr style=\"text-align: right;\">\n",
       "      <th></th>\n",
       "      <th>city</th>\n",
       "      <th>company</th>\n",
       "      <th>title</th>\n",
       "      <th>average_salary</th>\n",
       "      <th>high_low</th>\n",
       "      <th>state</th>\n",
       "      <th>job_senior</th>\n",
       "      <th>job_mgmt</th>\n",
       "      <th>city_Atlanta</th>\n",
       "      <th>city_Austin</th>\n",
       "      <th>...</th>\n",
       "      <th>state_Colorado</th>\n",
       "      <th>state_Florida</th>\n",
       "      <th>state_Georgia</th>\n",
       "      <th>state_Illinois</th>\n",
       "      <th>state_Massachusetts</th>\n",
       "      <th>state_New_York</th>\n",
       "      <th>state_Oregon</th>\n",
       "      <th>state_Pennsylvania</th>\n",
       "      <th>state_Texas</th>\n",
       "      <th>state_Washington</th>\n",
       "    </tr>\n",
       "  </thead>\n",
       "  <tbody>\n",
       "    <tr>\n",
       "      <th>0</th>\n",
       "      <td>Denver</td>\n",
       "      <td>Department Of The Interior</td>\n",
       "      <td>statistician  gs    deu perm ds</td>\n",
       "      <td>87792.0</td>\n",
       "      <td>0</td>\n",
       "      <td>Colorado</td>\n",
       "      <td>1</td>\n",
       "      <td>0</td>\n",
       "      <td>0.0</td>\n",
       "      <td>0.0</td>\n",
       "      <td>...</td>\n",
       "      <td>1.0</td>\n",
       "      <td>0.0</td>\n",
       "      <td>0.0</td>\n",
       "      <td>0.0</td>\n",
       "      <td>0.0</td>\n",
       "      <td>0.0</td>\n",
       "      <td>0.0</td>\n",
       "      <td>0.0</td>\n",
       "      <td>0.0</td>\n",
       "      <td>0.0</td>\n",
       "    </tr>\n",
       "    <tr>\n",
       "      <th>2</th>\n",
       "      <td>Denver</td>\n",
       "      <td>Mental Health Center of Denver</td>\n",
       "      <td>financial data scientist</td>\n",
       "      <td>75000.0</td>\n",
       "      <td>0</td>\n",
       "      <td>Colorado</td>\n",
       "      <td>1</td>\n",
       "      <td>0</td>\n",
       "      <td>0.0</td>\n",
       "      <td>0.0</td>\n",
       "      <td>...</td>\n",
       "      <td>1.0</td>\n",
       "      <td>0.0</td>\n",
       "      <td>0.0</td>\n",
       "      <td>0.0</td>\n",
       "      <td>0.0</td>\n",
       "      <td>0.0</td>\n",
       "      <td>0.0</td>\n",
       "      <td>0.0</td>\n",
       "      <td>0.0</td>\n",
       "      <td>0.0</td>\n",
       "    </tr>\n",
       "    <tr>\n",
       "      <th>3</th>\n",
       "      <td>Denver</td>\n",
       "      <td>Denver Public Schools</td>\n",
       "      <td>senior research analyst</td>\n",
       "      <td>68983.5</td>\n",
       "      <td>0</td>\n",
       "      <td>Colorado</td>\n",
       "      <td>1</td>\n",
       "      <td>0</td>\n",
       "      <td>0.0</td>\n",
       "      <td>0.0</td>\n",
       "      <td>...</td>\n",
       "      <td>1.0</td>\n",
       "      <td>0.0</td>\n",
       "      <td>0.0</td>\n",
       "      <td>0.0</td>\n",
       "      <td>0.0</td>\n",
       "      <td>0.0</td>\n",
       "      <td>0.0</td>\n",
       "      <td>0.0</td>\n",
       "      <td>0.0</td>\n",
       "      <td>0.0</td>\n",
       "    </tr>\n",
       "    <tr>\n",
       "      <th>5</th>\n",
       "      <td>Denver</td>\n",
       "      <td>Denver Health</td>\n",
       "      <td>assistant research scientist   radars</td>\n",
       "      <td>93645.0</td>\n",
       "      <td>0</td>\n",
       "      <td>Colorado</td>\n",
       "      <td>1</td>\n",
       "      <td>0</td>\n",
       "      <td>0.0</td>\n",
       "      <td>0.0</td>\n",
       "      <td>...</td>\n",
       "      <td>1.0</td>\n",
       "      <td>0.0</td>\n",
       "      <td>0.0</td>\n",
       "      <td>0.0</td>\n",
       "      <td>0.0</td>\n",
       "      <td>0.0</td>\n",
       "      <td>0.0</td>\n",
       "      <td>0.0</td>\n",
       "      <td>0.0</td>\n",
       "      <td>0.0</td>\n",
       "    </tr>\n",
       "    <tr>\n",
       "      <th>6</th>\n",
       "      <td>Denver</td>\n",
       "      <td>Denver Health</td>\n",
       "      <td>statistical research specialist</td>\n",
       "      <td>66654.0</td>\n",
       "      <td>0</td>\n",
       "      <td>Colorado</td>\n",
       "      <td>0</td>\n",
       "      <td>0</td>\n",
       "      <td>0.0</td>\n",
       "      <td>0.0</td>\n",
       "      <td>...</td>\n",
       "      <td>1.0</td>\n",
       "      <td>0.0</td>\n",
       "      <td>0.0</td>\n",
       "      <td>0.0</td>\n",
       "      <td>0.0</td>\n",
       "      <td>0.0</td>\n",
       "      <td>0.0</td>\n",
       "      <td>0.0</td>\n",
       "      <td>0.0</td>\n",
       "      <td>0.0</td>\n",
       "    </tr>\n",
       "  </tbody>\n",
       "</table>\n",
       "<p>5 rows × 38 columns</p>\n",
       "</div>"
      ],
      "text/plain": [
       "     city                         company  \\\n",
       "0  Denver      Department Of The Interior   \n",
       "2  Denver  Mental Health Center of Denver   \n",
       "3  Denver           Denver Public Schools   \n",
       "5  Denver                   Denver Health   \n",
       "6  Denver                   Denver Health   \n",
       "\n",
       "                                   title  average_salary  high_low     state  \\\n",
       "0       statistician  gs    deu perm ds          87792.0         0  Colorado   \n",
       "2               financial data scientist         75000.0         0  Colorado   \n",
       "3                senior research analyst         68983.5         0  Colorado   \n",
       "5  assistant research scientist   radars         93645.0         0  Colorado   \n",
       "6        statistical research specialist         66654.0         0  Colorado   \n",
       "\n",
       "   job_senior  job_mgmt  city_Atlanta  city_Austin        ...         \\\n",
       "0           1         0           0.0          0.0        ...          \n",
       "2           1         0           0.0          0.0        ...          \n",
       "3           1         0           0.0          0.0        ...          \n",
       "5           1         0           0.0          0.0        ...          \n",
       "6           0         0           0.0          0.0        ...          \n",
       "\n",
       "   state_Colorado  state_Florida  state_Georgia  state_Illinois  \\\n",
       "0             1.0            0.0            0.0             0.0   \n",
       "2             1.0            0.0            0.0             0.0   \n",
       "3             1.0            0.0            0.0             0.0   \n",
       "5             1.0            0.0            0.0             0.0   \n",
       "6             1.0            0.0            0.0             0.0   \n",
       "\n",
       "   state_Massachusetts  state_New_York  state_Oregon  state_Pennsylvania  \\\n",
       "0                  0.0             0.0           0.0                 0.0   \n",
       "2                  0.0             0.0           0.0                 0.0   \n",
       "3                  0.0             0.0           0.0                 0.0   \n",
       "5                  0.0             0.0           0.0                 0.0   \n",
       "6                  0.0             0.0           0.0                 0.0   \n",
       "\n",
       "   state_Texas  state_Washington  \n",
       "0          0.0               0.0  \n",
       "2          0.0               0.0  \n",
       "3          0.0               0.0  \n",
       "5          0.0               0.0  \n",
       "6          0.0               0.0  \n",
       "\n",
       "[5 rows x 38 columns]"
      ]
     },
     "execution_count": 16,
     "metadata": {},
     "output_type": "execute_result"
    }
   ],
   "source": [
    "df.head()"
   ]
  },
  {
   "cell_type": "code",
   "execution_count": 17,
   "metadata": {
    "collapsed": false
   },
   "outputs": [
    {
     "data": {
      "text/plain": [
       "Index([u'city', u'company', u'title', u'average_salary', u'high_low', u'state',\n",
       "       u'job_senior', u'job_mgmt', u'city_Atlanta', u'city_Austin',\n",
       "       u'city_Boston', u'city_Chicago', u'city_Dallas', u'city_Denver',\n",
       "       u'city_Houston', u'city_Los_Angeles', u'city_Miami', u'city_New_York',\n",
       "       u'city_Palo_Alto', u'city_Philadelphia', u'city_Phoenix',\n",
       "       u'city_Pittsburgh', u'city_Portland', u'city_San_Diego',\n",
       "       u'city_San_Francisco', u'city_Seattle', u'state_Arizona',\n",
       "       u'state_California', u'state_Colorado', u'state_Florida',\n",
       "       u'state_Georgia', u'state_Illinois', u'state_Massachusetts',\n",
       "       u'state_New_York', u'state_Oregon', u'state_Pennsylvania',\n",
       "       u'state_Texas', u'state_Washington'],\n",
       "      dtype='object')"
      ]
     },
     "execution_count": 17,
     "metadata": {},
     "output_type": "execute_result"
    }
   ],
   "source": [
    "df.columns"
   ]
  },
  {
   "cell_type": "markdown",
   "metadata": {
    "collapsed": true
   },
   "source": [
    "## Step 3: Exploratory Data Analysis"
   ]
  },
  {
   "cell_type": "markdown",
   "metadata": {},
   "source": [
    "### Baseline Accuracy"
   ]
  },
  {
   "cell_type": "markdown",
   "metadata": {},
   "source": [
    "The Baseline Accuracy is the accuracy that can be achieved by a model simply by guessing the majority class every time. "
   ]
  },
  {
   "cell_type": "markdown",
   "metadata": {},
   "source": [
    "**`baseline_accuracy = majority_class_N / total_population`**"
   ]
  },
  {
   "cell_type": "code",
   "execution_count": 18,
   "metadata": {
    "collapsed": false
   },
   "outputs": [
    {
     "name": "stdout",
     "output_type": "stream",
     "text": [
      "0.448795180723\n"
     ]
    }
   ],
   "source": [
    "base_acc = 1 - np.mean(df['high_low'])\n",
    "print base_acc"
   ]
  },
  {
   "cell_type": "markdown",
   "metadata": {},
   "source": [
    "### Salary by Location Pivot Table"
   ]
  },
  {
   "cell_type": "code",
   "execution_count": 19,
   "metadata": {
    "collapsed": false
   },
   "outputs": [
    {
     "data": {
      "text/html": [
       "<div>\n",
       "<table border=\"1\" class=\"dataframe\">\n",
       "  <thead>\n",
       "    <tr style=\"text-align: right;\">\n",
       "      <th></th>\n",
       "      <th></th>\n",
       "      <th>average_salary</th>\n",
       "      <th>high_low</th>\n",
       "    </tr>\n",
       "    <tr>\n",
       "      <th>state</th>\n",
       "      <th>city</th>\n",
       "      <th></th>\n",
       "      <th></th>\n",
       "    </tr>\n",
       "  </thead>\n",
       "  <tbody>\n",
       "    <tr>\n",
       "      <th>Arizona</th>\n",
       "      <th>Phoenix</th>\n",
       "      <td>75542.166667</td>\n",
       "      <td>0.000000</td>\n",
       "    </tr>\n",
       "    <tr>\n",
       "      <th rowspan=\"4\" valign=\"top\">California</th>\n",
       "      <th>Los_Angeles</th>\n",
       "      <td>114402.305556</td>\n",
       "      <td>0.500000</td>\n",
       "    </tr>\n",
       "    <tr>\n",
       "      <th>Palo_Alto</th>\n",
       "      <td>123761.895833</td>\n",
       "      <td>0.791667</td>\n",
       "    </tr>\n",
       "    <tr>\n",
       "      <th>San_Diego</th>\n",
       "      <td>90709.785714</td>\n",
       "      <td>0.428571</td>\n",
       "    </tr>\n",
       "    <tr>\n",
       "      <th>San_Francisco</th>\n",
       "      <td>148138.214286</td>\n",
       "      <td>0.857143</td>\n",
       "    </tr>\n",
       "    <tr>\n",
       "      <th>Colorado</th>\n",
       "      <th>Denver</th>\n",
       "      <td>90722.850000</td>\n",
       "      <td>0.300000</td>\n",
       "    </tr>\n",
       "    <tr>\n",
       "      <th>Florida</th>\n",
       "      <th>Miami</th>\n",
       "      <td>85575.000000</td>\n",
       "      <td>0.200000</td>\n",
       "    </tr>\n",
       "    <tr>\n",
       "      <th>Georgia</th>\n",
       "      <th>Atlanta</th>\n",
       "      <td>93482.000000</td>\n",
       "      <td>0.250000</td>\n",
       "    </tr>\n",
       "    <tr>\n",
       "      <th>Illinois</th>\n",
       "      <th>Chicago</th>\n",
       "      <td>119837.318182</td>\n",
       "      <td>0.575758</td>\n",
       "    </tr>\n",
       "    <tr>\n",
       "      <th>Massachusetts</th>\n",
       "      <th>Boston</th>\n",
       "      <td>114227.076923</td>\n",
       "      <td>0.666667</td>\n",
       "    </tr>\n",
       "    <tr>\n",
       "      <th>New_York</th>\n",
       "      <th>New_York</th>\n",
       "      <td>112713.114458</td>\n",
       "      <td>0.481928</td>\n",
       "    </tr>\n",
       "    <tr>\n",
       "      <th>Oregon</th>\n",
       "      <th>Portland</th>\n",
       "      <td>78195.500000</td>\n",
       "      <td>0.000000</td>\n",
       "    </tr>\n",
       "    <tr>\n",
       "      <th rowspan=\"2\" valign=\"top\">Pennsylvania</th>\n",
       "      <th>Philadelphia</th>\n",
       "      <td>105545.454545</td>\n",
       "      <td>0.636364</td>\n",
       "    </tr>\n",
       "    <tr>\n",
       "      <th>Pittsburgh</th>\n",
       "      <td>41474.400000</td>\n",
       "      <td>0.000000</td>\n",
       "    </tr>\n",
       "    <tr>\n",
       "      <th rowspan=\"3\" valign=\"top\">Texas</th>\n",
       "      <th>Austin</th>\n",
       "      <td>105833.333333</td>\n",
       "      <td>0.500000</td>\n",
       "    </tr>\n",
       "    <tr>\n",
       "      <th>Dallas</th>\n",
       "      <td>91863.636364</td>\n",
       "      <td>0.272727</td>\n",
       "    </tr>\n",
       "    <tr>\n",
       "      <th>Houston</th>\n",
       "      <td>63226.100000</td>\n",
       "      <td>0.000000</td>\n",
       "    </tr>\n",
       "    <tr>\n",
       "      <th>Washington</th>\n",
       "      <th>Seattle</th>\n",
       "      <td>130659.846154</td>\n",
       "      <td>0.769231</td>\n",
       "    </tr>\n",
       "    <tr>\n",
       "      <th>All</th>\n",
       "      <th></th>\n",
       "      <td>113901.188253</td>\n",
       "      <td>0.551205</td>\n",
       "    </tr>\n",
       "  </tbody>\n",
       "</table>\n",
       "</div>"
      ],
      "text/plain": [
       "                             average_salary  high_low\n",
       "state         city                                   \n",
       "Arizona       Phoenix          75542.166667  0.000000\n",
       "California    Los_Angeles     114402.305556  0.500000\n",
       "              Palo_Alto       123761.895833  0.791667\n",
       "              San_Diego        90709.785714  0.428571\n",
       "              San_Francisco   148138.214286  0.857143\n",
       "Colorado      Denver           90722.850000  0.300000\n",
       "Florida       Miami            85575.000000  0.200000\n",
       "Georgia       Atlanta          93482.000000  0.250000\n",
       "Illinois      Chicago         119837.318182  0.575758\n",
       "Massachusetts Boston          114227.076923  0.666667\n",
       "New_York      New_York        112713.114458  0.481928\n",
       "Oregon        Portland         78195.500000  0.000000\n",
       "Pennsylvania  Philadelphia    105545.454545  0.636364\n",
       "              Pittsburgh       41474.400000  0.000000\n",
       "Texas         Austin          105833.333333  0.500000\n",
       "              Dallas           91863.636364  0.272727\n",
       "              Houston          63226.100000  0.000000\n",
       "Washington    Seattle         130659.846154  0.769231\n",
       "All                           113901.188253  0.551205"
      ]
     },
     "execution_count": 19,
     "metadata": {},
     "output_type": "execute_result"
    }
   ],
   "source": [
    "loc_salary = pd.pivot_table(df, index=['state', 'city'],\n",
    "                              values = ['average_salary',\n",
    "                                        'high_low'],\n",
    "                              aggfunc=np.mean,\n",
    "                              margins = True)\n",
    "\n",
    "loc_salary"
   ]
  },
  {
   "cell_type": "markdown",
   "metadata": {
    "collapsed": true
   },
   "source": [
    "**Note:** If the value of the 'high/low' column is above 0.50 then the average salary is deemed \"high\", and below 0.50 the average salary is deemed \"low\"."
   ]
  },
  {
   "cell_type": "markdown",
   "metadata": {},
   "source": [
    "### Visualization"
   ]
  },
  {
   "cell_type": "markdown",
   "metadata": {},
   "source": [
    "#### Crosstab View of High/Low Salaries by City"
   ]
  },
  {
   "cell_type": "code",
   "execution_count": 20,
   "metadata": {
    "collapsed": false
   },
   "outputs": [
    {
     "data": {
      "text/plain": [
       "<matplotlib.text.Text at 0x11a9bb310>"
      ]
     },
     "execution_count": 20,
     "metadata": {},
     "output_type": "execute_result"
    },
    {
     "data": {
      "image/png": "[encoded data removed]",
      "text/plain": [
       "<matplotlib.figure.Figure at 0x11a94dd90>"
      ]
     },
     "metadata": {},
     "output_type": "display_data"
    }
   ],
   "source": [
    "pd.crosstab(df['city'], df['high_low']).plot(kind='bar')\n",
    "plt.title('High vs Low Salaries by City')\n",
    "plt.xlabel('City')\n",
    "plt.ylabel('Avg Salary')"
   ]
  },
  {
   "cell_type": "markdown",
   "metadata": {},
   "source": [
    "#### Top 10 Cities by Average Salary"
   ]
  },
  {
   "cell_type": "code",
   "execution_count": 21,
   "metadata": {
    "collapsed": false
   },
   "outputs": [
    {
     "data": {
      "text/plain": [
       "[<matplotlib.text.Text at 0x11d1912d0>]"
      ]
     },
     "execution_count": 21,
     "metadata": {},
     "output_type": "execute_result"
    },
    {
     "data": {
      "image/png": "[encoded data removed]",
      "text/plain": [
       "<matplotlib.figure.Figure at 0x11aa78fd0>"
      ]
     },
     "metadata": {},
     "output_type": "display_data"
    }
   ],
   "source": [
    "# create the dataframe that groups 'city' with 'average salary'\n",
    "loc_salary = df.groupby(\"city\", as_index=False)[\"average_salary\"].mean()\n",
    "\n",
    "# get the top 10 cities\n",
    "loc_salary = loc_salary.sort_values(\"average_salary\", ascending=False).head(10)\n",
    "\n",
    "# plot the barplot\n",
    "plt.figure(figsize=(15,10))\n",
    "sns.barplot(x=loc_salary[\"city\"], y=loc_salary['average_salary'],color='b').set(title='Average Salary by City')"
   ]
  },
  {
   "cell_type": "markdown",
   "metadata": {
    "collapsed": true
   },
   "source": [
    "1. San Francisco, CA\n",
    "2. Seattle, WA\n",
    "3. Palo Alto, CA\n",
    "4. Chicago, Illinois\n",
    "5. Los Angeles, CA \n",
    "6. Boston, MA\n",
    "7. New York, NY\n",
    "8. Austin, TX\n",
    "9. Philadelphia, PA\n",
    "10. Atlanta, GA"
   ]
  },
  {
   "cell_type": "markdown",
   "metadata": {
    "collapsed": true
   },
   "source": [
    "## Step 4: Predicting Salaries with Logistic Regression"
   ]
  },
  {
   "cell_type": "markdown",
   "metadata": {},
   "source": [
    "### A. Predict 'high_low' salary by 'city' using `statsmodels`"
   ]
  },
  {
   "cell_type": "code",
   "execution_count": 22,
   "metadata": {
    "collapsed": false
   },
   "outputs": [
    {
     "name": "stdout",
     "output_type": "stream",
     "text": [
      "Warning: Maximum number of iterations has been exceeded.\n",
      "         Current function value: 0.584348\n",
      "         Iterations: 35\n"
     ]
    },
    {
     "name": "stderr",
     "output_type": "stream",
     "text": [
      "//anaconda/lib/python2.7/site-packages/statsmodels/base/model.py:466: ConvergenceWarning: Maximum Likelihood optimization failed to converge. Check mle_retvals\n",
      "  \"Check mle_retvals\", ConvergenceWarning)\n"
     ]
    },
    {
     "data": {
      "text/html": [
       "<table class=\"simpletable\">\n",
       "<caption>Logit Regression Results</caption>\n",
       "<tr>\n",
       "  <th>Dep. Variable:</th>     <td>high_low</td>     <th>  No. Observations:  </th>  <td>   332</td>  \n",
       "</tr>\n",
       "<tr>\n",
       "  <th>Model:</th>               <td>Logit</td>      <th>  Df Residuals:      </th>  <td>   314</td>  \n",
       "</tr>\n",
       "<tr>\n",
       "  <th>Method:</th>               <td>MLE</td>       <th>  Df Model:          </th>  <td>    17</td>  \n",
       "</tr>\n",
       "<tr>\n",
       "  <th>Date:</th>          <td>Wed, 15 Mar 2017</td> <th>  Pseudo R-squ.:     </th>  <td>0.1505</td>  \n",
       "</tr>\n",
       "<tr>\n",
       "  <th>Time:</th>              <td>12:44:56</td>     <th>  Log-Likelihood:    </th> <td> -194.00</td> \n",
       "</tr>\n",
       "<tr>\n",
       "  <th>converged:</th>           <td>False</td>      <th>  LL-Null:           </th> <td> -228.38</td> \n",
       "</tr>\n",
       "<tr>\n",
       "  <th> </th>                      <td> </td>        <th>  LLR p-value:       </th> <td>3.530e-08</td>\n",
       "</tr>\n",
       "</table>\n",
       "<table class=\"simpletable\">\n",
       "<tr>\n",
       "            <td></td>               <th>coef</th>     <th>std err</th>      <th>z</th>      <th>P>|z|</th> <th>[95.0% Conf. Int.]</th> \n",
       "</tr>\n",
       "<tr>\n",
       "  <th>Intercept</th>             <td>   -1.0986</td> <td>    0.577</td> <td>   -1.903</td> <td> 0.057</td> <td>   -2.230     0.033</td>\n",
       "</tr>\n",
       "<tr>\n",
       "  <th>city[T.Austin]</th>        <td>    1.0986</td> <td>    1.000</td> <td>    1.099</td> <td> 0.272</td> <td>   -0.861     3.059</td>\n",
       "</tr>\n",
       "<tr>\n",
       "  <th>city[T.Boston]</th>        <td>    1.7918</td> <td>    0.670</td> <td>    2.675</td> <td> 0.007</td> <td>    0.479     3.105</td>\n",
       "</tr>\n",
       "<tr>\n",
       "  <th>city[T.Chicago]</th>       <td>    1.4040</td> <td>    0.676</td> <td>    2.076</td> <td> 0.038</td> <td>    0.078     2.730</td>\n",
       "</tr>\n",
       "<tr>\n",
       "  <th>city[T.Dallas]</th>        <td>    0.1178</td> <td>    0.890</td> <td>    0.132</td> <td> 0.895</td> <td>   -1.626     1.862</td>\n",
       "</tr>\n",
       "<tr>\n",
       "  <th>city[T.Denver]</th>        <td>    0.2513</td> <td>    0.900</td> <td>    0.279</td> <td> 0.780</td> <td>   -1.512     2.015</td>\n",
       "</tr>\n",
       "<tr>\n",
       "  <th>city[T.Houston]</th>       <td>  -22.5369</td> <td> 6.07e+04</td> <td>   -0.000</td> <td> 1.000</td> <td>-1.19e+05  1.19e+05</td>\n",
       "</tr>\n",
       "<tr>\n",
       "  <th>city[T.Los_Angeles]</th>   <td>    1.0986</td> <td>    0.745</td> <td>    1.474</td> <td> 0.140</td> <td>   -0.362     2.559</td>\n",
       "</tr>\n",
       "<tr>\n",
       "  <th>city[T.Miami]</th>         <td>   -0.2877</td> <td>    1.258</td> <td>   -0.229</td> <td> 0.819</td> <td>   -2.754     2.179</td>\n",
       "</tr>\n",
       "<tr>\n",
       "  <th>city[T.New_York]</th>      <td>    1.0263</td> <td>    0.618</td> <td>    1.661</td> <td> 0.097</td> <td>   -0.184     2.237</td>\n",
       "</tr>\n",
       "<tr>\n",
       "  <th>city[T.Palo_Alto]</th>     <td>    2.4336</td> <td>    0.765</td> <td>    3.179</td> <td> 0.001</td> <td>    0.933     3.934</td>\n",
       "</tr>\n",
       "<tr>\n",
       "  <th>city[T.Philadelphia]</th>  <td>    1.6582</td> <td>    0.852</td> <td>    1.946</td> <td> 0.052</td> <td>   -0.012     3.328</td>\n",
       "</tr>\n",
       "<tr>\n",
       "  <th>city[T.Phoenix]</th>       <td>  -74.2159</td> <td> 1.31e+16</td> <td>-5.68e-15</td> <td> 1.000</td> <td>-2.56e+16  2.56e+16</td>\n",
       "</tr>\n",
       "<tr>\n",
       "  <th>city[T.Pittsburgh]</th>    <td>  -22.5369</td> <td> 6.07e+04</td> <td>   -0.000</td> <td> 1.000</td> <td>-1.19e+05  1.19e+05</td>\n",
       "</tr>\n",
       "<tr>\n",
       "  <th>city[T.Portland]</th>      <td>  -11.5770</td> <td>  565.544</td> <td>   -0.020</td> <td> 0.984</td> <td>-1120.023  1096.869</td>\n",
       "</tr>\n",
       "<tr>\n",
       "  <th>city[T.San_Diego]</th>     <td>    0.8109</td> <td>    0.957</td> <td>    0.847</td> <td> 0.397</td> <td>   -1.066     2.687</td>\n",
       "</tr>\n",
       "<tr>\n",
       "  <th>city[T.San_Francisco]</th> <td>    2.8904</td> <td>    0.726</td> <td>    3.979</td> <td> 0.000</td> <td>    1.466     4.314</td>\n",
       "</tr>\n",
       "<tr>\n",
       "  <th>city[T.Seattle]</th>       <td>    2.3026</td> <td>    0.876</td> <td>    2.630</td> <td> 0.009</td> <td>    0.586     4.019</td>\n",
       "</tr>\n",
       "</table>"
      ],
      "text/plain": [
       "<class 'statsmodels.iolib.summary.Summary'>\n",
       "\"\"\"\n",
       "                           Logit Regression Results                           \n",
       "==============================================================================\n",
       "Dep. Variable:               high_low   No. Observations:                  332\n",
       "Model:                          Logit   Df Residuals:                      314\n",
       "Method:                           MLE   Df Model:                           17\n",
       "Date:                Wed, 15 Mar 2017   Pseudo R-squ.:                  0.1505\n",
       "Time:                        12:44:56   Log-Likelihood:                -194.00\n",
       "converged:                      False   LL-Null:                       -228.38\n",
       "                                        LLR p-value:                 3.530e-08\n",
       "=========================================================================================\n",
       "                            coef    std err          z      P>|z|      [95.0% Conf. Int.]\n",
       "-----------------------------------------------------------------------------------------\n",
       "Intercept                -1.0986      0.577     -1.903      0.057        -2.230     0.033\n",
       "city[T.Austin]            1.0986      1.000      1.099      0.272        -0.861     3.059\n",
       "city[T.Boston]            1.7918      0.670      2.675      0.007         0.479     3.105\n",
       "city[T.Chicago]           1.4040      0.676      2.076      0.038         0.078     2.730\n",
       "city[T.Dallas]            0.1178      0.890      0.132      0.895        -1.626     1.862\n",
       "city[T.Denver]            0.2513      0.900      0.279      0.780        -1.512     2.015\n",
       "city[T.Houston]         -22.5369   6.07e+04     -0.000      1.000     -1.19e+05  1.19e+05\n",
       "city[T.Los_Angeles]       1.0986      0.745      1.474      0.140        -0.362     2.559\n",
       "city[T.Miami]            -0.2877      1.258     -0.229      0.819        -2.754     2.179\n",
       "city[T.New_York]          1.0263      0.618      1.661      0.097        -0.184     2.237\n",
       "city[T.Palo_Alto]         2.4336      0.765      3.179      0.001         0.933     3.934\n",
       "city[T.Philadelphia]      1.6582      0.852      1.946      0.052        -0.012     3.328\n",
       "city[T.Phoenix]         -74.2159   1.31e+16  -5.68e-15      1.000     -2.56e+16  2.56e+16\n",
       "city[T.Pittsburgh]      -22.5369   6.07e+04     -0.000      1.000     -1.19e+05  1.19e+05\n",
       "city[T.Portland]        -11.5770    565.544     -0.020      0.984     -1120.023  1096.869\n",
       "city[T.San_Diego]         0.8109      0.957      0.847      0.397        -1.066     2.687\n",
       "city[T.San_Francisco]     2.8904      0.726      3.979      0.000         1.466     4.314\n",
       "city[T.Seattle]           2.3026      0.876      2.630      0.009         0.586     4.019\n",
       "=========================================================================================\n",
       "\"\"\""
      ]
     },
     "execution_count": 22,
     "metadata": {},
     "output_type": "execute_result"
    }
   ],
   "source": [
    "model = sm.logit(\"high_low ~ city\", data=df).fit()\n",
    "model.summary()"
   ]
  },
  {
   "cell_type": "markdown",
   "metadata": {},
   "source": [
    "Most notable cities with a high P-value include: \n",
    "    - San Francisco, CA (0.000)\n",
    "    - Palo Alto, CA (0.001)\n",
    "    - Boston, MA (0.007)\n",
    "    - Seattle, WA (0.009)\n",
    "    - Chicago, IL (0.038)"
   ]
  },
  {
   "cell_type": "markdown",
   "metadata": {},
   "source": [
    "### B. Logistic regression using `statsmodels` with more features"
   ]
  },
  {
   "cell_type": "code",
   "execution_count": 23,
   "metadata": {
    "collapsed": false
   },
   "outputs": [
    {
     "name": "stdout",
     "output_type": "stream",
     "text": [
      "Warning: Maximum number of iterations has been exceeded.\n",
      "         Current function value: 0.535017\n",
      "         Iterations: 35\n"
     ]
    },
    {
     "name": "stderr",
     "output_type": "stream",
     "text": [
      "//anaconda/lib/python2.7/site-packages/statsmodels/base/model.py:466: ConvergenceWarning: Maximum Likelihood optimization failed to converge. Check mle_retvals\n",
      "  \"Check mle_retvals\", ConvergenceWarning)\n"
     ]
    },
    {
     "data": {
      "text/html": [
       "<table class=\"simpletable\">\n",
       "<caption>Logit Regression Results</caption>\n",
       "<tr>\n",
       "  <th>Dep. Variable:</th>     <td>high_low</td>     <th>  No. Observations:  </th>  <td>   332</td>  \n",
       "</tr>\n",
       "<tr>\n",
       "  <th>Model:</th>               <td>Logit</td>      <th>  Df Residuals:      </th>  <td>   312</td>  \n",
       "</tr>\n",
       "<tr>\n",
       "  <th>Method:</th>               <td>MLE</td>       <th>  Df Model:          </th>  <td>    19</td>  \n",
       "</tr>\n",
       "<tr>\n",
       "  <th>Date:</th>          <td>Wed, 15 Mar 2017</td> <th>  Pseudo R-squ.:     </th>  <td>0.2222</td>  \n",
       "</tr>\n",
       "<tr>\n",
       "  <th>Time:</th>              <td>12:44:56</td>     <th>  Log-Likelihood:    </th> <td> -177.63</td> \n",
       "</tr>\n",
       "<tr>\n",
       "  <th>converged:</th>           <td>False</td>      <th>  LL-Null:           </th> <td> -228.38</td> \n",
       "</tr>\n",
       "<tr>\n",
       "  <th> </th>                      <td> </td>        <th>  LLR p-value:       </th> <td>2.850e-13</td>\n",
       "</tr>\n",
       "</table>\n",
       "<table class=\"simpletable\">\n",
       "<tr>\n",
       "            <td></td>               <th>coef</th>     <th>std err</th>      <th>z</th>      <th>P>|z|</th> <th>[95.0% Conf. Int.]</th> \n",
       "</tr>\n",
       "<tr>\n",
       "  <th>Intercept</th>             <td>   -2.1612</td> <td>    0.650</td> <td>   -3.327</td> <td> 0.001</td> <td>   -3.434    -0.888</td>\n",
       "</tr>\n",
       "<tr>\n",
       "  <th>city[T.Austin]</th>        <td>    1.1074</td> <td>    1.061</td> <td>    1.044</td> <td> 0.296</td> <td>   -0.972     3.186</td>\n",
       "</tr>\n",
       "<tr>\n",
       "  <th>city[T.Boston]</th>        <td>    1.5220</td> <td>    0.704</td> <td>    2.161</td> <td> 0.031</td> <td>    0.141     2.903</td>\n",
       "</tr>\n",
       "<tr>\n",
       "  <th>city[T.Chicago]</th>       <td>    1.1641</td> <td>    0.713</td> <td>    1.632</td> <td> 0.103</td> <td>   -0.234     2.562</td>\n",
       "</tr>\n",
       "<tr>\n",
       "  <th>city[T.Dallas]</th>        <td>   -0.0567</td> <td>    0.927</td> <td>   -0.061</td> <td> 0.951</td> <td>   -1.873     1.759</td>\n",
       "</tr>\n",
       "<tr>\n",
       "  <th>city[T.Denver]</th>        <td>   -0.1808</td> <td>    0.928</td> <td>   -0.195</td> <td> 0.846</td> <td>   -2.000     1.639</td>\n",
       "</tr>\n",
       "<tr>\n",
       "  <th>city[T.Houston]</th>       <td>  -25.5428</td> <td> 1.45e+05</td> <td>   -0.000</td> <td> 1.000</td> <td>-2.84e+05  2.84e+05</td>\n",
       "</tr>\n",
       "<tr>\n",
       "  <th>city[T.Los_Angeles]</th>   <td>    1.1730</td> <td>    0.791</td> <td>    1.482</td> <td> 0.138</td> <td>   -0.378     2.724</td>\n",
       "</tr>\n",
       "<tr>\n",
       "  <th>city[T.Miami]</th>         <td>   -0.3204</td> <td>    1.306</td> <td>   -0.245</td> <td> 0.806</td> <td>   -2.880     2.239</td>\n",
       "</tr>\n",
       "<tr>\n",
       "  <th>city[T.New_York]</th>      <td>    0.9011</td> <td>    0.652</td> <td>    1.383</td> <td> 0.167</td> <td>   -0.376     2.178</td>\n",
       "</tr>\n",
       "<tr>\n",
       "  <th>city[T.Palo_Alto]</th>     <td>    2.1954</td> <td>    0.801</td> <td>    2.742</td> <td> 0.006</td> <td>    0.626     3.765</td>\n",
       "</tr>\n",
       "<tr>\n",
       "  <th>city[T.Philadelphia]</th>  <td>    1.3221</td> <td>    0.887</td> <td>    1.491</td> <td> 0.136</td> <td>   -0.416     3.060</td>\n",
       "</tr>\n",
       "<tr>\n",
       "  <th>city[T.Phoenix]</th>       <td>  -56.1677</td> <td> 1.79e+12</td> <td>-3.14e-11</td> <td> 1.000</td> <td>-3.51e+12  3.51e+12</td>\n",
       "</tr>\n",
       "<tr>\n",
       "  <th>city[T.Pittsburgh]</th>    <td>  -17.8147</td> <td> 6182.649</td> <td>   -0.003</td> <td> 0.998</td> <td>-1.21e+04  1.21e+04</td>\n",
       "</tr>\n",
       "<tr>\n",
       "  <th>city[T.Portland]</th>      <td>  -12.3553</td> <td>  655.223</td> <td>   -0.019</td> <td> 0.985</td> <td>-1296.569  1271.858</td>\n",
       "</tr>\n",
       "<tr>\n",
       "  <th>city[T.San_Diego]</th>     <td>    0.9362</td> <td>    1.018</td> <td>    0.919</td> <td> 0.358</td> <td>   -1.060     2.932</td>\n",
       "</tr>\n",
       "<tr>\n",
       "  <th>city[T.San_Francisco]</th> <td>    2.8009</td> <td>    0.763</td> <td>    3.673</td> <td> 0.000</td> <td>    1.306     4.295</td>\n",
       "</tr>\n",
       "<tr>\n",
       "  <th>city[T.Seattle]</th>       <td>    1.9735</td> <td>    0.910</td> <td>    2.170</td> <td> 0.030</td> <td>    0.191     3.756</td>\n",
       "</tr>\n",
       "<tr>\n",
       "  <th>job_senior</th>            <td>    1.5465</td> <td>    0.312</td> <td>    4.962</td> <td> 0.000</td> <td>    0.936     2.157</td>\n",
       "</tr>\n",
       "<tr>\n",
       "  <th>job_mgmt</th>              <td>    2.0372</td> <td>    0.598</td> <td>    3.406</td> <td> 0.001</td> <td>    0.865     3.210</td>\n",
       "</tr>\n",
       "</table>"
      ],
      "text/plain": [
       "<class 'statsmodels.iolib.summary.Summary'>\n",
       "\"\"\"\n",
       "                           Logit Regression Results                           \n",
       "==============================================================================\n",
       "Dep. Variable:               high_low   No. Observations:                  332\n",
       "Model:                          Logit   Df Residuals:                      312\n",
       "Method:                           MLE   Df Model:                           19\n",
       "Date:                Wed, 15 Mar 2017   Pseudo R-squ.:                  0.2222\n",
       "Time:                        12:44:56   Log-Likelihood:                -177.63\n",
       "converged:                      False   LL-Null:                       -228.38\n",
       "                                        LLR p-value:                 2.850e-13\n",
       "=========================================================================================\n",
       "                            coef    std err          z      P>|z|      [95.0% Conf. Int.]\n",
       "-----------------------------------------------------------------------------------------\n",
       "Intercept                -2.1612      0.650     -3.327      0.001        -3.434    -0.888\n",
       "city[T.Austin]            1.1074      1.061      1.044      0.296        -0.972     3.186\n",
       "city[T.Boston]            1.5220      0.704      2.161      0.031         0.141     2.903\n",
       "city[T.Chicago]           1.1641      0.713      1.632      0.103        -0.234     2.562\n",
       "city[T.Dallas]           -0.0567      0.927     -0.061      0.951        -1.873     1.759\n",
       "city[T.Denver]           -0.1808      0.928     -0.195      0.846        -2.000     1.639\n",
       "city[T.Houston]         -25.5428   1.45e+05     -0.000      1.000     -2.84e+05  2.84e+05\n",
       "city[T.Los_Angeles]       1.1730      0.791      1.482      0.138        -0.378     2.724\n",
       "city[T.Miami]            -0.3204      1.306     -0.245      0.806        -2.880     2.239\n",
       "city[T.New_York]          0.9011      0.652      1.383      0.167        -0.376     2.178\n",
       "city[T.Palo_Alto]         2.1954      0.801      2.742      0.006         0.626     3.765\n",
       "city[T.Philadelphia]      1.3221      0.887      1.491      0.136        -0.416     3.060\n",
       "city[T.Phoenix]         -56.1677   1.79e+12  -3.14e-11      1.000     -3.51e+12  3.51e+12\n",
       "city[T.Pittsburgh]      -17.8147   6182.649     -0.003      0.998     -1.21e+04  1.21e+04\n",
       "city[T.Portland]        -12.3553    655.223     -0.019      0.985     -1296.569  1271.858\n",
       "city[T.San_Diego]         0.9362      1.018      0.919      0.358        -1.060     2.932\n",
       "city[T.San_Francisco]     2.8009      0.763      3.673      0.000         1.306     4.295\n",
       "city[T.Seattle]           1.9735      0.910      2.170      0.030         0.191     3.756\n",
       "job_senior                1.5465      0.312      4.962      0.000         0.936     2.157\n",
       "job_mgmt                  2.0372      0.598      3.406      0.001         0.865     3.210\n",
       "=========================================================================================\n",
       "\"\"\""
      ]
     },
     "execution_count": 23,
     "metadata": {},
     "output_type": "execute_result"
    }
   ],
   "source": [
    "# Adding in 'job_senior' and 'job_mgmt'\n",
    "model = sm.logit(\"high_low ~ city + job_senior + job_mgmt\", data=df).fit()\n",
    "model.summary()"
   ]
  },
  {
   "cell_type": "markdown",
   "metadata": {},
   "source": [
    "Most notable P-values include:\n",
    "    - 'job_senior' (0.000)\n",
    "    - San Francisco, CA (0.000)\n",
    "    - 'job_mgmt' (0.001)\n",
    "    - Palo Alto, CA (0.006)\n",
    "    - Seattle, WA (0.03)"
   ]
  },
  {
   "cell_type": "markdown",
   "metadata": {},
   "source": [
    "### C. Logistic Regression in Sci-Kit Learn"
   ]
  },
  {
   "cell_type": "markdown",
   "metadata": {},
   "source": [
    "### Data Preprocessing"
   ]
  },
  {
   "cell_type": "code",
   "execution_count": 24,
   "metadata": {
    "collapsed": true
   },
   "outputs": [],
   "source": [
    "# Filter out categories\n",
    "cat_vars=['city', 'state', 'company', 'title']\n",
    "df_vars = df.columns.values.tolist()\n",
    "to_keep=[i for i in df_vars if i not in cat_vars]"
   ]
  },
  {
   "cell_type": "code",
   "execution_count": 25,
   "metadata": {
    "collapsed": false
   },
   "outputs": [
    {
     "data": {
      "text/plain": [
       "Index([u'average_salary', u'high_low', u'job_senior', u'job_mgmt',\n",
       "       u'city_Atlanta', u'city_Austin', u'city_Boston', u'city_Chicago',\n",
       "       u'city_Dallas', u'city_Denver', u'city_Houston', u'city_Los_Angeles',\n",
       "       u'city_Miami', u'city_New_York', u'city_Palo_Alto',\n",
       "       u'city_Philadelphia', u'city_Phoenix', u'city_Pittsburgh',\n",
       "       u'city_Portland', u'city_San_Diego', u'city_San_Francisco',\n",
       "       u'city_Seattle', u'state_Arizona', u'state_California',\n",
       "       u'state_Colorado', u'state_Florida', u'state_Georgia',\n",
       "       u'state_Illinois', u'state_Massachusetts', u'state_New_York',\n",
       "       u'state_Oregon', u'state_Pennsylvania', u'state_Texas',\n",
       "       u'state_Washington'],\n",
       "      dtype='object')"
      ]
     },
     "execution_count": 25,
     "metadata": {},
     "output_type": "execute_result"
    }
   ],
   "source": [
    "# Additional features\n",
    "df_final=df[to_keep]\n",
    "df_final.columns"
   ]
  },
  {
   "cell_type": "code",
   "execution_count": 26,
   "metadata": {
    "collapsed": false
   },
   "outputs": [
    {
     "data": {
      "text/plain": [
       "(332, 34)"
      ]
     },
     "execution_count": 26,
     "metadata": {},
     "output_type": "execute_result"
    }
   ],
   "source": [
    "df_final.shape"
   ]
  },
  {
   "cell_type": "code",
   "execution_count": 27,
   "metadata": {
    "collapsed": true
   },
   "outputs": [],
   "source": [
    "# # Target variable and feature variables\n",
    "y = df_final['high_low']\n",
    "X = df_final.drop(['high_low', 'average_salary'], axis=1)"
   ]
  },
  {
   "cell_type": "code",
   "execution_count": 28,
   "metadata": {
    "collapsed": false
   },
   "outputs": [],
   "source": [
    "# Train/Test Split\n",
    "X_train, X_test, y_train, y_test = train_test_split(X,y,random_state=0,test_size = 0.30)"
   ]
  },
  {
   "cell_type": "markdown",
   "metadata": {},
   "source": [
    "### Feature Ranking with Recursive Feature Elimination (RFE)"
   ]
  },
  {
   "cell_type": "markdown",
   "metadata": {},
   "source": [
    "Recursive feature elimination is based on the idea of repeatedly constructing a model (SVM or regression) and choose either the best or worst performing feature (example: based on coefficients), setting the feature aside and then repeating the process with the rest of the features. This process is applied until all features in the dataset are exhausted. Features are then ranked according to when they were eliminated. As such, it is a greedy optimization for finding the best performing subset of features."
   ]
  },
  {
   "cell_type": "code",
   "execution_count": 29,
   "metadata": {
    "collapsed": false
   },
   "outputs": [
    {
     "name": "stdout",
     "output_type": "stream",
     "text": [
      "Features sorted by their rank: [(1.0, 'city_Portland'), (2.0, 'average_salary'), (3.0, 'high_low'), (4.0, 'city_Dallas'), (5.0, 'state_Arizona'), (6.0, 'city_San_Francisco'), (7.0, 'city_Seattle'), (8.0, 'job_mgmt'), (9.0, 'city_Houston'), (10.0, 'state_Colorado'), (11.0, 'city_Palo_Alto'), (12.0, 'state_Oregon'), (13.0, 'city_Chicago'), (14.0, 'city_Phoenix'), (15.0, 'city_Pittsburgh'), (16.0, 'city_San_Diego'), (17.0, 'city_Denver'), (18.0, 'city_New_York'), (19.0, 'city_Atlanta'), (20.0, 'state_Massachusetts'), (21.0, 'state_California'), (22.0, 'city_Austin'), (23.0, 'state_Pennsylvania'), (24.0, 'city_Miami'), (25.0, 'job_senior'), (26.0, 'state_Georgia'), (27.0, 'city_Philadelphia'), (28.0, 'city_Boston'), (29.0, 'city_Los_Angeles'), (30.0, 'state_Florida'), (31.0, 'state_New_York'), (32.0, 'state_Illinois')]\n"
     ]
    }
   ],
   "source": [
    "lr = LogisticRegression()\n",
    "\n",
    "# Rank the features\n",
    "rfe = RFE(lr, n_features_to_select=1)\n",
    "rfe.fit(X_train, y_train)\n",
    "\n",
    "print \"Features sorted by their rank:\", sorted(zip(map(lambda x: round(x, 4), rfe.ranking_), df_final))"
   ]
  },
  {
   "cell_type": "markdown",
   "metadata": {},
   "source": [
    "### Recursive Feature Elimination with Cross Validation"
   ]
  },
  {
   "cell_type": "code",
   "execution_count": 30,
   "metadata": {
    "collapsed": false
   },
   "outputs": [
    {
     "name": "stdout",
     "output_type": "stream",
     "text": [
      "Optimal number of features : 32\n"
     ]
    }
   ],
   "source": [
    "# Create the RFE object and compute a cross-validated score.\n",
    "svc = SVC(kernel=\"linear\")\n",
    "\n",
    "# The \"accuracy\" scoring is proportional to the number of correct classifications\n",
    "rfecv = RFECV(estimator=svc, step=1, cv=StratifiedKFold(2), scoring='accuracy')\n",
    "rfecv.fit(X, y)\n",
    "\n",
    "print(\"Optimal number of features : %d\" % rfecv.n_features_)"
   ]
  },
  {
   "cell_type": "markdown",
   "metadata": {},
   "source": [
    "### Grid Search using Logistic Regression"
   ]
  },
  {
   "cell_type": "code",
   "execution_count": 31,
   "metadata": {
    "collapsed": false
   },
   "outputs": [],
   "source": [
    "num_of_Features = np.linspace(1,32,32)"
   ]
  },
  {
   "cell_type": "code",
   "execution_count": 32,
   "metadata": {
    "collapsed": false
   },
   "outputs": [
    {
     "data": {
      "text/plain": [
       "GridSearchCV(cv=None, error_score='raise',\n",
       "       estimator=RFE(estimator=LogisticRegression(C=1.0, class_weight=None, dual=False, fit_intercept=True,\n",
       "          intercept_scaling=1, max_iter=100, multi_class='ovr', n_jobs=1,\n",
       "          penalty='l2', random_state=None, solver='liblinear', tol=0.0001,\n",
       "          verbose=0, warm_start=False),\n",
       "  n_features_to_select=1, step=1, verbose=0),\n",
       "       fit_params={}, iid=True, n_jobs=1,\n",
       "       param_grid={'n_features_to_select': array([  1.,   2.,   3.,   4.,   5.,   6.,   7.,   8.,   9.,  10.,  11.,\n",
       "        12.,  13.,  14.,  15.,  16.,  17.,  18.,  19.,  20.,  21.,  22.,\n",
       "        23.,  24.,  25.,  26.,  27.,  28.,  29.,  30.,  31.,  32.])},\n",
       "       pre_dispatch='2*n_jobs', refit=True, return_train_score=True,\n",
       "       scoring=None, verbose=0)"
      ]
     },
     "execution_count": 32,
     "metadata": {},
     "output_type": "execute_result"
    }
   ],
   "source": [
    "# Optimal set of features\n",
    "parameters = {'n_features_to_select': num_of_Features}\n",
    "\n",
    "# Setup Grid Search\n",
    "gridsearch_logit_rfe = GridSearchCV(rfe, parameters)\n",
    "gridsearch_logit_rfe.fit(X_train, y_train)"
   ]
  },
  {
   "cell_type": "code",
   "execution_count": 33,
   "metadata": {
    "collapsed": false
   },
   "outputs": [
    {
     "name": "stdout",
     "output_type": "stream",
     "text": [
      "Train Score: 0.659482758621\n",
      "Test Score: 0.69\n"
     ]
    }
   ],
   "source": [
    "print \"Train Score:\", gridsearch_logit_rfe.score(X_train,y_train)\n",
    "print \"Test Score:\", gridsearch_logit_rfe.score(X_test,y_test)"
   ]
  },
  {
   "cell_type": "markdown",
   "metadata": {},
   "source": [
    "With a train score of about 66% accuracy and a test score with 69% accuracy, I am satisfied with the scores based on the small data set. This validates that this approach will do better than the baseline accuracy"
   ]
  },
  {
   "cell_type": "markdown",
   "metadata": {},
   "source": [
    "### Model Validation"
   ]
  },
  {
   "cell_type": "code",
   "execution_count": 34,
   "metadata": {
    "collapsed": true
   },
   "outputs": [],
   "source": [
    "from sklearn.metrics import confusion_matrix"
   ]
  },
  {
   "cell_type": "code",
   "execution_count": 35,
   "metadata": {
    "collapsed": false
   },
   "outputs": [],
   "source": [
    "y_pred = gridsearch_logit_rfe.predict(X_test)\n",
    "confusion = confusion_matrix(y_test,y_pred)"
   ]
  },
  {
   "cell_type": "code",
   "execution_count": 36,
   "metadata": {
    "collapsed": true
   },
   "outputs": [],
   "source": [
    "def plot_confusion_matrix(cm, classes,\n",
    "                          normalize=False,\n",
    "                          title='Confusion matrix',\n",
    "                          cmap=plt.cm.Blues):\n",
    "    \"\"\"\n",
    "    This function prints and plots the confusion matrix.\n",
    "    Normalization can be applied by setting `normalize=True`.\n",
    "    \"\"\"\n",
    "    plt.imshow(cm, interpolation='nearest', cmap=cmap)\n",
    "    plt.title(title)\n",
    "    plt.colorbar()\n",
    "    tick_marks = np.arange(len(classes))\n",
    "    plt.xticks(tick_marks, classes, rotation=45)\n",
    "    plt.yticks(tick_marks, classes)\n",
    "\n",
    "    if normalize:\n",
    "        cm = cm.astype('float') / cm.sum(axis=1)[:, np.newaxis]\n",
    "        print(\"Normalized confusion matrix\")\n",
    "    else:\n",
    "        print('Confusion matrix, without normalization')\n",
    "\n",
    "    print(cm)\n",
    "\n",
    "    thresh = cm.max() / 2.\n",
    "    for i, j in itertools.product(range(cm.shape[0]), range(cm.shape[1])):\n",
    "        plt.text(j, i, cm[i, j],\n",
    "                 horizontalalignment=\"center\",\n",
    "                 color=\"white\" if cm[i, j] > thresh else \"black\")\n",
    "\n",
    "    plt.tight_layout()\n",
    "    plt.ylabel('True label')\n",
    "    plt.xlabel('Predicted label')"
   ]
  },
  {
   "cell_type": "markdown",
   "metadata": {},
   "source": [
    "#### Plot the Confusion Matrix"
   ]
  },
  {
   "cell_type": "markdown",
   "metadata": {},
   "source": [
    "This model makse a \"True\" good job prediction about 38% of the time and a \"False\" good job prediction 62% of the time. Also the model makes a \"False\" bad job prediction 11% of the time and a \"True\" bad job prediction 88% of the time. I think these results are acceptable. Ideally, we would want the model to find a higher \"True\" good job prediction, but we will have to settle with the model highlighting all the \"True\" bad jobs on Indeed.com. Since this is binary classifier, our accuracy would expect to be a 50%. This model predicts good versus bad jobs significantly better, despite the small data set."
   ]
  },
  {
   "cell_type": "code",
   "execution_count": 37,
   "metadata": {
    "collapsed": false
   },
   "outputs": [
    {
     "name": "stdout",
     "output_type": "stream",
     "text": [
      "Normalized confusion matrix\n",
      "[[ 0.38461538  0.61538462]\n",
      " [ 0.1147541   0.8852459 ]]\n"
     ]
    },
    {
     "data": {
      "image/png": "[encoded data removed]",
      "text/plain": [
       "<matplotlib.figure.Figure at 0x120501d90>"
      ]
     },
     "metadata": {},
     "output_type": "display_data"
    }
   ],
   "source": [
    "plt.figure(figsize=(8,8))\n",
    "plot_confusion_matrix(confusion, classes=['Good Job','Bad Job'], normalize=True,\n",
    "                      title='Normalized confusion matrix')"
   ]
  },
  {
   "cell_type": "markdown",
   "metadata": {},
   "source": [
    "### Plot the ROC Curve"
   ]
  },
  {
   "cell_type": "markdown",
   "metadata": {},
   "source": [
    "The ROC Curve is a plot of the true positive rate against the false positive rate for different possible cutoffs. It is a graphical representation that illustrates the performance of a binary classifier system as its discrimination threshold is varied. The true-positive rate is also known as the sensitivity, recall or probability of detection. The false-positive rate is also known as the probability of a false alarm. \n",
    "\n",
    "The ROC Curve shown below demonstrates that the Area Under the Curve is about 63%, which is greater than our baseline accuracy of 50%. This means that overall, this model predicts an outcome better than a simple coin-flip."
   ]
  },
  {
   "cell_type": "code",
   "execution_count": 38,
   "metadata": {
    "collapsed": false
   },
   "outputs": [
    {
     "data": {
      "image/png": "[encoded data removed]",
      "text/plain": [
       "<matplotlib.figure.Figure at 0x120720410>"
      ]
     },
     "metadata": {},
     "output_type": "display_data"
    }
   ],
   "source": [
    "from sklearn.metrics import roc_curve, auc\n",
    "\n",
    "fpr_lr, tpr_lr, _ = roc_curve(y_test, y_pred)\n",
    "roc_auc_lr = auc(fpr_lr, tpr_lr)\n",
    "\n",
    "plt.figure(figsize=[7,6])\n",
    "plt.plot(fpr_lr, tpr_lr, label='logreg ROC curve (area = %0.2f)' % roc_auc_lr, \n",
    "         linewidth=4, color='darkred')\n",
    "plt.plot([0, 1], [0, 1], 'k--', linewidth=4)\n",
    "plt.xlim([0.0, 1.0])\n",
    "plt.ylim([0.0, 1.05])\n",
    "plt.xlabel('False Positive Rate', fontsize=16)\n",
    "plt.ylabel('True Positive Rate', fontsize=16)\n",
    "plt.title('Receiver operating characteristic curve', fontsize=20)\n",
    "plt.legend(loc=\"lower right\")\n",
    "plt.show()"
   ]
  },
  {
   "cell_type": "code",
   "execution_count": null,
   "metadata": {
    "collapsed": true
   },
   "outputs": [],
   "source": []
  }
 ],
 "metadata": {
  "anaconda-cloud": {},
  "kernelspec": {
   "display_name": "Python [Root]",
   "language": "python",
   "name": "Python [Root]"
  },
  "language_info": {
   "codemirror_mode": {
    "name": "ipython",
    "version": 2
   },
   "file_extension": ".py",
   "mimetype": "text/x-python",
   "name": "python",
   "nbconvert_exporter": "python",
   "pygments_lexer": "ipython2",
   "version": "2.7.12"
  }
 },
 "nbformat": 4,
 "nbformat_minor": 0
}
