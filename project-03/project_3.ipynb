{
 "cells": [
  {
   "cell_type": "markdown",
   "metadata": {},
   "source": [
    "# Project 3 / Iowa Liquor Sales\n",
    "\n",
    "Source: [Iowa Liquor Sales](https://data.iowa.gov/Economy/Iowa-Liquor-Sales/m3tr-qhgy) \n",
    "\n",
    "#### Goal: Find locations to open a new liquor store."
   ]
  },
  {
   "cell_type": "markdown",
   "metadata": {},
   "source": [
    "## Step 1: Import the Data and Packages"
   ]
  },
  {
   "cell_type": "code",
   "execution_count": 1,
   "metadata": {
    "collapsed": false
   },
   "outputs": [
    {
     "name": "stderr",
     "output_type": "stream",
     "text": [
      "//anaconda/lib/python2.7/site-packages/matplotlib/__init__.py:878: UserWarning: axes.color_cycle is deprecated and replaced with axes.prop_cycle; please use the latter.\n",
      "  warnings.warn(self.msg_depr % (key, alt_key))\n"
     ]
    }
   ],
   "source": [
    "import datetime\n",
    "import numpy as np\n",
    "import pandas as pd\n",
    "import seaborn as sns\n",
    "import matplotlib.pyplot as plt\n",
    "%matplotlib inline"
   ]
  },
  {
   "cell_type": "code",
   "execution_count": 2,
   "metadata": {
    "collapsed": false
   },
   "outputs": [
    {
     "name": "stdout",
     "output_type": "stream",
     "text": [
      "Index([u'Date', u'Store Number', u'City', u'Zip Code', u'County Number',\n",
      "       u'County', u'Category', u'Category Name', u'Vendor Number',\n",
      "       u'Item Number', u'Item Description', u'Bottle Volume (ml)',\n",
      "       u'State Bottle Cost', u'State Bottle Retail', u'Bottles Sold',\n",
      "       u'Sale (Dollars)', u'Volume Sold (Liters)', u'Volume Sold (Gallons)'],\n",
      "      dtype='object')\n"
     ]
    },
    {
     "data": {
      "text/html": [
       "<div>\n",
       "<table border=\"1\" class=\"dataframe\">\n",
       "  <thead>\n",
       "    <tr style=\"text-align: right;\">\n",
       "      <th></th>\n",
       "      <th>Date</th>\n",
       "      <th>Store Number</th>\n",
       "      <th>City</th>\n",
       "      <th>Zip Code</th>\n",
       "      <th>County Number</th>\n",
       "      <th>County</th>\n",
       "      <th>Category</th>\n",
       "      <th>Category Name</th>\n",
       "      <th>Vendor Number</th>\n",
       "      <th>Item Number</th>\n",
       "      <th>Item Description</th>\n",
       "      <th>Bottle Volume (ml)</th>\n",
       "      <th>State Bottle Cost</th>\n",
       "      <th>State Bottle Retail</th>\n",
       "      <th>Bottles Sold</th>\n",
       "      <th>Sale (Dollars)</th>\n",
       "      <th>Volume Sold (Liters)</th>\n",
       "      <th>Volume Sold (Gallons)</th>\n",
       "    </tr>\n",
       "  </thead>\n",
       "  <tbody>\n",
       "    <tr>\n",
       "      <th>0</th>\n",
       "      <td>11/04/2015</td>\n",
       "      <td>3717</td>\n",
       "      <td>SUMNER</td>\n",
       "      <td>50674</td>\n",
       "      <td>9.0</td>\n",
       "      <td>Bremer</td>\n",
       "      <td>1051100.0</td>\n",
       "      <td>APRICOT BRANDIES</td>\n",
       "      <td>55</td>\n",
       "      <td>54436</td>\n",
       "      <td>Mr. Boston Apricot Brandy</td>\n",
       "      <td>750</td>\n",
       "      <td>$4.50</td>\n",
       "      <td>$6.75</td>\n",
       "      <td>12</td>\n",
       "      <td>$81.00</td>\n",
       "      <td>9.0</td>\n",
       "      <td>2.38</td>\n",
       "    </tr>\n",
       "    <tr>\n",
       "      <th>1</th>\n",
       "      <td>03/02/2016</td>\n",
       "      <td>2614</td>\n",
       "      <td>DAVENPORT</td>\n",
       "      <td>52807</td>\n",
       "      <td>82.0</td>\n",
       "      <td>Scott</td>\n",
       "      <td>1011100.0</td>\n",
       "      <td>BLENDED WHISKIES</td>\n",
       "      <td>395</td>\n",
       "      <td>27605</td>\n",
       "      <td>Tin Cup</td>\n",
       "      <td>750</td>\n",
       "      <td>$13.75</td>\n",
       "      <td>$20.63</td>\n",
       "      <td>2</td>\n",
       "      <td>$41.26</td>\n",
       "      <td>1.5</td>\n",
       "      <td>0.40</td>\n",
       "    </tr>\n",
       "    <tr>\n",
       "      <th>2</th>\n",
       "      <td>02/11/2016</td>\n",
       "      <td>2106</td>\n",
       "      <td>CEDAR FALLS</td>\n",
       "      <td>50613</td>\n",
       "      <td>7.0</td>\n",
       "      <td>Black Hawk</td>\n",
       "      <td>1011200.0</td>\n",
       "      <td>STRAIGHT BOURBON WHISKIES</td>\n",
       "      <td>65</td>\n",
       "      <td>19067</td>\n",
       "      <td>Jim Beam</td>\n",
       "      <td>1000</td>\n",
       "      <td>$12.59</td>\n",
       "      <td>$18.89</td>\n",
       "      <td>24</td>\n",
       "      <td>$453.36</td>\n",
       "      <td>24.0</td>\n",
       "      <td>6.34</td>\n",
       "    </tr>\n",
       "    <tr>\n",
       "      <th>3</th>\n",
       "      <td>02/03/2016</td>\n",
       "      <td>2501</td>\n",
       "      <td>AMES</td>\n",
       "      <td>50010</td>\n",
       "      <td>85.0</td>\n",
       "      <td>Story</td>\n",
       "      <td>1071100.0</td>\n",
       "      <td>AMERICAN COCKTAILS</td>\n",
       "      <td>395</td>\n",
       "      <td>59154</td>\n",
       "      <td>1800 Ultimate Margarita</td>\n",
       "      <td>1750</td>\n",
       "      <td>$9.50</td>\n",
       "      <td>$14.25</td>\n",
       "      <td>6</td>\n",
       "      <td>$85.50</td>\n",
       "      <td>10.5</td>\n",
       "      <td>2.77</td>\n",
       "    </tr>\n",
       "    <tr>\n",
       "      <th>4</th>\n",
       "      <td>08/18/2015</td>\n",
       "      <td>3654</td>\n",
       "      <td>BELMOND</td>\n",
       "      <td>50421</td>\n",
       "      <td>99.0</td>\n",
       "      <td>Wright</td>\n",
       "      <td>1031080.0</td>\n",
       "      <td>VODKA 80 PROOF</td>\n",
       "      <td>297</td>\n",
       "      <td>35918</td>\n",
       "      <td>Five O'clock Vodka</td>\n",
       "      <td>1750</td>\n",
       "      <td>$7.20</td>\n",
       "      <td>$10.80</td>\n",
       "      <td>12</td>\n",
       "      <td>$129.60</td>\n",
       "      <td>21.0</td>\n",
       "      <td>5.55</td>\n",
       "    </tr>\n",
       "  </tbody>\n",
       "</table>\n",
       "</div>"
      ],
      "text/plain": [
       "         Date  Store Number         City Zip Code  County Number      County  \\\n",
       "0  11/04/2015          3717       SUMNER    50674            9.0      Bremer   \n",
       "1  03/02/2016          2614    DAVENPORT    52807           82.0       Scott   \n",
       "2  02/11/2016          2106  CEDAR FALLS    50613            7.0  Black Hawk   \n",
       "3  02/03/2016          2501         AMES    50010           85.0       Story   \n",
       "4  08/18/2015          3654      BELMOND    50421           99.0      Wright   \n",
       "\n",
       "    Category              Category Name  Vendor Number  Item Number  \\\n",
       "0  1051100.0           APRICOT BRANDIES             55        54436   \n",
       "1  1011100.0           BLENDED WHISKIES            395        27605   \n",
       "2  1011200.0  STRAIGHT BOURBON WHISKIES             65        19067   \n",
       "3  1071100.0         AMERICAN COCKTAILS            395        59154   \n",
       "4  1031080.0             VODKA 80 PROOF            297        35918   \n",
       "\n",
       "            Item Description  Bottle Volume (ml) State Bottle Cost  \\\n",
       "0  Mr. Boston Apricot Brandy                 750             $4.50   \n",
       "1                    Tin Cup                 750            $13.75   \n",
       "2                   Jim Beam                1000            $12.59   \n",
       "3    1800 Ultimate Margarita                1750             $9.50   \n",
       "4         Five O'clock Vodka                1750             $7.20   \n",
       "\n",
       "  State Bottle Retail  Bottles Sold Sale (Dollars)  Volume Sold (Liters)  \\\n",
       "0               $6.75            12         $81.00                   9.0   \n",
       "1              $20.63             2         $41.26                   1.5   \n",
       "2              $18.89            24        $453.36                  24.0   \n",
       "3              $14.25             6         $85.50                  10.5   \n",
       "4              $10.80            12        $129.60                  21.0   \n",
       "\n",
       "   Volume Sold (Gallons)  \n",
       "0                   2.38  \n",
       "1                   0.40  \n",
       "2                   6.34  \n",
       "3                   2.77  \n",
       "4                   5.55  "
      ]
     },
     "execution_count": 2,
     "metadata": {},
     "output_type": "execute_result"
    }
   ],
   "source": [
    "# Load the data\n",
    "df = pd.read_csv(\"data/Iowa_Liquor_sales_sample_10pct.csv\")\n",
    "print df.columns\n",
    "df.head()"
   ]
  },
  {
   "cell_type": "markdown",
   "metadata": {},
   "source": [
    "## Step 2: Clean the data"
   ]
  },
  {
   "cell_type": "code",
   "execution_count": 3,
   "metadata": {
    "collapsed": false
   },
   "outputs": [
    {
     "data": {
      "text/html": [
       "<div>\n",
       "<table border=\"1\" class=\"dataframe\">\n",
       "  <thead>\n",
       "    <tr style=\"text-align: right;\">\n",
       "      <th></th>\n",
       "      <th>Date</th>\n",
       "      <th>Store Number</th>\n",
       "      <th>City</th>\n",
       "      <th>Zip Code</th>\n",
       "      <th>County Number</th>\n",
       "      <th>Category</th>\n",
       "      <th>Vendor Number</th>\n",
       "      <th>Item Number</th>\n",
       "      <th>Bottle Volume (ml)</th>\n",
       "      <th>State Bottle Cost</th>\n",
       "      <th>...</th>\n",
       "      <th>Volume Sold (Liters)</th>\n",
       "      <th>Volume Sold (Gallons)</th>\n",
       "      <th>Profit</th>\n",
       "      <th>Cost</th>\n",
       "      <th>Price Per Bottle</th>\n",
       "      <th>Price Per Liter</th>\n",
       "      <th>Profit Per Liter</th>\n",
       "      <th>Month</th>\n",
       "      <th>Day</th>\n",
       "      <th>Year</th>\n",
       "    </tr>\n",
       "  </thead>\n",
       "  <tbody>\n",
       "    <tr>\n",
       "      <th>0</th>\n",
       "      <td>2015-11-04</td>\n",
       "      <td>3717</td>\n",
       "      <td>SUMNER</td>\n",
       "      <td>50674</td>\n",
       "      <td>9</td>\n",
       "      <td>1051100</td>\n",
       "      <td>55</td>\n",
       "      <td>54436</td>\n",
       "      <td>750</td>\n",
       "      <td>4.50</td>\n",
       "      <td>...</td>\n",
       "      <td>9.0</td>\n",
       "      <td>2.38</td>\n",
       "      <td>27.00</td>\n",
       "      <td>54.00</td>\n",
       "      <td>6.75</td>\n",
       "      <td>9.000000</td>\n",
       "      <td>3.000000</td>\n",
       "      <td>11</td>\n",
       "      <td>4</td>\n",
       "      <td>2015</td>\n",
       "    </tr>\n",
       "    <tr>\n",
       "      <th>1</th>\n",
       "      <td>2016-03-02</td>\n",
       "      <td>2614</td>\n",
       "      <td>DAVENPORT</td>\n",
       "      <td>52807</td>\n",
       "      <td>82</td>\n",
       "      <td>1011100</td>\n",
       "      <td>395</td>\n",
       "      <td>27605</td>\n",
       "      <td>750</td>\n",
       "      <td>13.75</td>\n",
       "      <td>...</td>\n",
       "      <td>1.5</td>\n",
       "      <td>0.40</td>\n",
       "      <td>13.76</td>\n",
       "      <td>27.50</td>\n",
       "      <td>20.63</td>\n",
       "      <td>27.506667</td>\n",
       "      <td>9.173333</td>\n",
       "      <td>3</td>\n",
       "      <td>2</td>\n",
       "      <td>2016</td>\n",
       "    </tr>\n",
       "    <tr>\n",
       "      <th>2</th>\n",
       "      <td>2016-02-11</td>\n",
       "      <td>2106</td>\n",
       "      <td>CEDAR FALLS</td>\n",
       "      <td>50613</td>\n",
       "      <td>7</td>\n",
       "      <td>1011200</td>\n",
       "      <td>65</td>\n",
       "      <td>19067</td>\n",
       "      <td>1000</td>\n",
       "      <td>12.59</td>\n",
       "      <td>...</td>\n",
       "      <td>24.0</td>\n",
       "      <td>6.34</td>\n",
       "      <td>151.20</td>\n",
       "      <td>302.16</td>\n",
       "      <td>18.89</td>\n",
       "      <td>18.890000</td>\n",
       "      <td>6.300000</td>\n",
       "      <td>2</td>\n",
       "      <td>11</td>\n",
       "      <td>2016</td>\n",
       "    </tr>\n",
       "    <tr>\n",
       "      <th>3</th>\n",
       "      <td>2016-02-03</td>\n",
       "      <td>2501</td>\n",
       "      <td>AMES</td>\n",
       "      <td>50010</td>\n",
       "      <td>85</td>\n",
       "      <td>1071100</td>\n",
       "      <td>395</td>\n",
       "      <td>59154</td>\n",
       "      <td>1750</td>\n",
       "      <td>9.50</td>\n",
       "      <td>...</td>\n",
       "      <td>10.5</td>\n",
       "      <td>2.77</td>\n",
       "      <td>28.50</td>\n",
       "      <td>57.00</td>\n",
       "      <td>14.25</td>\n",
       "      <td>8.142857</td>\n",
       "      <td>2.714286</td>\n",
       "      <td>2</td>\n",
       "      <td>3</td>\n",
       "      <td>2016</td>\n",
       "    </tr>\n",
       "    <tr>\n",
       "      <th>4</th>\n",
       "      <td>2015-08-18</td>\n",
       "      <td>3654</td>\n",
       "      <td>BELMOND</td>\n",
       "      <td>50421</td>\n",
       "      <td>99</td>\n",
       "      <td>1031080</td>\n",
       "      <td>297</td>\n",
       "      <td>35918</td>\n",
       "      <td>1750</td>\n",
       "      <td>7.20</td>\n",
       "      <td>...</td>\n",
       "      <td>21.0</td>\n",
       "      <td>5.55</td>\n",
       "      <td>43.20</td>\n",
       "      <td>86.40</td>\n",
       "      <td>10.80</td>\n",
       "      <td>6.171429</td>\n",
       "      <td>2.057143</td>\n",
       "      <td>8</td>\n",
       "      <td>18</td>\n",
       "      <td>2015</td>\n",
       "    </tr>\n",
       "  </tbody>\n",
       "</table>\n",
       "<p>5 rows × 23 columns</p>\n",
       "</div>"
      ],
      "text/plain": [
       "        Date  Store Number         City Zip Code  County Number  Category  \\\n",
       "0 2015-11-04          3717       SUMNER    50674              9   1051100   \n",
       "1 2016-03-02          2614    DAVENPORT    52807             82   1011100   \n",
       "2 2016-02-11          2106  CEDAR FALLS    50613              7   1011200   \n",
       "3 2016-02-03          2501         AMES    50010             85   1071100   \n",
       "4 2015-08-18          3654      BELMOND    50421             99   1031080   \n",
       "\n",
       "   Vendor Number  Item Number  Bottle Volume (ml)  State Bottle Cost  ...   \\\n",
       "0             55        54436                 750               4.50  ...    \n",
       "1            395        27605                 750              13.75  ...    \n",
       "2             65        19067                1000              12.59  ...    \n",
       "3            395        59154                1750               9.50  ...    \n",
       "4            297        35918                1750               7.20  ...    \n",
       "\n",
       "   Volume Sold (Liters)  Volume Sold (Gallons)  Profit    Cost  \\\n",
       "0                   9.0                   2.38   27.00   54.00   \n",
       "1                   1.5                   0.40   13.76   27.50   \n",
       "2                  24.0                   6.34  151.20  302.16   \n",
       "3                  10.5                   2.77   28.50   57.00   \n",
       "4                  21.0                   5.55   43.20   86.40   \n",
       "\n",
       "   Price Per Bottle  Price Per Liter  Profit Per Liter  Month  Day  Year  \n",
       "0              6.75         9.000000          3.000000     11    4  2015  \n",
       "1             20.63        27.506667          9.173333      3    2  2016  \n",
       "2             18.89        18.890000          6.300000      2   11  2016  \n",
       "3             14.25         8.142857          2.714286      2    3  2016  \n",
       "4             10.80         6.171429          2.057143      8   18  2015  \n",
       "\n",
       "[5 rows x 23 columns]"
      ]
     },
     "execution_count": 3,
     "metadata": {},
     "output_type": "execute_result"
    }
   ],
   "source": [
    "# Remove redundant columns\n",
    "del df[\"Category Name\"]\n",
    "del df[\"Item Description\"]\n",
    "del df[\"County\"]\n",
    "\n",
    "# Remove $ from certain columns\n",
    "cols = [\"State Bottle Cost\", \"State Bottle Retail\", \"Sale (Dollars)\"]\n",
    "for col in cols:\n",
    "    df[col] = df[col].apply(lambda x: float(x[1:]))\n",
    "    \n",
    "# Convert dates\n",
    "df[\"Date\"] = pd.to_datetime(df[\"Date\"], format=\"%m/%d/%Y\")\n",
    "\n",
    "# Drop or replace bad values\n",
    "df = df.dropna()\n",
    "\n",
    "# Convert integers\n",
    "df[\"County Number\"] = df[\"County Number\"].astype(int)\n",
    "df[\"Category\"] = df[\"Category\"].astype(int)\n",
    "df[\"Store Number\"] = df[\"Store Number\"].astype(int)\n",
    "\n",
    "# Create new columns\n",
    "df[\"Profit\"] = (df[\"State Bottle Retail\"] - df[\"State Bottle Cost\"]) * df['Bottles Sold']\n",
    "df[\"Cost\"] = df[\"State Bottle Cost\"] * df[\"Bottles Sold\"]\n",
    "df[\"Price Per Bottle\"] = df[\"Sale (Dollars)\"] / df[\"Bottles Sold\"] \n",
    "df[\"Price Per Liter\"] = df[\"Sale (Dollars)\"] / df[\"Volume Sold (Liters)\"]\n",
    "df[\"Profit Per Liter\"] = df[\"Profit\"] / df[\"Volume Sold (Liters)\"]\n",
    "df[\"Month\"] = df[\"Date\"].map(lambda x: x.month)\n",
    "df[\"Day\"] = df[\"Date\"].map(lambda x: x.day)\n",
    "df[\"Year\"] = df[\"Date\"].map(lambda x: x.year)\n",
    "\n",
    "df.head()"
   ]
  },
  {
   "cell_type": "markdown",
   "metadata": {},
   "source": [
    "## Step 3: Exploratory Data Analysis"
   ]
  },
  {
   "cell_type": "markdown",
   "metadata": {},
   "source": [
    "#### Sales per store, 2015"
   ]
  },
  {
   "cell_type": "code",
   "execution_count": 4,
   "metadata": {
    "collapsed": false
   },
   "outputs": [
    {
     "data": {
      "text/html": [
       "<div>\n",
       "<table border=\"1\" class=\"dataframe\">\n",
       "  <thead>\n",
       "    <tr style=\"text-align: right;\">\n",
       "      <th></th>\n",
       "      <th>Store Number</th>\n",
       "      <th>Total Volume Sold (Liters)</th>\n",
       "      <th>Average Volume Sold (Liters)</th>\n",
       "      <th>City</th>\n",
       "      <th>Cost</th>\n",
       "      <th>Revenue</th>\n",
       "      <th>Average Sale (Dollars)</th>\n",
       "      <th>Average Price Per Bottle</th>\n",
       "      <th>Profit Per Liter</th>\n",
       "      <th>Profit</th>\n",
       "      <th>County Number</th>\n",
       "      <th>Average Price Per Liter</th>\n",
       "      <th>Zip Code</th>\n",
       "    </tr>\n",
       "  </thead>\n",
       "  <tbody>\n",
       "    <tr>\n",
       "      <th>0</th>\n",
       "      <td>2106</td>\n",
       "      <td>9731.85</td>\n",
       "      <td>18.466509</td>\n",
       "      <td>CEDAR FALLS</td>\n",
       "      <td>97488.14</td>\n",
       "      <td>146326.22</td>\n",
       "      <td>277.658861</td>\n",
       "      <td>15.475863</td>\n",
       "      <td>3141.451190</td>\n",
       "      <td>48838.08</td>\n",
       "      <td>7</td>\n",
       "      <td>17.856601</td>\n",
       "      <td>50613</td>\n",
       "    </tr>\n",
       "    <tr>\n",
       "      <th>1</th>\n",
       "      <td>2113</td>\n",
       "      <td>659.85</td>\n",
       "      <td>4.488776</td>\n",
       "      <td>GOWRIE</td>\n",
       "      <td>6201.18</td>\n",
       "      <td>9310.22</td>\n",
       "      <td>63.334830</td>\n",
       "      <td>16.315646</td>\n",
       "      <td>907.563333</td>\n",
       "      <td>3109.04</td>\n",
       "      <td>94</td>\n",
       "      <td>18.507700</td>\n",
       "      <td>50543</td>\n",
       "    </tr>\n",
       "    <tr>\n",
       "      <th>2</th>\n",
       "      <td>2130</td>\n",
       "      <td>6891.37</td>\n",
       "      <td>17.580026</td>\n",
       "      <td>WATERLOO</td>\n",
       "      <td>74546.23</td>\n",
       "      <td>111871.43</td>\n",
       "      <td>285.386301</td>\n",
       "      <td>14.764286</td>\n",
       "      <td>2201.842143</td>\n",
       "      <td>37325.20</td>\n",
       "      <td>7</td>\n",
       "      <td>16.835809</td>\n",
       "      <td>50703</td>\n",
       "    </tr>\n",
       "    <tr>\n",
       "      <th>3</th>\n",
       "      <td>2152</td>\n",
       "      <td>633.37</td>\n",
       "      <td>4.491986</td>\n",
       "      <td>ROCKWELL</td>\n",
       "      <td>5133.55</td>\n",
       "      <td>7721.08</td>\n",
       "      <td>54.759433</td>\n",
       "      <td>12.887660</td>\n",
       "      <td>614.545883</td>\n",
       "      <td>2587.53</td>\n",
       "      <td>17</td>\n",
       "      <td>13.020765</td>\n",
       "      <td>50469</td>\n",
       "    </tr>\n",
       "    <tr>\n",
       "      <th>4</th>\n",
       "      <td>2178</td>\n",
       "      <td>1917.12</td>\n",
       "      <td>8.089114</td>\n",
       "      <td>WAUKON</td>\n",
       "      <td>16158.48</td>\n",
       "      <td>24324.18</td>\n",
       "      <td>102.633671</td>\n",
       "      <td>14.558692</td>\n",
       "      <td>1271.498031</td>\n",
       "      <td>8165.70</td>\n",
       "      <td>3</td>\n",
       "      <td>16.053844</td>\n",
       "      <td>52172</td>\n",
       "    </tr>\n",
       "  </tbody>\n",
       "</table>\n",
       "</div>"
      ],
      "text/plain": [
       "   Store Number  Total Volume Sold (Liters)  Average Volume Sold (Liters)  \\\n",
       "0          2106                     9731.85                     18.466509   \n",
       "1          2113                      659.85                      4.488776   \n",
       "2          2130                     6891.37                     17.580026   \n",
       "3          2152                      633.37                      4.491986   \n",
       "4          2178                     1917.12                      8.089114   \n",
       "\n",
       "          City      Cost    Revenue  Average Sale (Dollars)  \\\n",
       "0  CEDAR FALLS  97488.14  146326.22              277.658861   \n",
       "1       GOWRIE   6201.18    9310.22               63.334830   \n",
       "2     WATERLOO  74546.23  111871.43              285.386301   \n",
       "3     ROCKWELL   5133.55    7721.08               54.759433   \n",
       "4       WAUKON  16158.48   24324.18              102.633671   \n",
       "\n",
       "   Average Price Per Bottle  Profit Per Liter    Profit  County Number  \\\n",
       "0                 15.475863       3141.451190  48838.08              7   \n",
       "1                 16.315646        907.563333   3109.04             94   \n",
       "2                 14.764286       2201.842143  37325.20              7   \n",
       "3                 12.887660        614.545883   2587.53             17   \n",
       "4                 14.558692       1271.498031   8165.70              3   \n",
       "\n",
       "   Average Price Per Liter Zip Code  \n",
       "0                17.856601    50613  \n",
       "1                18.507700    50543  \n",
       "2                16.835809    50703  \n",
       "3                13.020765    50469  \n",
       "4                16.053844    52172  "
      ]
     },
     "execution_count": 4,
     "metadata": {},
     "output_type": "execute_result"
    }
   ],
   "source": [
    "# Filter by start and end dates\n",
    "df.sort_values(by=[\"Store Number\", \"Date\"], inplace=True)\n",
    "start_date = pd.Timestamp(\"20150101\")\n",
    "end_date = pd.Timestamp(\"20151231\")\n",
    "mask = (df['Date'] >= start_date) & (df['Date'] <= end_date)\n",
    "sales = df[mask]\n",
    "\n",
    "# Group by store name\n",
    "sales = sales.groupby(by=[\"Store Number\"], as_index=False)\n",
    "# Compute sums, means\n",
    "sales = sales.agg({\"Sale (Dollars)\": [np.sum, np.mean],\n",
    "                   \"Cost\": np.sum,\n",
    "                   \"Profit\": np.sum,\n",
    "                   \"Price Per Bottle\": np.mean,\n",
    "                   \"Price Per Liter\": np.mean,\n",
    "                   \"Volume Sold (Liters)\": [np.sum, np.mean],\n",
    "                   \"Zip Code\": lambda x: x.iloc[0], # just extract once, should be the same\n",
    "                   \"City\": lambda x: x.iloc[0],\n",
    "                   \"County Number\": lambda x: x.iloc[0],\n",
    "                   \"Profit Per Liter\": np.sum})\n",
    "# Collapse the column indices\n",
    "sales.columns = [' '.join(col).strip() for col in sales.columns.values]\n",
    "\n",
    "# Rename the columns\n",
    "sales.rename(columns=lambda x: x.replace('Volume Sold (Liters) sum', 'Total Volume Sold (Liters)'), inplace=True)\n",
    "sales.rename(columns=lambda x: x.replace('Volume Sold (Liters) mean', 'Average Volume Sold (Liters)'), inplace=True)\n",
    "sales.rename(columns=lambda x: x.replace('City <lambda>', 'City'), inplace=True)\n",
    "sales.rename(columns=lambda x: x.replace('Sale (Dollars) sum', 'Revenue'), inplace=True)\n",
    "sales.rename(columns=lambda x: x.replace('Sale (Dollars) mean', 'Average Sale (Dollars)'), inplace=True)\n",
    "sales.rename(columns=lambda x: x.replace('Cost sum', 'Cost'), inplace=True)\n",
    "sales.rename(columns=lambda x: x.replace('Price Per Bottle mean', 'Average Price Per Bottle'), inplace=True)\n",
    "sales.rename(columns=lambda x: x.replace('Profit sum', 'Profit'), inplace=True)\n",
    "sales.rename(columns=lambda x: x.replace('County Number <lambda>', 'County Number'), inplace=True)\n",
    "sales.rename(columns=lambda x: x.replace('Price Per Liter mean', 'Average Price Per Liter'), inplace=True)\n",
    "sales.rename(columns=lambda x: x.replace('Zip Code <lambda>', 'Zip Code'), inplace=True)\n",
    "sales.rename(columns=lambda x: x.replace('Profit Per Liter sum', 'Profit Per Liter'), inplace=True)\n",
    "\n",
    "sales.head()"
   ]
  },
  {
   "cell_type": "markdown",
   "metadata": {},
   "source": [
    "#### Q1 Sales in 2015"
   ]
  },
  {
   "cell_type": "code",
   "execution_count": 5,
   "metadata": {
    "collapsed": false
   },
   "outputs": [],
   "source": [
    "# Filter data from January 1st 2015 to March 31st 2015\n",
    "df.sort_values(by=[\"Store Number\", \"Date\"], inplace=True)\n",
    "start_date = pd.Timestamp(\"20150101\")\n",
    "end_date = pd.Timestamp(\"20150331\")\n",
    "mask = (df['Date'] >= start_date) & (df['Date'] <= end_date)\n",
    "q1_sales_2015 = df[mask]\n",
    "\n",
    "# Group by store name\n",
    "q1_sales_2015 = q1_sales_2015.groupby(by=[\"Store Number\"], as_index=False)\n",
    "# Compute sums\n",
    "q1_sales_2015 = q1_sales_2015.agg({\"Sale (Dollars)\": np.sum})\n",
    "# Collapse the column indices\n",
    "q1_sales_2015.columns = [' '.join(col).strip() for col in q1_sales_2015.columns.values]\n",
    "\n",
    "# Rename the columns\n",
    "q1_sales_2015.rename(columns=lambda x: x.replace('S t o r e   N u m b e r', 'Store Number'), inplace=True)\n",
    "q1_sales_2015.rename(columns=lambda x: x.replace('S a l e   ( D o l l a r s )', 'Q1 Revenue (2015)'), inplace=True)\n",
    "\n",
    "# Merge with Sales dataframe\n",
    "sales = pd.merge(sales, q1_sales_2015, on='Store Number', how='right')"
   ]
  },
  {
   "cell_type": "markdown",
   "metadata": {},
   "source": [
    "#### Q2 Sales 2015 "
   ]
  },
  {
   "cell_type": "code",
   "execution_count": 6,
   "metadata": {
    "collapsed": true
   },
   "outputs": [],
   "source": [
    "# Filter data from April 1st, 2015 to June 30th, 2015\n",
    "df.sort_values(by=[\"Store Number\", \"Date\"], inplace=True)\n",
    "start_date = pd.Timestamp(\"20150401\")\n",
    "end_date = pd.Timestamp(\"20150630\")\n",
    "mask = (df['Date'] >= start_date) & (df['Date'] <= end_date)\n",
    "q2_sales_2015 = df[mask]\n",
    "\n",
    "# Group by store name\n",
    "q2_sales_2015 = q2_sales_2015.groupby(by=[\"Store Number\"], as_index=False)\n",
    "# Compute sums\n",
    "q2_sales_2015 = q2_sales_2015.agg({\"Sale (Dollars)\": np.sum})\n",
    "# Collapse the column indices\n",
    "q2_sales_2015.columns = [' '.join(col).strip() for col in q2_sales_2015.columns.values]\n",
    "\n",
    "# Rename the columns\n",
    "q2_sales_2015.rename(columns=lambda x: x.replace('S t o r e   N u m b e r', 'Store Number'), inplace=True)\n",
    "q2_sales_2015.rename(columns=lambda x: x.replace('S a l e   ( D o l l a r s )', 'Q2 Revenue (2015)'), inplace=True)\n",
    "\n",
    "# Merge with Sales dataframe\n",
    "sales = pd.merge(sales, q2_sales_2015, on='Store Number', how='right')"
   ]
  },
  {
   "cell_type": "markdown",
   "metadata": {},
   "source": [
    "#### Q3 Sales in 2015"
   ]
  },
  {
   "cell_type": "code",
   "execution_count": 7,
   "metadata": {
    "collapsed": true
   },
   "outputs": [],
   "source": [
    "# Filter data from July 1st, 2015 to September 30th, 2015\n",
    "df.sort_values(by=[\"Store Number\", \"Date\"], inplace=True)\n",
    "start_date = pd.Timestamp(\"20150701\")\n",
    "end_date = pd.Timestamp(\"20150930\")\n",
    "mask = (df['Date'] >= start_date) & (df['Date'] <= end_date)\n",
    "q3_sales_2015 = df[mask]\n",
    "\n",
    "# Group by store name\n",
    "q3_sales_2015 = q3_sales_2015.groupby(by=[\"Store Number\"], as_index=False)\n",
    "# Compute sums\n",
    "q3_sales_2015 = q3_sales_2015.agg({\"Sale (Dollars)\": np.sum})\n",
    "# Collapse the column indices\n",
    "q3_sales_2015.columns = [' '.join(col).strip() for col in q3_sales_2015.columns.values]\n",
    "\n",
    "# Rename the columns\n",
    "q3_sales_2015.rename(columns=lambda x: x.replace('S t o r e   N u m b e r', 'Store Number'), inplace=True)\n",
    "q3_sales_2015.rename(columns=lambda x: x.replace('S a l e   ( D o l l a r s )', 'Q3 Revenue (2015)'), inplace=True)\n",
    "\n",
    "# Merge with Sales dataframe\n",
    "sales = pd.merge(sales, q3_sales_2015, on='Store Number', how='right')"
   ]
  },
  {
   "cell_type": "markdown",
   "metadata": {},
   "source": [
    "#### Q4 Sales in 2015"
   ]
  },
  {
   "cell_type": "code",
   "execution_count": 8,
   "metadata": {
    "collapsed": true
   },
   "outputs": [],
   "source": [
    "# Filter data from October 1st, 2015 to December 31st, 2015\n",
    "df.sort_values(by=[\"Store Number\", \"Date\"], inplace=True)\n",
    "start_date = pd.Timestamp(\"20151001\")\n",
    "end_date = pd.Timestamp(\"20151231\")\n",
    "mask = (df['Date'] >= start_date) & (df['Date'] <= end_date)\n",
    "q4_sales_2015 = df[mask]\n",
    "\n",
    "# Group by store name\n",
    "q4_sales_2015 = q4_sales_2015.groupby(by=[\"Store Number\"], as_index=False)\n",
    "# Compute sums\n",
    "q4_sales_2015 = q4_sales_2015.agg({\"Sale (Dollars)\": np.sum})\n",
    "# Collapse the column indices\n",
    "q4_sales_2015.columns = [' '.join(col).strip() for col in q4_sales_2015.columns.values]\n",
    "\n",
    "# Rename the columns\n",
    "q4_sales_2015.rename(columns=lambda x: x.replace('S t o r e   N u m b e r', 'Store Number'), inplace=True)\n",
    "q4_sales_2015.rename(columns=lambda x: x.replace('S a l e   ( D o l l a r s )', 'Q4 Revenue (2015)'), inplace=True)\n",
    "\n",
    "# Merge with Sales dataframe\n",
    "sales = pd.merge(sales, q4_sales_2015, on='Store Number', how='right')"
   ]
  },
  {
   "cell_type": "markdown",
   "metadata": {},
   "source": [
    "#### Q1 Sales in 2016"
   ]
  },
  {
   "cell_type": "code",
   "execution_count": 9,
   "metadata": {
    "collapsed": false
   },
   "outputs": [],
   "source": [
    "# Filter data from January 1st 2016 to March 31st, 2016\n",
    "df.sort_values(by=[\"Store Number\", \"Date\"], inplace=True)\n",
    "start_date = pd.Timestamp(\"20160101\")\n",
    "end_date = pd.Timestamp(\"20160331\")\n",
    "mask = (df['Date'] >= start_date) & (df['Date'] <= end_date)\n",
    "q1_sales_2016 = df[mask]\n",
    "\n",
    "# Group by store name\n",
    "q1_sales_2016 = q1_sales_2016.groupby(by=[\"Store Number\"], as_index=False)\n",
    "# Compute sums, means\n",
    "q1_sales_2016 = q1_sales_2016.agg({\"Sale (Dollars)\": np.sum})\n",
    "# Collapse the column indices\n",
    "q1_sales_2016.columns = [' '.join(col).strip() for col in q1_sales_2016.columns.values]\n",
    "\n",
    "# Rename the columns\n",
    "q1_sales_2016.rename(columns=lambda x: x.replace('S t o r e   N u m b e r', 'Store Number'), inplace=True)\n",
    "q1_sales_2016.rename(columns=lambda x: x.replace('S a l e   ( D o l l a r s )', 'Q1 Revenue (2016)'), inplace=True)\n",
    "\n",
    "# Merget with Sales dataframe\n",
    "sales = pd.merge(sales, q1_sales_2016, on='Store Number', how='right')"
   ]
  },
  {
   "cell_type": "markdown",
   "metadata": {},
   "source": [
    "#### Let's see our Sales dataframe"
   ]
  },
  {
   "cell_type": "code",
   "execution_count": 10,
   "metadata": {
    "collapsed": false
   },
   "outputs": [
    {
     "data": {
      "text/html": [
       "<div>\n",
       "<table border=\"1\" class=\"dataframe\">\n",
       "  <thead>\n",
       "    <tr style=\"text-align: right;\">\n",
       "      <th></th>\n",
       "      <th>Store Number</th>\n",
       "      <th>Total Volume Sold (Liters)</th>\n",
       "      <th>Average Volume Sold (Liters)</th>\n",
       "      <th>City</th>\n",
       "      <th>Cost</th>\n",
       "      <th>Revenue</th>\n",
       "      <th>Average Sale (Dollars)</th>\n",
       "      <th>Average Price Per Bottle</th>\n",
       "      <th>Profit Per Liter</th>\n",
       "      <th>Profit</th>\n",
       "      <th>County Number</th>\n",
       "      <th>Average Price Per Liter</th>\n",
       "      <th>Zip Code</th>\n",
       "      <th>Q1 Revenue (2015)</th>\n",
       "      <th>Q2 Revenue (2015)</th>\n",
       "      <th>Q3 Revenue (2015)</th>\n",
       "      <th>Q4 Revenue (2015)</th>\n",
       "      <th>Q1 Revenue (2016)</th>\n",
       "    </tr>\n",
       "  </thead>\n",
       "  <tbody>\n",
       "    <tr>\n",
       "      <th>0</th>\n",
       "      <td>2106.0</td>\n",
       "      <td>9731.85</td>\n",
       "      <td>18.466509</td>\n",
       "      <td>CEDAR FALLS</td>\n",
       "      <td>97488.14</td>\n",
       "      <td>146326.22</td>\n",
       "      <td>277.658861</td>\n",
       "      <td>15.475863</td>\n",
       "      <td>3141.451190</td>\n",
       "      <td>48838.08</td>\n",
       "      <td>7.0</td>\n",
       "      <td>17.856601</td>\n",
       "      <td>50613</td>\n",
       "      <td>39287.29</td>\n",
       "      <td>31173.46</td>\n",
       "      <td>38324.77</td>\n",
       "      <td>37540.70</td>\n",
       "      <td>30523.75</td>\n",
       "    </tr>\n",
       "    <tr>\n",
       "      <th>1</th>\n",
       "      <td>2113.0</td>\n",
       "      <td>659.85</td>\n",
       "      <td>4.488776</td>\n",
       "      <td>GOWRIE</td>\n",
       "      <td>6201.18</td>\n",
       "      <td>9310.22</td>\n",
       "      <td>63.334830</td>\n",
       "      <td>16.315646</td>\n",
       "      <td>907.563333</td>\n",
       "      <td>3109.04</td>\n",
       "      <td>94.0</td>\n",
       "      <td>18.507700</td>\n",
       "      <td>50543</td>\n",
       "      <td>2833.25</td>\n",
       "      <td>1994.30</td>\n",
       "      <td>2113.56</td>\n",
       "      <td>2369.11</td>\n",
       "      <td>2065.90</td>\n",
       "    </tr>\n",
       "    <tr>\n",
       "      <th>2</th>\n",
       "      <td>2130.0</td>\n",
       "      <td>6891.37</td>\n",
       "      <td>17.580026</td>\n",
       "      <td>WATERLOO</td>\n",
       "      <td>74546.23</td>\n",
       "      <td>111871.43</td>\n",
       "      <td>285.386301</td>\n",
       "      <td>14.764286</td>\n",
       "      <td>2201.842143</td>\n",
       "      <td>37325.20</td>\n",
       "      <td>7.0</td>\n",
       "      <td>16.835809</td>\n",
       "      <td>50703</td>\n",
       "      <td>24272.57</td>\n",
       "      <td>35038.09</td>\n",
       "      <td>24605.88</td>\n",
       "      <td>27954.89</td>\n",
       "      <td>27856.11</td>\n",
       "    </tr>\n",
       "    <tr>\n",
       "      <th>3</th>\n",
       "      <td>2152.0</td>\n",
       "      <td>633.37</td>\n",
       "      <td>4.491986</td>\n",
       "      <td>ROCKWELL</td>\n",
       "      <td>5133.55</td>\n",
       "      <td>7721.08</td>\n",
       "      <td>54.759433</td>\n",
       "      <td>12.887660</td>\n",
       "      <td>614.545883</td>\n",
       "      <td>2587.53</td>\n",
       "      <td>17.0</td>\n",
       "      <td>13.020765</td>\n",
       "      <td>50469</td>\n",
       "      <td>2003.46</td>\n",
       "      <td>1398.92</td>\n",
       "      <td>2246.70</td>\n",
       "      <td>2072.00</td>\n",
       "      <td>904.66</td>\n",
       "    </tr>\n",
       "    <tr>\n",
       "      <th>4</th>\n",
       "      <td>2178.0</td>\n",
       "      <td>1917.12</td>\n",
       "      <td>8.089114</td>\n",
       "      <td>WAUKON</td>\n",
       "      <td>16158.48</td>\n",
       "      <td>24324.18</td>\n",
       "      <td>102.633671</td>\n",
       "      <td>14.558692</td>\n",
       "      <td>1271.498031</td>\n",
       "      <td>8165.70</td>\n",
       "      <td>3.0</td>\n",
       "      <td>16.053844</td>\n",
       "      <td>52172</td>\n",
       "      <td>5856.41</td>\n",
       "      <td>6986.33</td>\n",
       "      <td>5668.15</td>\n",
       "      <td>5813.29</td>\n",
       "      <td>5588.50</td>\n",
       "    </tr>\n",
       "  </tbody>\n",
       "</table>\n",
       "</div>"
      ],
      "text/plain": [
       "   Store Number  Total Volume Sold (Liters)  Average Volume Sold (Liters)  \\\n",
       "0        2106.0                     9731.85                     18.466509   \n",
       "1        2113.0                      659.85                      4.488776   \n",
       "2        2130.0                     6891.37                     17.580026   \n",
       "3        2152.0                      633.37                      4.491986   \n",
       "4        2178.0                     1917.12                      8.089114   \n",
       "\n",
       "          City      Cost    Revenue  Average Sale (Dollars)  \\\n",
       "0  CEDAR FALLS  97488.14  146326.22              277.658861   \n",
       "1       GOWRIE   6201.18    9310.22               63.334830   \n",
       "2     WATERLOO  74546.23  111871.43              285.386301   \n",
       "3     ROCKWELL   5133.55    7721.08               54.759433   \n",
       "4       WAUKON  16158.48   24324.18              102.633671   \n",
       "\n",
       "   Average Price Per Bottle  Profit Per Liter    Profit  County Number  \\\n",
       "0                 15.475863       3141.451190  48838.08            7.0   \n",
       "1                 16.315646        907.563333   3109.04           94.0   \n",
       "2                 14.764286       2201.842143  37325.20            7.0   \n",
       "3                 12.887660        614.545883   2587.53           17.0   \n",
       "4                 14.558692       1271.498031   8165.70            3.0   \n",
       "\n",
       "   Average Price Per Liter Zip Code  Q1 Revenue (2015)  Q2 Revenue (2015)  \\\n",
       "0                17.856601    50613           39287.29           31173.46   \n",
       "1                18.507700    50543            2833.25            1994.30   \n",
       "2                16.835809    50703           24272.57           35038.09   \n",
       "3                13.020765    50469            2003.46            1398.92   \n",
       "4                16.053844    52172            5856.41            6986.33   \n",
       "\n",
       "   Q3 Revenue (2015)  Q4 Revenue (2015)  Q1 Revenue (2016)  \n",
       "0           38324.77           37540.70           30523.75  \n",
       "1            2113.56            2369.11            2065.90  \n",
       "2           24605.88           27954.89           27856.11  \n",
       "3            2246.70            2072.00             904.66  \n",
       "4            5668.15            5813.29            5588.50  "
      ]
     },
     "execution_count": 10,
     "metadata": {},
     "output_type": "execute_result"
    }
   ],
   "source": [
    "sales.head()"
   ]
  },
  {
   "cell_type": "markdown",
   "metadata": {},
   "source": [
    "### 2015 Sales Pivot Table"
   ]
  },
  {
   "cell_type": "code",
   "execution_count": 11,
   "metadata": {
    "collapsed": false
   },
   "outputs": [
    {
     "data": {
      "text/html": [
       "<div>\n",
       "<table border=\"1\" class=\"dataframe\">\n",
       "  <thead>\n",
       "    <tr style=\"text-align: right;\">\n",
       "      <th></th>\n",
       "      <th></th>\n",
       "      <th></th>\n",
       "      <th>Average Price Per Bottle</th>\n",
       "      <th>Average Price Per Liter</th>\n",
       "      <th>Average Sale (Dollars)</th>\n",
       "      <th>Average Volume Sold (Liters)</th>\n",
       "      <th>Cost</th>\n",
       "      <th>Profit</th>\n",
       "      <th>Profit Per Liter</th>\n",
       "      <th>Q1 Revenue (2015)</th>\n",
       "      <th>Q2 Revenue (2015)</th>\n",
       "      <th>Q3 Revenue (2015)</th>\n",
       "      <th>Q4 Revenue (2015)</th>\n",
       "      <th>Revenue</th>\n",
       "      <th>Total Volume Sold (Liters)</th>\n",
       "    </tr>\n",
       "    <tr>\n",
       "      <th>City</th>\n",
       "      <th>Zip Code</th>\n",
       "      <th>Store Number</th>\n",
       "      <th></th>\n",
       "      <th></th>\n",
       "      <th></th>\n",
       "      <th></th>\n",
       "      <th></th>\n",
       "      <th></th>\n",
       "      <th></th>\n",
       "      <th></th>\n",
       "      <th></th>\n",
       "      <th></th>\n",
       "      <th></th>\n",
       "      <th></th>\n",
       "      <th></th>\n",
       "    </tr>\n",
       "  </thead>\n",
       "  <tbody>\n",
       "    <tr>\n",
       "      <th>ACKLEY</th>\n",
       "      <th>50601</th>\n",
       "      <th>4415.0</th>\n",
       "      <td>12.635122</td>\n",
       "      <td>16.907684</td>\n",
       "      <td>79.978293</td>\n",
       "      <td>6.828780</td>\n",
       "      <td>2178.72</td>\n",
       "      <td>1100.39</td>\n",
       "      <td>231.530138</td>\n",
       "      <td>1064.46</td>\n",
       "      <td>806.48</td>\n",
       "      <td>495.38</td>\n",
       "      <td>912.79</td>\n",
       "      <td>3279.11</td>\n",
       "      <td>279.98</td>\n",
       "    </tr>\n",
       "    <tr>\n",
       "      <th>ADAIR</th>\n",
       "      <th>50002</th>\n",
       "      <th>4417.0</th>\n",
       "      <td>12.731250</td>\n",
       "      <td>16.173294</td>\n",
       "      <td>145.122500</td>\n",
       "      <td>9.375000</td>\n",
       "      <td>2311.40</td>\n",
       "      <td>1171.54</td>\n",
       "      <td>130.460000</td>\n",
       "      <td>731.52</td>\n",
       "      <td>726.90</td>\n",
       "      <td>1074.78</td>\n",
       "      <td>949.74</td>\n",
       "      <td>3482.94</td>\n",
       "      <td>225.00</td>\n",
       "    </tr>\n",
       "    <tr>\n",
       "      <th rowspan=\"2\" valign=\"top\">ADEL</th>\n",
       "      <th rowspan=\"2\" valign=\"top\">50003</th>\n",
       "      <th>4384.0</th>\n",
       "      <td>11.168800</td>\n",
       "      <td>17.096152</td>\n",
       "      <td>73.062100</td>\n",
       "      <td>5.963100</td>\n",
       "      <td>4862.35</td>\n",
       "      <td>2443.86</td>\n",
       "      <td>570.826310</td>\n",
       "      <td>2126.68</td>\n",
       "      <td>1949.15</td>\n",
       "      <td>1210.46</td>\n",
       "      <td>2019.92</td>\n",
       "      <td>7306.21</td>\n",
       "      <td>596.31</td>\n",
       "    </tr>\n",
       "    <tr>\n",
       "      <th>4678.0</th>\n",
       "      <td>12.985000</td>\n",
       "      <td>14.946038</td>\n",
       "      <td>204.464257</td>\n",
       "      <td>14.163581</td>\n",
       "      <td>20146.30</td>\n",
       "      <td>10114.41</td>\n",
       "      <td>739.050476</td>\n",
       "      <td>9189.13</td>\n",
       "      <td>5115.10</td>\n",
       "      <td>11092.01</td>\n",
       "      <td>4864.47</td>\n",
       "      <td>30260.71</td>\n",
       "      <td>2096.21</td>\n",
       "    </tr>\n",
       "    <tr>\n",
       "      <th>AFTON</th>\n",
       "      <th>50830</th>\n",
       "      <th>4531.0</th>\n",
       "      <td>11.062000</td>\n",
       "      <td>18.366286</td>\n",
       "      <td>272.376000</td>\n",
       "      <td>21.450000</td>\n",
       "      <td>1811.28</td>\n",
       "      <td>912.48</td>\n",
       "      <td>61.455238</td>\n",
       "      <td>729.12</td>\n",
       "      <td>661.80</td>\n",
       "      <td>564.48</td>\n",
       "      <td>768.36</td>\n",
       "      <td>2723.76</td>\n",
       "      <td>214.50</td>\n",
       "    </tr>\n",
       "    <tr>\n",
       "      <th>AKRON</th>\n",
       "      <th>51001</th>\n",
       "      <th>4525.0</th>\n",
       "      <td>12.258393</td>\n",
       "      <td>17.007670</td>\n",
       "      <td>77.058750</td>\n",
       "      <td>6.131786</td>\n",
       "      <td>2868.35</td>\n",
       "      <td>1446.94</td>\n",
       "      <td>317.936071</td>\n",
       "      <td>1249.34</td>\n",
       "      <td>1045.24</td>\n",
       "      <td>868.11</td>\n",
       "      <td>1152.60</td>\n",
       "      <td>4315.29</td>\n",
       "      <td>343.38</td>\n",
       "    </tr>\n",
       "    <tr>\n",
       "      <th rowspan=\"2\" valign=\"top\">ALBIA</th>\n",
       "      <th rowspan=\"2\" valign=\"top\">52531</th>\n",
       "      <th>2559.0</th>\n",
       "      <td>13.603259</td>\n",
       "      <td>15.722674</td>\n",
       "      <td>89.057407</td>\n",
       "      <td>6.511111</td>\n",
       "      <td>7984.78</td>\n",
       "      <td>4037.97</td>\n",
       "      <td>710.816190</td>\n",
       "      <td>2683.86</td>\n",
       "      <td>3266.36</td>\n",
       "      <td>3553.91</td>\n",
       "      <td>2518.62</td>\n",
       "      <td>12022.75</td>\n",
       "      <td>879.00</td>\n",
       "    </tr>\n",
       "    <tr>\n",
       "      <th>4011.0</th>\n",
       "      <td>13.944671</td>\n",
       "      <td>16.829839</td>\n",
       "      <td>108.931908</td>\n",
       "      <td>7.711645</td>\n",
       "      <td>11030.97</td>\n",
       "      <td>5526.68</td>\n",
       "      <td>853.604850</td>\n",
       "      <td>4273.14</td>\n",
       "      <td>2559.53</td>\n",
       "      <td>5189.85</td>\n",
       "      <td>4535.13</td>\n",
       "      <td>16557.65</td>\n",
       "      <td>1172.17</td>\n",
       "    </tr>\n",
       "    <tr>\n",
       "      <th>ALDEN</th>\n",
       "      <th>50006</th>\n",
       "      <th>4172.0</th>\n",
       "      <td>18.074615</td>\n",
       "      <td>16.581137</td>\n",
       "      <td>99.250659</td>\n",
       "      <td>6.914725</td>\n",
       "      <td>6013.92</td>\n",
       "      <td>3017.89</td>\n",
       "      <td>504.049286</td>\n",
       "      <td>2448.60</td>\n",
       "      <td>3429.29</td>\n",
       "      <td>1839.05</td>\n",
       "      <td>1314.87</td>\n",
       "      <td>9031.81</td>\n",
       "      <td>629.24</td>\n",
       "    </tr>\n",
       "    <tr>\n",
       "      <th>ALGONA</th>\n",
       "      <th>50511</th>\n",
       "      <th>2585.0</th>\n",
       "      <td>15.128298</td>\n",
       "      <td>16.840861</td>\n",
       "      <td>135.537094</td>\n",
       "      <td>10.379503</td>\n",
       "      <td>47132.24</td>\n",
       "      <td>23753.66</td>\n",
       "      <td>2944.130327</td>\n",
       "      <td>9330.01</td>\n",
       "      <td>16292.52</td>\n",
       "      <td>25315.05</td>\n",
       "      <td>19948.32</td>\n",
       "      <td>70885.90</td>\n",
       "      <td>5428.48</td>\n",
       "    </tr>\n",
       "  </tbody>\n",
       "</table>\n",
       "</div>"
      ],
      "text/plain": [
       "                              Average Price Per Bottle  \\\n",
       "City   Zip Code Store Number                             \n",
       "ACKLEY 50601    4415.0                       12.635122   \n",
       "ADAIR  50002    4417.0                       12.731250   \n",
       "ADEL   50003    4384.0                       11.168800   \n",
       "                4678.0                       12.985000   \n",
       "AFTON  50830    4531.0                       11.062000   \n",
       "AKRON  51001    4525.0                       12.258393   \n",
       "ALBIA  52531    2559.0                       13.603259   \n",
       "                4011.0                       13.944671   \n",
       "ALDEN  50006    4172.0                       18.074615   \n",
       "ALGONA 50511    2585.0                       15.128298   \n",
       "\n",
       "                              Average Price Per Liter  Average Sale (Dollars)  \\\n",
       "City   Zip Code Store Number                                                    \n",
       "ACKLEY 50601    4415.0                      16.907684               79.978293   \n",
       "ADAIR  50002    4417.0                      16.173294              145.122500   \n",
       "ADEL   50003    4384.0                      17.096152               73.062100   \n",
       "                4678.0                      14.946038              204.464257   \n",
       "AFTON  50830    4531.0                      18.366286              272.376000   \n",
       "AKRON  51001    4525.0                      17.007670               77.058750   \n",
       "ALBIA  52531    2559.0                      15.722674               89.057407   \n",
       "                4011.0                      16.829839              108.931908   \n",
       "ALDEN  50006    4172.0                      16.581137               99.250659   \n",
       "ALGONA 50511    2585.0                      16.840861              135.537094   \n",
       "\n",
       "                              Average Volume Sold (Liters)      Cost  \\\n",
       "City   Zip Code Store Number                                           \n",
       "ACKLEY 50601    4415.0                            6.828780   2178.72   \n",
       "ADAIR  50002    4417.0                            9.375000   2311.40   \n",
       "ADEL   50003    4384.0                            5.963100   4862.35   \n",
       "                4678.0                           14.163581  20146.30   \n",
       "AFTON  50830    4531.0                           21.450000   1811.28   \n",
       "AKRON  51001    4525.0                            6.131786   2868.35   \n",
       "ALBIA  52531    2559.0                            6.511111   7984.78   \n",
       "                4011.0                            7.711645  11030.97   \n",
       "ALDEN  50006    4172.0                            6.914725   6013.92   \n",
       "ALGONA 50511    2585.0                           10.379503  47132.24   \n",
       "\n",
       "                                Profit  Profit Per Liter  Q1 Revenue (2015)  \\\n",
       "City   Zip Code Store Number                                                  \n",
       "ACKLEY 50601    4415.0         1100.39        231.530138            1064.46   \n",
       "ADAIR  50002    4417.0         1171.54        130.460000             731.52   \n",
       "ADEL   50003    4384.0         2443.86        570.826310            2126.68   \n",
       "                4678.0        10114.41        739.050476            9189.13   \n",
       "AFTON  50830    4531.0          912.48         61.455238             729.12   \n",
       "AKRON  51001    4525.0         1446.94        317.936071            1249.34   \n",
       "ALBIA  52531    2559.0         4037.97        710.816190            2683.86   \n",
       "                4011.0         5526.68        853.604850            4273.14   \n",
       "ALDEN  50006    4172.0         3017.89        504.049286            2448.60   \n",
       "ALGONA 50511    2585.0        23753.66       2944.130327            9330.01   \n",
       "\n",
       "                              Q2 Revenue (2015)  Q3 Revenue (2015)  \\\n",
       "City   Zip Code Store Number                                         \n",
       "ACKLEY 50601    4415.0                   806.48             495.38   \n",
       "ADAIR  50002    4417.0                   726.90            1074.78   \n",
       "ADEL   50003    4384.0                  1949.15            1210.46   \n",
       "                4678.0                  5115.10           11092.01   \n",
       "AFTON  50830    4531.0                   661.80             564.48   \n",
       "AKRON  51001    4525.0                  1045.24             868.11   \n",
       "ALBIA  52531    2559.0                  3266.36            3553.91   \n",
       "                4011.0                  2559.53            5189.85   \n",
       "ALDEN  50006    4172.0                  3429.29            1839.05   \n",
       "ALGONA 50511    2585.0                 16292.52           25315.05   \n",
       "\n",
       "                              Q4 Revenue (2015)   Revenue  \\\n",
       "City   Zip Code Store Number                                \n",
       "ACKLEY 50601    4415.0                   912.79   3279.11   \n",
       "ADAIR  50002    4417.0                   949.74   3482.94   \n",
       "ADEL   50003    4384.0                  2019.92   7306.21   \n",
       "                4678.0                  4864.47  30260.71   \n",
       "AFTON  50830    4531.0                   768.36   2723.76   \n",
       "AKRON  51001    4525.0                  1152.60   4315.29   \n",
       "ALBIA  52531    2559.0                  2518.62  12022.75   \n",
       "                4011.0                  4535.13  16557.65   \n",
       "ALDEN  50006    4172.0                  1314.87   9031.81   \n",
       "ALGONA 50511    2585.0                 19948.32  70885.90   \n",
       "\n",
       "                              Total Volume Sold (Liters)  \n",
       "City   Zip Code Store Number                              \n",
       "ACKLEY 50601    4415.0                            279.98  \n",
       "ADAIR  50002    4417.0                            225.00  \n",
       "ADEL   50003    4384.0                            596.31  \n",
       "                4678.0                           2096.21  \n",
       "AFTON  50830    4531.0                            214.50  \n",
       "AKRON  51001    4525.0                            343.38  \n",
       "ALBIA  52531    2559.0                            879.00  \n",
       "                4011.0                           1172.17  \n",
       "ALDEN  50006    4172.0                            629.24  \n",
       "ALGONA 50511    2585.0                           5428.48  "
      ]
     },
     "execution_count": 11,
     "metadata": {},
     "output_type": "execute_result"
    }
   ],
   "source": [
    "sales_15 = pd.pivot_table(sales, index=['City', 'Zip Code', 'Store Number'],\n",
    "                              values = ['Revenue',\n",
    "                                        'Profit',\n",
    "                                        'Cost',\n",
    "                                        'Average Sale (Dollars)',\n",
    "                                        'Average Price Per Bottle',\n",
    "                                        'Average Price Per Liter', \n",
    "                                        'Average Volume Sold (Liters)',\n",
    "                                        'Total Volume Sold (Liters)',\n",
    "                                        'Q1 Revenue (2015)',\n",
    "                                        'Q2 Revenue (2015)',\n",
    "                                        'Q3 Revenue (2015)',\n",
    "                                        'Q4 Revenue (2015)',\n",
    "                                        'Profit Per Liter'],\n",
    "                              aggfunc=sum,\n",
    "                              margins = True)\n",
    "\n",
    "sales_15.head(10)"
   ]
  },
  {
   "cell_type": "markdown",
   "metadata": {},
   "source": [
    "This Sales Pivot Table aggregates the most important liquor sales information in Iowa in 2015. It is indexed by City, Zip Code, and Store Number and may be useful later on as a reference if we want to look up sales for a specific location (City or Zip Code) or Store Number."
   ]
  },
  {
   "cell_type": "markdown",
   "metadata": {},
   "source": [
    "### Which months sold the most liquor?"
   ]
  },
  {
   "cell_type": "code",
   "execution_count": 12,
   "metadata": {
    "collapsed": false
   },
   "outputs": [
    {
     "name": "stderr",
     "output_type": "stream",
     "text": [
      "//anaconda/lib/python2.7/site-packages/matplotlib/__init__.py:898: UserWarning: axes.color_cycle is deprecated and replaced with axes.prop_cycle; please use the latter.\n",
      "  warnings.warn(self.msg_depr % (key, alt_key))\n"
     ]
    },
    {
     "data": {
      "text/plain": [
       "<matplotlib.axes._subplots.AxesSubplot at 0x1044fec90>"
      ]
     },
     "execution_count": 12,
     "metadata": {},
     "output_type": "execute_result"
    },
    {
     "data": {
      "image/png": "[encoded data removed]",
      "text/plain": [
       "<matplotlib.figure.Figure at 0x1044d6250>"
      ]
     },
     "metadata": {},
     "output_type": "display_data"
    }
   ],
   "source": [
    "sns.barplot(data = df, x=\"Month\", y=\"Volume Sold (Liters)\")"
   ]
  },
  {
   "cell_type": "markdown",
   "metadata": {},
   "source": [
    "### Which areas sell the most liquor and make the most profit?"
   ]
  },
  {
   "cell_type": "markdown",
   "metadata": {},
   "source": [
    "To answer this question, I will be using the column, \"Profit Per Liter\" as the main feature. I calculated \"Profit Per Liter\" from my \"Profit\" and \"Volume Sold (Liters)\" columns. In the cells below, I will use a groupby function to find the best locations by \"City\", \"Zip Code\", and \"Store Number\"."
   ]
  },
  {
   "cell_type": "markdown",
   "metadata": {},
   "source": [
    "#### Top 10 Cities"
   ]
  },
  {
   "cell_type": "code",
   "execution_count": 13,
   "metadata": {
    "collapsed": false
   },
   "outputs": [
    {
     "data": {
      "text/plain": [
       "[<matplotlib.text.Text at 0x11b72fdd0>]"
      ]
     },
     "execution_count": 13,
     "metadata": {},
     "output_type": "execute_result"
    },
    {
     "data": {
      "image/png": "[encoded data removed]",
      "text/plain": [
       "<matplotlib.figure.Figure at 0x11b082e10>"
      ]
     },
     "metadata": {},
     "output_type": "display_data"
    }
   ],
   "source": [
    "profit_city = sales.groupby(\"City\", as_index=False)[\"Profit Per Liter\"].sum()\n",
    "profit_city = profit_city.sort_values(\"Profit Per Liter\", ascending=False).head(10)\n",
    "\n",
    "plt.figure(figsize=(15,10))\n",
    "sns.barplot(x=profit_city[\"City\"], \n",
    "            y=profit_city['Profit Per Liter'],\n",
    "            color='b').set(title='Profit Per Liter by City')"
   ]
  },
  {
   "cell_type": "markdown",
   "metadata": {},
   "source": [
    "By looking at \"Profit Per Liter\", we can see that the Top 10 Cities in Iowa that make the most profit selling the most liquor are:\n",
    "    1. Des Moines\n",
    "    2. Cedar Rapids\n",
    "    3. Davenport\n",
    "    4. Iowa City\n",
    "    5. Waterloo\n",
    "    6. Sioux City\n",
    "    7. West Des Moines\n",
    "    8. Council Bluffs\n",
    "    9. Ames\n",
    "    10. Dubuque"
   ]
  },
  {
   "cell_type": "markdown",
   "metadata": {},
   "source": [
    "#### Top 10 Zip Codes"
   ]
  },
  {
   "cell_type": "code",
   "execution_count": 14,
   "metadata": {
    "collapsed": false
   },
   "outputs": [
    {
     "data": {
      "text/plain": [
       "[<matplotlib.text.Text at 0x1199a4610>]"
      ]
     },
     "execution_count": 14,
     "metadata": {},
     "output_type": "execute_result"
    },
    {
     "data": {
      "image/png": "[encoded data removed]",
      "text/plain": [
       "<matplotlib.figure.Figure at 0x11e3f4fd0>"
      ]
     },
     "metadata": {},
     "output_type": "display_data"
    }
   ],
   "source": [
    "profit_zip_code = sales.groupby(\"Zip Code\", as_index=False)[\"Profit Per Liter\"].sum()\n",
    "profit_zip_code = profit_zip_code.sort_values('Profit Per Liter', ascending=False).head(10)\n",
    "\n",
    "plt.figure(figsize=(15,10))\n",
    "sns.barplot(x=profit_zip_code[\"Zip Code\"],\n",
    "            y=profit_zip_code['Profit Per Liter'], \n",
    "            color='g').set(title='Profit Per Liter by Zip Code')"
   ]
  },
  {
   "cell_type": "markdown",
   "metadata": {},
   "source": [
    "By looking at \"Profit Per Liter\", we can see that the Top 10 Zip Codes that make the most profit selling the most liquor are:\n",
    "    1. 50010\n",
    "    2. 52402\n",
    "    3. 52240\n",
    "    4. 50314\n",
    "    5. 50613\n",
    "    6. 50265\n",
    "    7. 52001\n",
    "    8. 51501\n",
    "    9. 50317\n",
    "    10. 52722"
   ]
  },
  {
   "cell_type": "markdown",
   "metadata": {},
   "source": [
    "#### Top 10 Stores"
   ]
  },
  {
   "cell_type": "code",
   "execution_count": 15,
   "metadata": {
    "collapsed": false
   },
   "outputs": [
    {
     "data": {
      "text/plain": [
       "[<matplotlib.text.Text at 0x11b50ad90>]"
      ]
     },
     "execution_count": 15,
     "metadata": {},
     "output_type": "execute_result"
    },
    {
     "data": {
      "image/png": "[encoded data removed]",
      "text/plain": [
       "<matplotlib.figure.Figure at 0x119f79c90>"
      ]
     },
     "metadata": {},
     "output_type": "display_data"
    }
   ],
   "source": [
    "profit_store = sales.groupby(\"Store Number\", as_index=False)[\"Profit Per Liter\"].sum()\n",
    "profit_store = profit_store.sort_values(\"Profit Per Liter\", ascending=False).head(10)\n",
    "\n",
    "plt.figure(figsize=(15,10))\n",
    "sns.barplot(x=profit_store[\"Store Number\"], \n",
    "            y=profit_store['Profit Per Liter'],\n",
    "            color='r').set(title='Profit Per Liter by Store Number')"
   ]
  },
  {
   "cell_type": "markdown",
   "metadata": {},
   "source": [
    "By looking at \"Profit Per Liter\", we can see that the Top 10 Stores that make the most profit selling liquor are:\n",
    "    1. 2633 \n",
    "    2. 4829\n",
    "    3. 2190\n",
    "    4. 2512\n",
    "    5. 2648\n",
    "    6. 2666\n",
    "    7. 2603\n",
    "    8. 2572\n",
    "    9. 2501\n",
    "    10. 2620"
   ]
  },
  {
   "cell_type": "markdown",
   "metadata": {},
   "source": [
    "## Step 4: Develop Models for Prediction"
   ]
  },
  {
   "cell_type": "code",
   "execution_count": 16,
   "metadata": {
    "collapsed": true
   },
   "outputs": [],
   "source": [
    "from sklearn.model_selection import train_test_split\n",
    "from sklearn.linear_model import LinearRegression\n",
    "from sklearn.preprocessing import StandardScaler"
   ]
  },
  {
   "cell_type": "markdown",
   "metadata": {},
   "source": [
    "#### Remove NaNs and Impute Data"
   ]
  },
  {
   "cell_type": "code",
   "execution_count": 17,
   "metadata": {
    "collapsed": false
   },
   "outputs": [],
   "source": [
    "sales = sales.fillna(method='ffill')"
   ]
  },
  {
   "cell_type": "markdown",
   "metadata": {},
   "source": [
    "### Linear Regression: Predict Q1 Sales in 2016"
   ]
  },
  {
   "cell_type": "code",
   "execution_count": 18,
   "metadata": {
    "collapsed": false
   },
   "outputs": [
    {
     "name": "stdout",
     "output_type": "stream",
     "text": [
      "R-squared Score (in-sample): 0.929870459243\n",
      "R-squared Score (out-of-sample): 0.957967547683\n"
     ]
    }
   ],
   "source": [
    "# Dependent Variable\n",
    "y = sales[\"Q1 Revenue (2016)\"]\n",
    "\n",
    "# Independent Variables\n",
    "X = sales[[\"Q1 Revenue (2015)\",\n",
    "           \"Q2 Revenue (2015)\",\n",
    "           \"Q3 Revenue (2015)\",\n",
    "           \"Q4 Revenue (2015)\"]]\n",
    "\n",
    "# Split to train and test sets\n",
    "X_train, X_test, y_train, y_test = train_test_split(X, y, random_state=0)\n",
    "\n",
    "# Scale the data\n",
    "scaler = StandardScaler()\n",
    "scaler.fit(X_train)\n",
    "\n",
    "# Scale the data on the train/test separately\n",
    "X_train = scaler.transform(X_train)\n",
    "X_test = scaler.transform(X_test)\n",
    "\n",
    "# Perform linear regression\n",
    "LR = LinearRegression()\n",
    "LR.fit(X_train, y_train)\n",
    "print \"R-squared Score (in-sample):\", LR.score(X_train, y_train)\n",
    "print \"R-squared Score (out-of-sample):\", LR.score(X_test, y_test)"
   ]
  },
  {
   "cell_type": "markdown",
   "metadata": {},
   "source": [
    "#### Intercept and Coefficients"
   ]
  },
  {
   "cell_type": "code",
   "execution_count": 19,
   "metadata": {
    "collapsed": false
   },
   "outputs": [
    {
     "name": "stdout",
     "output_type": "stream",
     "text": [
      "Intercept: 5111.34301042\n",
      "Coefficient: [ -406.54850042  4785.61052523  4106.82926921  2743.2107594 ]\n"
     ]
    }
   ],
   "source": [
    "print \"Intercept:\", LR.intercept_\n",
    "print \"Coefficient:\", LR.coef_"
   ]
  },
  {
   "cell_type": "markdown",
   "metadata": {},
   "source": [
    "#### Projection"
   ]
  },
  {
   "cell_type": "code",
   "execution_count": 20,
   "metadata": {
    "collapsed": true
   },
   "outputs": [],
   "source": [
    "sales['Projected Q1 Revenue (2016)'] = 5111.34301042 \\\n",
    "                                        + (-406.54850042 * sales['Q1 Revenue (2015)']) \\\n",
    "                                        + (4785.61052523 * sales['Q2 Revenue (2015)']) \\\n",
    "                                        + (4106.82926921 * sales['Q3 Revenue (2015)']) \\\n",
    "                                        + (2743.2107594 * sales['Q4 Revenue (2015)'])"
   ]
  },
  {
   "cell_type": "markdown",
   "metadata": {},
   "source": [
    "#### Visualize"
   ]
  },
  {
   "cell_type": "code",
   "execution_count": 21,
   "metadata": {
    "collapsed": false
   },
   "outputs": [
    {
     "data": {
      "image/png": "[encoded data removed]",
      "text/plain": [
       "<matplotlib.figure.Figure at 0x11b02a910>"
      ]
     },
     "metadata": {},
     "output_type": "display_data"
    }
   ],
   "source": [
    "plt.scatter(sales['Projected Q1 Revenue (2016)'], sales['Q1 Revenue (2016)'])\n",
    "plt.title(\"Projected Q1 Sales versus Q1 Sales in 2016\")\n",
    "plt.xlabel(\"Projected Q1 Revenue in 2016\")\n",
    "plt.ylabel(\"Q1 Revenue in 2016\")\n",
    "plt.show()"
   ]
  },
  {
   "cell_type": "markdown",
   "metadata": {},
   "source": [
    "#### Results"
   ]
  },
  {
   "cell_type": "markdown",
   "metadata": {},
   "source": [
    "Using a standard linear regression, I was able to create a model in which I could forecast Q1 sales in 2016. With the R-squared scores (in-sample) at 0.9298 and (out-of-sample) at 0.9579, I was confident my model made an accurate forecast for 2016. A visualization of my projection compared to the actual Q1 sales in 2016 also confirms a relatively accurate prediction."
   ]
  },
  {
   "cell_type": "markdown",
   "metadata": {},
   "source": [
    "## Step 5: Conclusion"
   ]
  },
  {
   "cell_type": "markdown",
   "metadata": {},
   "source": [
    "### Final Recommendations"
   ]
  },
  {
   "cell_type": "markdown",
   "metadata": {},
   "source": [
    "#### 1. Build a liquor store in a Top 10 City or Zip Code based on Profit Per Liter"
   ]
  },
  {
   "cell_type": "markdown",
   "metadata": {},
   "source": [
    "In my exploratory data analysis, I used \"Profit Per Liter\" as my main feature to find top cities, zip codes, and stores that were the most profitable selling the most liquor. I found that \"Profit Per Liter\" would be best for any new store owner, as it would show liquor sales not only based on total sales, but also total volume. This should be important for new store owners who do not cannot yet afford a large inventory of liquor."
   ]
  },
  {
   "cell_type": "markdown",
   "metadata": {},
   "source": [
    "#### 2. Model your liquor store after Store #2633 and Store #4829"
   ]
  },
  {
   "cell_type": "markdown",
   "metadata": {},
   "source": [
    "After visualizing my data, I concluded that two stores outperformed other stores in the study. In building a new liquor store, a new store owner should look to these two stores as models. More investigation should be performed to understand why these two stores are selling so well, but learning from these stores should be the first step in starting a new liquor store."
   ]
  },
  {
   "cell_type": "markdown",
   "metadata": {},
   "source": [
    "#### 3. Quarterly Sales Will Predict Future Sales"
   ]
  },
  {
   "cell_type": "markdown",
   "metadata": {},
   "source": [
    "In my projection, I found that quarterly sales were able to predict future sales. While this is nothing new, this may help to explain the demand for liquor during the season as well as peaks/troughs in the economy. More data and investigation will be required to make a more detailed projection. Adding to and enriching the dataset with new data will also help create a more complex model. "
   ]
  },
  {
   "cell_type": "code",
   "execution_count": null,
   "metadata": {
    "collapsed": true
   },
   "outputs": [],
   "source": []
  }
 ],
 "metadata": {
  "anaconda-cloud": {},
  "kernelspec": {
   "display_name": "Python [Root]",
   "language": "python",
   "name": "Python [Root]"
  },
  "language_info": {
   "codemirror_mode": {
    "name": "ipython",
    "version": 2
   },
   "file_extension": ".py",
   "mimetype": "text/x-python",
   "name": "python",
   "nbconvert_exporter": "python",
   "pygments_lexer": "ipython2",
   "version": "2.7.12"
  }
 },
 "nbformat": 4,
 "nbformat_minor": 0
}
