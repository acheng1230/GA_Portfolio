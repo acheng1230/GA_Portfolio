{
 "cells": [
  {
   "cell_type": "markdown",
   "metadata": {
    "collapsed": false
   },
   "source": [
    "## Pipeline 1: Download"
   ]
  },
  {
   "cell_type": "markdown",
   "metadata": {},
   "source": [
    "### Load Packages"
   ]
  },
  {
   "cell_type": "code",
   "execution_count": 1,
   "metadata": {
    "collapsed": true
   },
   "outputs": [],
   "source": [
    "import os\n",
    "\n",
    "os.chdir('../')"
   ]
  },
  {
   "cell_type": "code",
   "execution_count": 3,
   "metadata": {
    "collapsed": false,
    "scrolled": false
   },
   "outputs": [],
   "source": [
    "import pandas as pd\n",
    "import lib.database_module as db\n",
    "import lib.encoding_module as enc\n",
    "import lib.wiki_module as wiki"
   ]
  },
  {
   "cell_type": "markdown",
   "metadata": {
    "collapsed": true
   },
   "source": [
    "### Present: Command is executed via command line script"
   ]
  },
  {
   "cell_type": "code",
   "execution_count": 4,
   "metadata": {
    "collapsed": false
   },
   "outputs": [
    {
     "name": "stdout",
     "output_type": "stream",
     "text": [
      "Connected to server joshuacook.me.\n"
     ]
    }
   ],
   "source": [
    "command, cur = db.connect_to_postgres()"
   ]
  },
  {
   "cell_type": "markdown",
   "metadata": {
    "collapsed": true
   },
   "source": [
    "### Acquire: Get categories to query from a yaml file"
   ]
  },
  {
   "cell_type": "code",
   "execution_count": 5,
   "metadata": {
    "collapsed": true
   },
   "outputs": [],
   "source": [
    "import yaml"
   ]
  },
  {
   "cell_type": "code",
   "execution_count": 6,
   "metadata": {
    "collapsed": false
   },
   "outputs": [],
   "source": [
    "with open('data/categories.yml') as file: \n",
    "    categories = (yaml.load(file))"
   ]
  },
  {
   "cell_type": "code",
   "execution_count": 7,
   "metadata": {
    "collapsed": false
   },
   "outputs": [
    {
     "data": {
      "text/plain": [
       "{'categories': ['Submarine sandwich restaurants', 'Belief']}"
      ]
     },
     "execution_count": 7,
     "metadata": {},
     "output_type": "execute_result"
    }
   ],
   "source": [
    "categories"
   ]
  },
  {
   "cell_type": "markdown",
   "metadata": {
    "collapsed": true
   },
   "source": [
    "### Acquire: Query Wikipedia by category for pages"
   ]
  },
  {
   "cell_type": "code",
   "execution_count": 8,
   "metadata": {
    "collapsed": false
   },
   "outputs": [],
   "source": [
    "responses = []\n",
    "\n",
    "for cat in categories['categories'][:1]:\n",
    "    response = wiki.query_category(cat)\n",
    "    responses.append(response)"
   ]
  },
  {
   "cell_type": "code",
   "execution_count": 9,
   "metadata": {
    "collapsed": false
   },
   "outputs": [
    {
     "data": {
      "text/plain": [
       "['24580905']"
      ]
     },
     "execution_count": 9,
     "metadata": {},
     "output_type": "execute_result"
    }
   ],
   "source": [
    "cat_ids = [response['categoryid'] for response in responses]\n",
    "cat_ids"
   ]
  },
  {
   "cell_type": "code",
   "execution_count": 10,
   "metadata": {
    "collapsed": false
   },
   "outputs": [
    {
     "data": {
      "text/plain": [
       "[('Submarine sandwich restaurants', '24580905')]"
      ]
     },
     "execution_count": 10,
     "metadata": {},
     "output_type": "execute_result"
    }
   ],
   "source": [
    "zipped = zip(categories['categories'], cat_ids)\n",
    "zipped"
   ]
  },
  {
   "cell_type": "code",
   "execution_count": 11,
   "metadata": {
    "collapsed": false
   },
   "outputs": [
    {
     "name": "stdout",
     "output_type": "stream",
     "text": [
      "('Submarine sandwich restaurants', '24580905')\n",
      "Connected to server joshuacook.me.\n"
     ]
    }
   ],
   "source": [
    "for cat in zipped:\n",
    "    print(cat)\n",
    "    db.create_or_update_category_in_database(cat[1], cat[0])"
   ]
  },
  {
   "cell_type": "code",
   "execution_count": 12,
   "metadata": {
    "collapsed": false
   },
   "outputs": [
    {
     "data": {
      "text/html": [
       "<div>\n",
       "<table border=\"1\" class=\"dataframe\">\n",
       "  <thead>\n",
       "    <tr style=\"text-align: right;\">\n",
       "      <th></th>\n",
       "      <th>pageid</th>\n",
       "      <th>title</th>\n",
       "    </tr>\n",
       "  </thead>\n",
       "  <tbody>\n",
       "    <tr>\n",
       "      <th>0</th>\n",
       "      <td>43460147</td>\n",
       "      <td>List of submarine sandwich restaurants</td>\n",
       "    </tr>\n",
       "    <tr>\n",
       "      <th>1</th>\n",
       "      <td>31940835</td>\n",
       "      <td>Big Bite Submarines</td>\n",
       "    </tr>\n",
       "    <tr>\n",
       "      <th>2</th>\n",
       "      <td>32012383</td>\n",
       "      <td>Big John Steak &amp; Onion</td>\n",
       "    </tr>\n",
       "    <tr>\n",
       "      <th>3</th>\n",
       "      <td>2371008</td>\n",
       "      <td>Blimpie</td>\n",
       "    </tr>\n",
       "    <tr>\n",
       "      <th>4</th>\n",
       "      <td>5778816</td>\n",
       "      <td>Capriotti's</td>\n",
       "    </tr>\n",
       "  </tbody>\n",
       "</table>\n",
       "</div>"
      ],
      "text/plain": [
       "     pageid                                   title\n",
       "0  43460147  List of submarine sandwich restaurants\n",
       "1  31940835                     Big Bite Submarines\n",
       "2  32012383                  Big John Steak & Onion\n",
       "3   2371008                                 Blimpie\n",
       "4   5778816                             Capriotti's"
      ]
     },
     "execution_count": 12,
     "metadata": {},
     "output_type": "execute_result"
    }
   ],
   "source": [
    "pd.DataFrame(responses[0]['pages']).head()"
   ]
  },
  {
   "cell_type": "markdown",
   "metadata": {},
   "source": [
    "### Acquire: Write category info to database"
   ]
  },
  {
   "cell_type": "code",
   "execution_count": 13,
   "metadata": {
    "collapsed": false
   },
   "outputs": [
    {
     "name": "stdout",
     "output_type": "stream",
     "text": [
      "Connected to server joshuacook.me.\n",
      "36969\n",
      "Connected to server joshuacook.me.\n",
      "22459546\n",
      "Connected to server joshuacook.me.\n",
      "14479347\n",
      "Connected to server joshuacook.me.\n",
      "1702260\n",
      "Connected to server joshuacook.me.\n",
      "18488345\n",
      "Connected to server joshuacook.me.\n",
      "856952\n",
      "Connected to server joshuacook.me.\n",
      "3025935\n",
      "Connected to server joshuacook.me.\n",
      "194685\n",
      "Connected to server joshuacook.me.\n",
      "857888\n",
      "Connected to server joshuacook.me.\n",
      "1681631\n",
      "Connected to server joshuacook.me.\n",
      "38675838\n",
      "Connected to server joshuacook.me.\n",
      "2977753\n",
      "Connected to server joshuacook.me.\n",
      "49961869\n",
      "Connected to server joshuacook.me.\n",
      "5697855\n",
      "Connected to server joshuacook.me.\n",
      "42277357\n",
      "Connected to server joshuacook.me.\n",
      "6036209\n",
      "Connected to server joshuacook.me.\n",
      "17945187\n",
      "Connected to server joshuacook.me.\n",
      "41220266\n",
      "Connected to server joshuacook.me.\n",
      "621040\n",
      "Connected to server joshuacook.me.\n",
      "1277062\n",
      "Connected to server joshuacook.me.\n",
      "968862\n",
      "Connected to server joshuacook.me.\n",
      "578553\n",
      "Connected to server joshuacook.me.\n",
      "866956\n",
      "Connected to server joshuacook.me.\n",
      "40396185\n",
      "Connected to server joshuacook.me.\n",
      "6503002\n",
      "Connected to server joshuacook.me.\n",
      "24022849\n",
      "Connected to server joshuacook.me.\n",
      "37970127\n",
      "Connected to server joshuacook.me.\n",
      "14623773\n",
      "Connected to server joshuacook.me.\n",
      "46745852\n",
      "Connected to server joshuacook.me.\n",
      "1322335\n",
      "Connected to server joshuacook.me.\n",
      "234721\n",
      "Connected to server joshuacook.me.\n",
      "1297973\n",
      "Connected to server joshuacook.me.\n",
      "5477388\n",
      "Connected to server joshuacook.me.\n",
      "4572828\n",
      "Connected to server joshuacook.me.\n",
      "44206258\n",
      "Connected to server joshuacook.me.\n",
      "42108065\n",
      "Connected to server joshuacook.me.\n",
      "17000799\n",
      "Connected to server joshuacook.me.\n",
      "6041959\n",
      "Connected to server joshuacook.me.\n",
      "8874598\n",
      "Connected to server joshuacook.me.\n",
      "35834458\n",
      "Connected to server joshuacook.me.\n",
      "9915750\n",
      "Connected to server joshuacook.me.\n",
      "27553279\n",
      "Connected to server joshuacook.me.\n",
      "3312755\n",
      "Connected to server joshuacook.me.\n",
      "39309347\n",
      "Connected to server joshuacook.me.\n",
      "14409748\n",
      "Connected to server joshuacook.me.\n",
      "5540091\n",
      "Connected to server joshuacook.me.\n",
      "40549423\n",
      "Connected to server joshuacook.me.\n",
      "46641426\n",
      "Connected to server joshuacook.me.\n",
      "13517429\n",
      "Connected to server joshuacook.me.\n",
      "47140919\n",
      "Connected to server joshuacook.me.\n",
      "16940958\n",
      "Connected to server joshuacook.me.\n",
      "2287167\n",
      "Connected to server joshuacook.me.\n",
      "53328146\n",
      "Connected to server joshuacook.me.\n",
      "39995895\n",
      "Connected to server joshuacook.me.\n",
      "15329289\n",
      "Connected to server joshuacook.me.\n",
      "48325710\n",
      "Connected to server joshuacook.me.\n",
      "38895725\n",
      "Connected to server joshuacook.me.\n",
      "6018072\n",
      "Connected to server joshuacook.me.\n",
      "630046\n",
      "Connected to server joshuacook.me.\n",
      "34653956\n",
      "Connected to server joshuacook.me.\n",
      "50332725\n",
      "Connected to server joshuacook.me.\n",
      "3172418\n",
      "Connected to server joshuacook.me.\n",
      "644325\n",
      "Connected to server joshuacook.me.\n",
      "25063762\n",
      "Connected to server joshuacook.me.\n",
      "1992503\n",
      "Connected to server joshuacook.me.\n",
      "95563\n",
      "Connected to server joshuacook.me.\n",
      "898916\n",
      "Connected to server joshuacook.me.\n",
      "5509986\n",
      "Connected to server joshuacook.me.\n",
      "2458530\n",
      "Connected to server joshuacook.me.\n",
      "159718\n",
      "Connected to server joshuacook.me.\n",
      "13208361\n",
      "Connected to server joshuacook.me.\n",
      "46574981\n",
      "Connected to server joshuacook.me.\n",
      "30266581\n",
      "Connected to server joshuacook.me.\n",
      "429276\n",
      "Connected to server joshuacook.me.\n",
      "2205457\n",
      "Connected to server joshuacook.me.\n",
      "16511836\n",
      "Connected to server joshuacook.me.\n",
      "7511077\n",
      "Connected to server joshuacook.me.\n",
      "37106232\n",
      "Connected to server joshuacook.me.\n",
      "4597907\n",
      "Connected to server joshuacook.me.\n",
      "51788851\n",
      "Connected to server joshuacook.me.\n",
      "18488429\n",
      "Connected to server joshuacook.me.\n",
      "620656\n",
      "Connected to server joshuacook.me.\n",
      "4878797\n",
      "Connected to server joshuacook.me.\n",
      "7898235\n",
      "Connected to server joshuacook.me.\n",
      "24864941\n",
      "Connected to server joshuacook.me.\n",
      "23636441\n",
      "Connected to server joshuacook.me.\n",
      "47849278\n",
      "Connected to server joshuacook.me.\n",
      "40429206\n",
      "Connected to server joshuacook.me.\n",
      "1944512\n",
      "Connected to server joshuacook.me.\n",
      "17939090\n",
      "Connected to server joshuacook.me.\n",
      "3620951\n",
      "Connected to server joshuacook.me.\n",
      "213589\n",
      "Connected to server joshuacook.me.\n",
      "6203320\n",
      "Connected to server joshuacook.me.\n",
      "1984471\n",
      "Connected to server joshuacook.me.\n",
      "2781735\n",
      "Connected to server joshuacook.me.\n",
      "39827677\n",
      "Connected to server joshuacook.me.\n",
      "14695717\n",
      "Connected to server joshuacook.me.\n",
      "31776398\n",
      "Connected to server joshuacook.me.\n",
      "1070039\n",
      "Connected to server joshuacook.me.\n",
      "2597119\n",
      "Connected to server joshuacook.me.\n",
      "8168421\n",
      "Connected to server joshuacook.me.\n",
      "26793821\n",
      "Connected to server joshuacook.me.\n",
      "2479683\n",
      "Connected to server joshuacook.me.\n",
      "47514948\n",
      "Connected to server joshuacook.me.\n",
      "11416350\n",
      "Connected to server joshuacook.me.\n",
      "2904185\n",
      "Connected to server joshuacook.me.\n",
      "251320\n",
      "Connected to server joshuacook.me.\n",
      "4876061\n",
      "Connected to server joshuacook.me.\n",
      "13848978\n",
      "Connected to server joshuacook.me.\n",
      "9271587\n",
      "Connected to server joshuacook.me.\n",
      "2897128\n",
      "Connected to server joshuacook.me.\n",
      "43681805\n",
      "Connected to server joshuacook.me.\n",
      "30338629\n",
      "Connected to server joshuacook.me.\n",
      "27306458\n",
      "Connected to server joshuacook.me.\n",
      "13067124\n",
      "Connected to server joshuacook.me.\n",
      "2924882\n",
      "Connected to server joshuacook.me.\n",
      "1731320\n",
      "Connected to server joshuacook.me.\n",
      "5340420\n",
      "Connected to server joshuacook.me.\n",
      "19009244\n",
      "Connected to server joshuacook.me.\n",
      "5622925\n",
      "Connected to server joshuacook.me.\n",
      "30146268\n",
      "Connected to server joshuacook.me.\n",
      "2906613\n",
      "Connected to server joshuacook.me.\n",
      "39359642\n",
      "Connected to server joshuacook.me.\n",
      "48708115\n",
      "Connected to server joshuacook.me.\n",
      "24210259\n",
      "Connected to server joshuacook.me.\n",
      "6888388\n",
      "Connected to server joshuacook.me.\n",
      "8126760\n",
      "Connected to server joshuacook.me.\n",
      "811199\n",
      "Connected to server joshuacook.me.\n",
      "44199142\n",
      "Connected to server joshuacook.me.\n",
      "419207\n",
      "Connected to server joshuacook.me.\n"
     ]
    }
   ],
   "source": [
    "category = wiki.query_category(\"breads\")\n",
    "db.create_or_update_category_in_database('839059', 'breads')\n",
    "\n",
    "pages = category['pages']\n",
    "for page in pages:\n",
    "    print page['pageid']\n",
    "    page_res = wiki.query_page(str(page['pageid']))\n",
    "    db.create_or_update_page_in_database(page_res['pageid'], '839059', page_res['summary'], page_res['text'])"
   ]
  },
  {
   "cell_type": "markdown",
   "metadata": {
    "collapsed": true
   },
   "source": [
    "### Acquire: Query Wikipedia by page id for content"
   ]
  },
  {
   "cell_type": "code",
   "execution_count": 23,
   "metadata": {
    "collapsed": false
   },
   "outputs": [
    {
     "data": {
      "text/plain": [
       "u'Big Bite Submarines is a Norwegian fastfood franchise focusing on fresh subs, wraps and salads. The first restaurant was opened in 1997. The stores are typically located in shopping malls. The chain operates 53 restaurants all over Norway. External links official website'"
      ]
     },
     "execution_count": 23,
     "metadata": {},
     "output_type": "execute_result"
    }
   ],
   "source": [
    "page_response = wiki.query_page(\"31940835\")\n",
    "pg_31940835_txt = page_response['text']\n",
    "pg_31940835_txt"
   ]
  },
  {
   "cell_type": "code",
   "execution_count": 15,
   "metadata": {
    "collapsed": false
   },
   "outputs": [
    {
     "data": {
      "text/plain": [
       "['pageid', 'summary', 'text', 'html']"
      ]
     },
     "execution_count": 15,
     "metadata": {},
     "output_type": "execute_result"
    }
   ],
   "source": [
    "page_response.keys()"
   ]
  },
  {
   "cell_type": "code",
   "execution_count": 24,
   "metadata": {
    "collapsed": false
   },
   "outputs": [
    {
     "name": "stdout",
     "output_type": "stream",
     "text": [
      "Connected to server joshuacook.me.\n"
     ]
    },
    {
     "data": {
      "text/plain": [
       "'OK'"
      ]
     },
     "execution_count": 24,
     "metadata": {},
     "output_type": "execute_result"
    }
   ],
   "source": [
    "db.create_or_update_page_in_database(31940835,\n",
    "                                     24580905,\n",
    "                                     'breads',\n",
    "                                     page_response['text'])"
   ]
  },
  {
   "cell_type": "code",
   "execution_count": 25,
   "metadata": {
    "collapsed": false
   },
   "outputs": [
    {
     "data": {
      "text/plain": [
       "{'categoryid': '24580905',\n",
       " 'pages': [{'pageid': 43460147,\n",
       "   'title': 'List of submarine sandwich restaurants'},\n",
       "  {'pageid': 31940835, 'title': 'Big Bite Submarines'},\n",
       "  {'pageid': 32012383, 'title': 'Big John Steak & Onion'},\n",
       "  {'pageid': 2371008, 'title': 'Blimpie'},\n",
       "  {'pageid': 5778816, 'title': \"Capriotti's\"},\n",
       "  {'pageid': 6586487, 'title': \"Charley's Grilled Subs\"},\n",
       "  {'pageid': 41988612, 'title': 'Template:Cheesesteak'},\n",
       "  {'pageid': 5990698, 'title': 'Cousins Subs'},\n",
       "  {'pageid': 2321267, 'title': \"D'Angelo Sandwich Shops\"},\n",
       "  {'pageid': 49400668, 'title': \"Dalessandro's Steaks\"},\n",
       "  {'pageid': 11588636, 'title': \"DiBella's\"},\n",
       "  {'pageid': 2637586, 'title': 'Earl of Sandwich (restaurant)'},\n",
       "  {'pageid': 6184077, 'title': \"Erbert & Gerbert's\"},\n",
       "  {'pageid': 1419741, 'title': 'Firehouse Subs'},\n",
       "  {'pageid': 1079651, 'title': \"Geno's Steaks\"},\n",
       "  {'pageid': 8947332, 'title': \"Jerry's Subs & Pizza\"},\n",
       "  {'pageid': 5080995, 'title': \"Jersey Mike's Subs\"},\n",
       "  {'pageid': 41981819, 'title': \"Jim's Steaks\"},\n",
       "  {'pageid': 1703557, 'title': \"Jimmy John's\"},\n",
       "  {'pageid': 50192420, 'title': \"Joe's Steaks + Soda Shop\"},\n",
       "  {'pageid': 45068874, 'title': \"John's Roast Pork\"},\n",
       "  {'pageid': 10405436, 'title': \"Larry's Giant Subs\"},\n",
       "  {'pageid': 11027136, 'title': \"Lenny's Sub Shop\"},\n",
       "  {'pageid': 4828182, 'title': \"Milio's Sandwiches\"},\n",
       "  {'pageid': 3494709, 'title': \"Moe's Italian Sandwiches\"},\n",
       "  {'pageid': 447854, 'title': 'Mr. Sub'},\n",
       "  {'pageid': 828487, 'title': \"Pat's King of Steaks\"},\n",
       "  {'pageid': 5052187, 'title': 'Penn Station (restaurant)'},\n",
       "  {'pageid': 3552347, 'title': 'Planet Sub'},\n",
       "  {'pageid': 3326158, 'title': 'Port of Subs'},\n",
       "  {'pageid': 1617094, 'title': 'Potbelly Sandwich Works'},\n",
       "  {'pageid': 243649, 'title': 'Quiznos'},\n",
       "  {'pageid': 2959119, 'title': \"Schlotzsky's\"},\n",
       "  {'pageid': 13705413, 'title': 'Spicy Pickle'},\n",
       "  {'pageid': 6793467, 'title': 'Steak Escape'},\n",
       "  {'pageid': 49401105, 'title': \"Steve's Prince of Steaks\"},\n",
       "  {'pageid': 6834956, 'title': 'Submarina'},\n",
       "  {'pageid': 54581, 'title': 'Subway (restaurant)'},\n",
       "  {'pageid': 1352724, 'title': \"Togo's\"},\n",
       "  {'pageid': 41991980, 'title': \"Tony Luke's\"},\n",
       "  {'pageid': 18986355, 'title': \"Tubby's\"},\n",
       "  {'pageid': 3175570, 'title': 'Upper Crust (restaurant chain)'},\n",
       "  {'pageid': 34221056, 'title': \"Zero's Subs\"}]}"
      ]
     },
     "execution_count": 25,
     "metadata": {},
     "output_type": "execute_result"
    }
   ],
   "source": [
    "response"
   ]
  },
  {
   "cell_type": "markdown",
   "metadata": {
    "collapsed": true
   },
   "source": [
    "### Acquire: Write page content to database"
   ]
  },
  {
   "cell_type": "code",
   "execution_count": 26,
   "metadata": {
    "collapsed": false
   },
   "outputs": [
    {
     "data": {
      "text/plain": [
       "['categoryid', 'pages']"
      ]
     },
     "execution_count": 26,
     "metadata": {},
     "output_type": "execute_result"
    }
   ],
   "source": [
    "response.keys()"
   ]
  },
  {
   "cell_type": "code",
   "execution_count": 27,
   "metadata": {
    "collapsed": false
   },
   "outputs": [
    {
     "data": {
      "text/plain": [
       "{'pageid': 43460147, 'title': 'List of submarine sandwich restaurants'}"
      ]
     },
     "execution_count": 27,
     "metadata": {},
     "output_type": "execute_result"
    }
   ],
   "source": [
    "response['pages'][0]"
   ]
  },
  {
   "cell_type": "code",
   "execution_count": 29,
   "metadata": {
    "collapsed": false
   },
   "outputs": [
    {
     "name": "stdout",
     "output_type": "stream",
     "text": [
      "[43460147, 31940835, 32012383, 2371008, 5778816, 6586487, 41988612, 5990698, 2321267, 49400668, 11588636, 2637586, 6184077, 1419741, 1079651, 8947332, 5080995, 41981819, 1703557, 50192420, 45068874, 10405436, 11027136, 4828182, 3494709, 447854, 828487, 5052187, 3552347, 3326158, 1617094, 243649, 2959119, 13705413, 6793467, 49401105, 6834956, 54581, 1352724, 41991980, 18986355, 3175570, 34221056]\n"
     ]
    }
   ],
   "source": [
    "pageid_list = []\n",
    "title_list = []\n",
    "counter = 0\n",
    "for page in response['pages']:\n",
    "    pageid_list.append(response['pages'][counter]['pageid'])\n",
    "    title_list.append(response['pages'][counter]['title'])\n",
    "    counter += 1\n",
    "    \n",
    "print pageid_list"
   ]
  },
  {
   "cell_type": "code",
   "execution_count": 30,
   "metadata": {
    "collapsed": false
   },
   "outputs": [
    {
     "name": "stdout",
     "output_type": "stream",
     "text": [
      "['List of submarine sandwich restaurants', 'Big Bite Submarines', 'Big John Steak & Onion', 'Blimpie', \"Capriotti's\", \"Charley's Grilled Subs\", 'Template:Cheesesteak', 'Cousins Subs', \"D'Angelo Sandwich Shops\", \"Dalessandro's Steaks\", \"DiBella's\", 'Earl of Sandwich (restaurant)', \"Erbert & Gerbert's\", 'Firehouse Subs', \"Geno's Steaks\", \"Jerry's Subs & Pizza\", \"Jersey Mike's Subs\", \"Jim's Steaks\", \"Jimmy John's\", \"Joe's Steaks + Soda Shop\", \"John's Roast Pork\", \"Larry's Giant Subs\", \"Lenny's Sub Shop\", \"Milio's Sandwiches\", \"Moe's Italian Sandwiches\", 'Mr. Sub', \"Pat's King of Steaks\", 'Penn Station (restaurant)', 'Planet Sub', 'Port of Subs', 'Potbelly Sandwich Works', 'Quiznos', \"Schlotzsky's\", 'Spicy Pickle', 'Steak Escape', \"Steve's Prince of Steaks\", 'Submarina', 'Subway (restaurant)', \"Togo's\", \"Tony Luke's\", \"Tubby's\", 'Upper Crust (restaurant chain)', \"Zero's Subs\"]\n"
     ]
    }
   ],
   "source": [
    "print title_list"
   ]
  },
  {
   "cell_type": "code",
   "execution_count": 32,
   "metadata": {
    "collapsed": false
   },
   "outputs": [
    {
     "name": "stdout",
     "output_type": "stream",
     "text": [
      "[(43460147, 'List of submarine sandwich restaurants'), (31940835, 'Big Bite Submarines'), (32012383, 'Big John Steak & Onion'), (2371008, 'Blimpie'), (5778816, \"Capriotti's\"), (6586487, \"Charley's Grilled Subs\"), (41988612, 'Template:Cheesesteak'), (5990698, 'Cousins Subs'), (2321267, \"D'Angelo Sandwich Shops\"), (49400668, \"Dalessandro's Steaks\"), (11588636, \"DiBella's\"), (2637586, 'Earl of Sandwich (restaurant)'), (6184077, \"Erbert & Gerbert's\"), (1419741, 'Firehouse Subs'), (1079651, \"Geno's Steaks\"), (8947332, \"Jerry's Subs & Pizza\"), (5080995, \"Jersey Mike's Subs\"), (41981819, \"Jim's Steaks\"), (1703557, \"Jimmy John's\"), (50192420, \"Joe's Steaks + Soda Shop\"), (45068874, \"John's Roast Pork\"), (10405436, \"Larry's Giant Subs\"), (11027136, \"Lenny's Sub Shop\"), (4828182, \"Milio's Sandwiches\"), (3494709, \"Moe's Italian Sandwiches\"), (447854, 'Mr. Sub'), (828487, \"Pat's King of Steaks\"), (5052187, 'Penn Station (restaurant)'), (3552347, 'Planet Sub'), (3326158, 'Port of Subs'), (1617094, 'Potbelly Sandwich Works'), (243649, 'Quiznos'), (2959119, \"Schlotzsky's\"), (13705413, 'Spicy Pickle'), (6793467, 'Steak Escape'), (49401105, \"Steve's Prince of Steaks\"), (6834956, 'Submarina'), (54581, 'Subway (restaurant)'), (1352724, \"Togo's\"), (41991980, \"Tony Luke's\"), (18986355, \"Tubby's\"), (3175570, 'Upper Crust (restaurant chain)'), (34221056, \"Zero's Subs\")]\n"
     ]
    }
   ],
   "source": [
    "zipped_title_pageid = zip(pageid_list, title_list)\n",
    "print zipped_title_pageid"
   ]
  },
  {
   "cell_type": "code",
   "execution_count": 33,
   "metadata": {
    "collapsed": false
   },
   "outputs": [
    {
     "name": "stdout",
     "output_type": "stream",
     "text": [
      "Connected to server joshuacook.me.\n",
      "Connected to server joshuacook.me.\n",
      "Connected to server joshuacook.me.\n",
      "Connected to server joshuacook.me.\n",
      "Connected to server joshuacook.me.\n",
      "Connected to server joshuacook.me.\n",
      "Connected to server joshuacook.me.\n",
      "Connected to server joshuacook.me.\n",
      "Connected to server joshuacook.me.\n",
      "Connected to server joshuacook.me.\n",
      "Connected to server joshuacook.me.\n",
      "Connected to server joshuacook.me.\n",
      "Connected to server joshuacook.me.\n",
      "Connected to server joshuacook.me.\n",
      "Connected to server joshuacook.me.\n",
      "Connected to server joshuacook.me.\n",
      "Connected to server joshuacook.me.\n",
      "Connected to server joshuacook.me.\n",
      "Connected to server joshuacook.me.\n",
      "Connected to server joshuacook.me.\n",
      "Connected to server joshuacook.me.\n",
      "Connected to server joshuacook.me.\n",
      "Connected to server joshuacook.me.\n",
      "Connected to server joshuacook.me.\n",
      "Connected to server joshuacook.me.\n",
      "Connected to server joshuacook.me.\n",
      "Connected to server joshuacook.me.\n",
      "Connected to server joshuacook.me.\n",
      "Connected to server joshuacook.me.\n",
      "Connected to server joshuacook.me.\n",
      "Connected to server joshuacook.me.\n",
      "Connected to server joshuacook.me.\n",
      "Connected to server joshuacook.me.\n",
      "Connected to server joshuacook.me.\n",
      "Connected to server joshuacook.me.\n",
      "Connected to server joshuacook.me.\n",
      "Connected to server joshuacook.me.\n",
      "Connected to server joshuacook.me.\n",
      "Connected to server joshuacook.me.\n",
      "Connected to server joshuacook.me.\n",
      "Connected to server joshuacook.me.\n",
      "Connected to server joshuacook.me.\n",
      "Connected to server joshuacook.me.\n"
     ]
    }
   ],
   "source": [
    "for page, title in zipped_title_pageid:\n",
    "    page_response = wiki.query_page(str(page))\n",
    "    db.create_or_update_page_in_database(page, int(cat_ids[0]), title, page_response['text'])"
   ]
  },
  {
   "cell_type": "code",
   "execution_count": null,
   "metadata": {
    "collapsed": true
   },
   "outputs": [],
   "source": []
  }
 ],
 "metadata": {
  "anaconda-cloud": {},
  "kernelspec": {
   "display_name": "Python 2",
   "language": "python",
   "name": "python2"
  },
  "language_info": {
   "codemirror_mode": {
    "name": "ipython",
    "version": 2
   },
   "file_extension": ".py",
   "mimetype": "text/x-python",
   "name": "python",
   "nbconvert_exporter": "python",
   "pygments_lexer": "ipython2",
   "version": "2.7.13"
  }
 },
 "nbformat": 4,
 "nbformat_minor": 0
}
