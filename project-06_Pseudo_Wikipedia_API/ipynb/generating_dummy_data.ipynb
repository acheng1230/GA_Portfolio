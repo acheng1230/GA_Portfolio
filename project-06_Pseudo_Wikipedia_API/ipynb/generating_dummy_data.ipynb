{
 "cells": [
  {
   "cell_type": "code",
   "execution_count": 1,
   "metadata": {
    "collapsed": true
   },
   "outputs": [],
   "source": [
    "import numpy as np\n",
    "import random"
   ]
  },
  {
   "cell_type": "code",
   "execution_count": 2,
   "metadata": {
    "collapsed": false
   },
   "outputs": [
    {
     "data": {
      "text/plain": [
       "[0, 1, 2, 3, 4, 5, 6, 7, 8, 9, 10, 11, 12, 13, 14, 15, 16, 17]"
      ]
     },
     "execution_count": 2,
     "metadata": {},
     "output_type": "execute_result"
    }
   ],
   "source": [
    "categories = list(range(18))\n",
    "categories"
   ]
  },
  {
   "cell_type": "code",
   "execution_count": 3,
   "metadata": {
    "collapsed": false
   },
   "outputs": [],
   "source": [
    "X = []\n",
    "y = []\n",
    "for _ in range(1800):\n",
    "    dummy_vec = np.random.rand(500)\n",
    "    dummy_cat = random.sample(categories, 1)\n",
    "    dummy_vec += dummy_cat\n",
    "    y.append(dummy_cat)\n",
    "    X.append(dummy_vec)\n",
    "\n"
   ]
  },
  {
   "cell_type": "code",
   "execution_count": 4,
   "metadata": {
    "collapsed": false
   },
   "outputs": [],
   "source": [
    "X = np.array(X)\n",
    "y = np.array(y)"
   ]
  },
  {
   "cell_type": "code",
   "execution_count": 5,
   "metadata": {
    "collapsed": false
   },
   "outputs": [
    {
     "data": {
      "text/plain": [
       "((1800, 500), (1800, 1))"
      ]
     },
     "execution_count": 5,
     "metadata": {},
     "output_type": "execute_result"
    }
   ],
   "source": [
    "X.shape, y.shape"
   ]
  },
  {
   "cell_type": "code",
   "execution_count": 6,
   "metadata": {
    "collapsed": true
   },
   "outputs": [],
   "source": [
    "import pandas as pd"
   ]
  },
  {
   "cell_type": "code",
   "execution_count": 7,
   "metadata": {
    "collapsed": false
   },
   "outputs": [],
   "source": [
    "data_df = pd.DataFrame(X)\n",
    "target_df = pd.DataFrame(y)"
   ]
  },
  {
   "cell_type": "code",
   "execution_count": 8,
   "metadata": {
    "collapsed": true
   },
   "outputs": [],
   "source": [
    "from sklearn.preprocessing import StandardScaler"
   ]
  },
  {
   "cell_type": "code",
   "execution_count": 9,
   "metadata": {
    "collapsed": true
   },
   "outputs": [],
   "source": [
    "from sklearn.model_selection import train_test_split"
   ]
  },
  {
   "cell_type": "code",
   "execution_count": 10,
   "metadata": {
    "collapsed": true
   },
   "outputs": [],
   "source": [
    "X_train, X_test, y_train, y_test = train_test_split(data_df, target_df)"
   ]
  },
  {
   "cell_type": "code",
   "execution_count": 11,
   "metadata": {
    "collapsed": true
   },
   "outputs": [],
   "source": [
    "this_sc = StandardScaler()\n",
    "this_sc.fit(X_train)\n",
    "X_train = this_sc.transform(X_train)\n",
    "X_test = this_sc.transform(X_test)"
   ]
  },
  {
   "cell_type": "code",
   "execution_count": 12,
   "metadata": {
    "collapsed": true
   },
   "outputs": [],
   "source": [
    "from sklearn.ensemble import RandomForestClassifier\n",
    "this_rf = RandomForestClassifier()"
   ]
  },
  {
   "cell_type": "code",
   "execution_count": 13,
   "metadata": {
    "collapsed": false
   },
   "outputs": [
    {
     "name": "stderr",
     "output_type": "stream",
     "text": [
      "/opt/conda/envs/general_assembly_dsi/lib/python2.7/site-packages/ipykernel/__main__.py:1: DataConversionWarning: A column-vector y was passed when a 1d array was expected. Please change the shape of y to (n_samples,), for example using ravel().\n",
      "  if __name__ == '__main__':\n"
     ]
    },
    {
     "data": {
      "text/plain": [
       "RandomForestClassifier(bootstrap=True, class_weight=None, criterion='gini',\n",
       "            max_depth=None, max_features='auto', max_leaf_nodes=None,\n",
       "            min_impurity_split=1e-07, min_samples_leaf=1,\n",
       "            min_samples_split=2, min_weight_fraction_leaf=0.0,\n",
       "            n_estimators=10, n_jobs=1, oob_score=False, random_state=None,\n",
       "            verbose=0, warm_start=False)"
      ]
     },
     "execution_count": 13,
     "metadata": {},
     "output_type": "execute_result"
    }
   ],
   "source": [
    "this_rf.fit(X_train, y_train)"
   ]
  },
  {
   "cell_type": "code",
   "execution_count": 14,
   "metadata": {
    "collapsed": false
   },
   "outputs": [
    {
     "data": {
      "text/plain": [
       "(1.0, 1.0)"
      ]
     },
     "execution_count": 14,
     "metadata": {},
     "output_type": "execute_result"
    }
   ],
   "source": [
    "this_rf.score(X_train, y_train), this_rf.score(X_test, y_test)"
   ]
  },
  {
   "cell_type": "code",
   "execution_count": 15,
   "metadata": {
    "collapsed": false
   },
   "outputs": [
    {
     "data": {
      "text/html": [
       "<div>\n",
       "<table border=\"1\" class=\"dataframe\">\n",
       "  <thead>\n",
       "    <tr style=\"text-align: right;\">\n",
       "      <th></th>\n",
       "      <th>0</th>\n",
       "      <th>1</th>\n",
       "      <th>2</th>\n",
       "      <th>3</th>\n",
       "      <th>4</th>\n",
       "      <th>5</th>\n",
       "      <th>6</th>\n",
       "      <th>7</th>\n",
       "      <th>8</th>\n",
       "      <th>9</th>\n",
       "      <th>...</th>\n",
       "      <th>490</th>\n",
       "      <th>491</th>\n",
       "      <th>492</th>\n",
       "      <th>493</th>\n",
       "      <th>494</th>\n",
       "      <th>495</th>\n",
       "      <th>496</th>\n",
       "      <th>497</th>\n",
       "      <th>498</th>\n",
       "      <th>499</th>\n",
       "    </tr>\n",
       "  </thead>\n",
       "  <tbody>\n",
       "    <tr>\n",
       "      <th>0</th>\n",
       "      <td>14.165028</td>\n",
       "      <td>14.615896</td>\n",
       "      <td>14.830500</td>\n",
       "      <td>14.257994</td>\n",
       "      <td>14.714631</td>\n",
       "      <td>14.504669</td>\n",
       "      <td>14.280482</td>\n",
       "      <td>14.207411</td>\n",
       "      <td>14.452582</td>\n",
       "      <td>14.927469</td>\n",
       "      <td>...</td>\n",
       "      <td>14.943002</td>\n",
       "      <td>14.064252</td>\n",
       "      <td>14.268849</td>\n",
       "      <td>14.848634</td>\n",
       "      <td>14.195897</td>\n",
       "      <td>14.531722</td>\n",
       "      <td>14.090559</td>\n",
       "      <td>14.119092</td>\n",
       "      <td>14.506809</td>\n",
       "      <td>14.757699</td>\n",
       "    </tr>\n",
       "    <tr>\n",
       "      <th>1</th>\n",
       "      <td>12.855324</td>\n",
       "      <td>12.793917</td>\n",
       "      <td>12.729749</td>\n",
       "      <td>12.794930</td>\n",
       "      <td>12.747433</td>\n",
       "      <td>12.141552</td>\n",
       "      <td>12.230415</td>\n",
       "      <td>12.578012</td>\n",
       "      <td>12.211342</td>\n",
       "      <td>12.282486</td>\n",
       "      <td>...</td>\n",
       "      <td>12.732838</td>\n",
       "      <td>12.102681</td>\n",
       "      <td>12.962454</td>\n",
       "      <td>12.110202</td>\n",
       "      <td>12.879857</td>\n",
       "      <td>12.697156</td>\n",
       "      <td>12.366265</td>\n",
       "      <td>12.769213</td>\n",
       "      <td>12.304675</td>\n",
       "      <td>12.592168</td>\n",
       "    </tr>\n",
       "    <tr>\n",
       "      <th>2</th>\n",
       "      <td>15.007599</td>\n",
       "      <td>15.336407</td>\n",
       "      <td>15.219349</td>\n",
       "      <td>15.057727</td>\n",
       "      <td>15.265256</td>\n",
       "      <td>15.972216</td>\n",
       "      <td>15.355854</td>\n",
       "      <td>15.782001</td>\n",
       "      <td>15.371189</td>\n",
       "      <td>15.000644</td>\n",
       "      <td>...</td>\n",
       "      <td>15.020168</td>\n",
       "      <td>15.315965</td>\n",
       "      <td>15.877401</td>\n",
       "      <td>15.472820</td>\n",
       "      <td>15.093367</td>\n",
       "      <td>15.932183</td>\n",
       "      <td>15.488783</td>\n",
       "      <td>15.668009</td>\n",
       "      <td>15.864816</td>\n",
       "      <td>15.299576</td>\n",
       "    </tr>\n",
       "    <tr>\n",
       "      <th>3</th>\n",
       "      <td>4.131227</td>\n",
       "      <td>4.366987</td>\n",
       "      <td>4.851463</td>\n",
       "      <td>4.545104</td>\n",
       "      <td>4.367868</td>\n",
       "      <td>4.307612</td>\n",
       "      <td>4.090064</td>\n",
       "      <td>4.022943</td>\n",
       "      <td>4.395824</td>\n",
       "      <td>4.550006</td>\n",
       "      <td>...</td>\n",
       "      <td>4.964524</td>\n",
       "      <td>4.373641</td>\n",
       "      <td>4.704897</td>\n",
       "      <td>4.697002</td>\n",
       "      <td>4.035211</td>\n",
       "      <td>4.298097</td>\n",
       "      <td>4.244615</td>\n",
       "      <td>4.892160</td>\n",
       "      <td>4.992789</td>\n",
       "      <td>4.271837</td>\n",
       "    </tr>\n",
       "    <tr>\n",
       "      <th>4</th>\n",
       "      <td>1.880128</td>\n",
       "      <td>1.171934</td>\n",
       "      <td>1.218055</td>\n",
       "      <td>1.255744</td>\n",
       "      <td>1.911452</td>\n",
       "      <td>1.409456</td>\n",
       "      <td>1.327337</td>\n",
       "      <td>1.167314</td>\n",
       "      <td>1.657206</td>\n",
       "      <td>1.291948</td>\n",
       "      <td>...</td>\n",
       "      <td>1.344880</td>\n",
       "      <td>1.609038</td>\n",
       "      <td>1.556111</td>\n",
       "      <td>1.783266</td>\n",
       "      <td>1.703892</td>\n",
       "      <td>1.997117</td>\n",
       "      <td>1.127375</td>\n",
       "      <td>1.464958</td>\n",
       "      <td>1.843144</td>\n",
       "      <td>1.585227</td>\n",
       "    </tr>\n",
       "  </tbody>\n",
       "</table>\n",
       "<p>5 rows × 500 columns</p>\n",
       "</div>"
      ],
      "text/plain": [
       "         0          1          2          3          4          5    \\\n",
       "0  14.165028  14.615896  14.830500  14.257994  14.714631  14.504669   \n",
       "1  12.855324  12.793917  12.729749  12.794930  12.747433  12.141552   \n",
       "2  15.007599  15.336407  15.219349  15.057727  15.265256  15.972216   \n",
       "3   4.131227   4.366987   4.851463   4.545104   4.367868   4.307612   \n",
       "4   1.880128   1.171934   1.218055   1.255744   1.911452   1.409456   \n",
       "\n",
       "         6          7          8          9      ...            490  \\\n",
       "0  14.280482  14.207411  14.452582  14.927469    ...      14.943002   \n",
       "1  12.230415  12.578012  12.211342  12.282486    ...      12.732838   \n",
       "2  15.355854  15.782001  15.371189  15.000644    ...      15.020168   \n",
       "3   4.090064   4.022943   4.395824   4.550006    ...       4.964524   \n",
       "4   1.327337   1.167314   1.657206   1.291948    ...       1.344880   \n",
       "\n",
       "         491        492        493        494        495        496  \\\n",
       "0  14.064252  14.268849  14.848634  14.195897  14.531722  14.090559   \n",
       "1  12.102681  12.962454  12.110202  12.879857  12.697156  12.366265   \n",
       "2  15.315965  15.877401  15.472820  15.093367  15.932183  15.488783   \n",
       "3   4.373641   4.704897   4.697002   4.035211   4.298097   4.244615   \n",
       "4   1.609038   1.556111   1.783266   1.703892   1.997117   1.127375   \n",
       "\n",
       "         497        498        499  \n",
       "0  14.119092  14.506809  14.757699  \n",
       "1  12.769213  12.304675  12.592168  \n",
       "2  15.668009  15.864816  15.299576  \n",
       "3   4.892160   4.992789   4.271837  \n",
       "4   1.464958   1.843144   1.585227  \n",
       "\n",
       "[5 rows x 500 columns]"
      ]
     },
     "execution_count": 15,
     "metadata": {},
     "output_type": "execute_result"
    }
   ],
   "source": [
    "data_df.head()"
   ]
  },
  {
   "cell_type": "code",
   "execution_count": 16,
   "metadata": {
    "collapsed": false
   },
   "outputs": [
    {
     "data": {
      "text/html": [
       "<div>\n",
       "<table border=\"1\" class=\"dataframe\">\n",
       "  <thead>\n",
       "    <tr style=\"text-align: right;\">\n",
       "      <th></th>\n",
       "      <th>0</th>\n",
       "    </tr>\n",
       "  </thead>\n",
       "  <tbody>\n",
       "    <tr>\n",
       "      <th>0</th>\n",
       "      <td>14</td>\n",
       "    </tr>\n",
       "    <tr>\n",
       "      <th>1</th>\n",
       "      <td>12</td>\n",
       "    </tr>\n",
       "    <tr>\n",
       "      <th>2</th>\n",
       "      <td>15</td>\n",
       "    </tr>\n",
       "    <tr>\n",
       "      <th>3</th>\n",
       "      <td>4</td>\n",
       "    </tr>\n",
       "    <tr>\n",
       "      <th>4</th>\n",
       "      <td>1</td>\n",
       "    </tr>\n",
       "  </tbody>\n",
       "</table>\n",
       "</div>"
      ],
      "text/plain": [
       "    0\n",
       "0  14\n",
       "1  12\n",
       "2  15\n",
       "3   4\n",
       "4   1"
      ]
     },
     "execution_count": 16,
     "metadata": {},
     "output_type": "execute_result"
    }
   ],
   "source": [
    "target_df.head()"
   ]
  },
  {
   "cell_type": "code",
   "execution_count": 17,
   "metadata": {
    "collapsed": true
   },
   "outputs": [],
   "source": [
    "data_df.to_pickle('data.pickle')"
   ]
  },
  {
   "cell_type": "code",
   "execution_count": 18,
   "metadata": {
    "collapsed": true
   },
   "outputs": [],
   "source": [
    "target_df.to_pickle('target.pickle')"
   ]
  },
  {
   "cell_type": "code",
   "execution_count": null,
   "metadata": {
    "collapsed": true
   },
   "outputs": [],
   "source": []
  }
 ],
 "metadata": {
  "kernelspec": {
   "display_name": "Python 2",
   "language": "python",
   "name": "python2"
  },
  "language_info": {
   "codemirror_mode": {
    "name": "ipython",
    "version": 2
   },
   "file_extension": ".py",
   "mimetype": "text/x-python",
   "name": "python",
   "nbconvert_exporter": "python",
   "pygments_lexer": "ipython2",
   "version": "2.7.13"
  }
 },
 "nbformat": 4,
 "nbformat_minor": 2
}
